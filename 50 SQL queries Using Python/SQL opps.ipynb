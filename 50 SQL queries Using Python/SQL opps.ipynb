{
 "cells": [
  {
   "cell_type": "markdown",
   "metadata": {},
   "source": [
    "# SQL with Python\n",
    "#### OOPs concepts are extensively used to increase reusablity of code \n",
    "#### Every Step is logged into a file using  custom logging class"
   ]
  },
  {
   "cell_type": "markdown",
   "metadata": {},
   "source": [
    "### Data Set used: Carbon Nanotubes\n",
    "### Data Set URL: https://archive.ics.uci.edu/ml/datasets/Carbon+Nanotubes#\n",
    "### Number of Instances: 10721"
   ]
  },
  {
   "cell_type": "markdown",
   "metadata": {},
   "source": [
    "# Logging Class"
   ]
  },
  {
   "cell_type": "code",
   "execution_count": 4,
   "metadata": {},
   "outputs": [],
   "source": [
    "from datetime import datetime #importing DateTime package\n",
    "class App_Logger:\n",
    "    '''\n",
    "    It is used save logs into a file\n",
    "    \n",
    "    Parameters\n",
    "    ----------\n",
    "    file: log file name Default is logfile.log\n",
    "    \n",
    "    '''\n",
    "    def __init__(self,file=\"logfile.log\"):\n",
    "        self.f_name =file\n",
    "    def log(self,log_type,log_msg):\n",
    "        '''\n",
    "        Function log to save logs and log type in file\n",
    "        \n",
    "        Parameters\n",
    "        ----------\n",
    "        log_type: Type of log-info,error,warning etc\n",
    "        log_msg: Log to be saved(message)\n",
    "\n",
    "        '''\n",
    "        now = datetime.now() #current time\n",
    "        current_time = now.strftime(\"%d-%m-%Y %H:%M:%S\") #changing time format\n",
    "        f= open(self.f_name, \"a+\") #opening file in append + mode\n",
    "        f.write(current_time+\",\"+log_type+\",\"+log_msg+\"\\n\") #writing log type and message in log file\n",
    "        f.close() #closing log file\n"
   ]
  },
  {
   "cell_type": "markdown",
   "metadata": {},
   "source": [
    "# SQL Class"
   ]
  },
  {
   "cell_type": "code",
   "execution_count": 5,
   "metadata": {},
   "outputs": [],
   "source": [
    "import mysql.connector as connection #importing MYSQL connector\n",
    "import pandas as pd #importing pandas\n",
    "class sql:\n",
    "    '''\n",
    "    SQL class through with we can perform most of the SQL tasks using python\n",
    "    \n",
    "    Parameters\n",
    "    ----------\n",
    "    host: host URL of MySQL server\n",
    "    user: user name\n",
    "    passwd: password\n",
    "    db: database name- default empty string (\"\")\n",
    "    '''\n",
    " \n",
    "    def __init__(self,host,user,passwd,db=\"\"): \n",
    "        '''\n",
    "        init function of sql class       \n",
    "        '''\n",
    "        self.host=host\n",
    "        self.user=user\n",
    "        self.passwd=passwd\n",
    "        self.db=db\n",
    "        self.logger=App_Logger(\"logfile.txt\") #creating App_Logger object\n",
    "        self.logger.log(\"info\", \"SQL object created\") #logging\n",
    "    def conn(self):\n",
    "        '''\n",
    "        Function conn is used to make connection to SQL server\n",
    "        \n",
    "        Parameters\n",
    "        ----------\n",
    "\n",
    "        '''\n",
    "        try:\n",
    "            if self.db==\"\":\n",
    "                #connection without db\n",
    "                return connection.connect(host=self.host,user=self.user,passwd=self.passwd)\n",
    "            else:\n",
    "               # connection with db\n",
    "                return connection.connect(host=self.host,user=self.user, database=self.db,passwd=self.passwd)\n",
    "        except Exception as e:\n",
    "            self.logger.log(\"error\", f\"connection error : {str(e)}\") #logging\n",
    "            print(str(e))\n",
    "            \n",
    "    def db_list(self):\n",
    "        '''\n",
    "        Function db_list is used to show databases list\n",
    "        \n",
    "        Parameters\n",
    "        ----------\n",
    "        '''\n",
    "        try:\n",
    "            conn=self.conn() #making connection\n",
    "            cursor = conn.cursor() #create a cursor to execute queries\n",
    "            q=\"SHOW DATABASES\" #qyery\n",
    "            cursor.execute(q) #executing Query\n",
    "            print(cursor.fetchall()) #printing result\n",
    "            conn.close() #connection closed\n",
    "            self.logger.log(\"info\", \"DB list displayed\") #logged\n",
    "        except Exception as e:\n",
    "            conn.close()#connection closed\n",
    "            print(str(e))\n",
    "            self.logger.log(\"error\", f\"db list error : {str(e)}\") #logging\n",
    "    \n",
    "    def create_db(self,db_name):\n",
    "        '''\n",
    "        Function create_ db is used to create a new database\n",
    "        \n",
    "        Parameters\n",
    "        ----------\n",
    "        db_name: database name\n",
    "        '''\n",
    "        try:\n",
    "            conn=self.conn() #making connection\n",
    "            cursor = conn.cursor() #create a cursor to execute queries\n",
    "            cursor.execute(f\"create database {db_name}\") #executing Query\n",
    "            self.db=db_name #Initializing database name to class variable so that it can be used while making next connection with server\n",
    "            conn.close()#connection closed\n",
    "            self.logger.log(\"info\", f\"{db_name} DB created\") #logging\n",
    "        except Exception as e:\n",
    "            conn.close()#connection closed\n",
    "            print(str(e))\n",
    "            self.logger.log(\"error\", f\"db not created error : {str(e)}\") #logging\n",
    "    \n",
    "    def drop_db(self,db_name):\n",
    "        '''\n",
    "        Function drop_ db is used to drop a database\n",
    "        \n",
    "        Parameters\n",
    "        ----------\n",
    "        db_name: database name\n",
    "        '''\n",
    "        try:\n",
    "            conn=self.conn() #making connection\n",
    "            cursor = conn.cursor() #create a cursor to execute queries\n",
    "            cursor.execute(f\"drop database {db_name}\") #executing Query\n",
    "            conn.close() #connection closed\n",
    "            self.logger.log(\"info\", f\"{db_name} DB droped\") #logging\n",
    "        except Exception as e:\n",
    "            conn.close()#connection closed\n",
    "            print(str(e))\n",
    "            self.logger.log(\"error\", f\"db not Droped error : {str(e)}\") #logging\n",
    "            \n",
    "    def create_table(self,table_name,columns):\n",
    "        '''\n",
    "        Function create_ table is used to create a new table\n",
    "        \n",
    "        Parameters\n",
    "        ----------\n",
    "        table_name: table name\n",
    "        columns: columns names with data type and other discription in SQL format\n",
    "        '''\n",
    "        try:\n",
    "            conn=self.conn() #making connection\n",
    "            cursor = conn.cursor() #create a cursor to execute queries\n",
    "            cursor.execute(f\"CREATE TABLE {table_name} ({columns})\") #executing Query\n",
    "            conn.close() #connection closed\n",
    "            self.logger.log(\"info\", f\"{table_name} table created with columns: {columns}\") #logging\n",
    "        except Exception as e:\n",
    "            conn.close() #connection closed\n",
    "            print(str(e))\n",
    "            self.logger.log(\"error\", f\"table not created error : {str(e)}\") #logging\n",
    "            \n",
    "            \n",
    "    def insert(self,table_name,data):\n",
    "        '''\n",
    "        Function insert is used to insert value in table\n",
    "        \n",
    "        Parameters\n",
    "        ----------\n",
    "        table_name: table name\n",
    "        data: values to be inserted\n",
    "        '''\n",
    "        try:\n",
    "            conn=self.conn() #making connection\n",
    "            cursor = conn.cursor() #create a cursor to execute queries\n",
    "            \n",
    "            cursor.execute(f\"INSERT INTO {table_name} VALUES ({data})\") #executing Query\n",
    "            conn.commit() #commiting the query\n",
    "            conn.close() #connection closed\n",
    "        except Exception as e:\n",
    "            conn.close() #connection closed\n",
    "            self.logger.log(\"error\", f\"insert error : {str(e)}\") #logging\n",
    "            \n",
    "            \n",
    "    def dump_file(self,f_name,t_name,columns,csv=True):\n",
    "        '''\n",
    "        Function dump_file is used to dump a csv into a table\n",
    "        \n",
    "        Parameters\n",
    "        ----------\n",
    "        f_name: file name\n",
    "        t_name: table name\n",
    "        columns:  columns names with data type and other discription in SQL format\n",
    "        csv: True if csv file is comma separated otherwise False if csv file is semicolon separated\n",
    "        '''\n",
    "        try:\n",
    "            f=open(f_name,\"r\") #opening file in read mode\n",
    "            f.readline() #reading first line to skip columns line in file\n",
    "            self.create_table(t_name,columns) #creating table\n",
    "            \n",
    "            for line in f.readlines(): #reading file line by line\n",
    "                if csv:\n",
    "                    data=\"\\'\"+line[:-1].replace(\",\",\"\\',\\'\")+\"\\'\"  # data format if comma separated\n",
    "                    print(data)\n",
    "                else:\n",
    "                    data=\"\\'\"+line[:-1].replace(\";\",\"\\',\\'\")+\"\\'\" # data format if semicolon separated\n",
    "                self.insert(t_name,data) #inserting data\n",
    "                \n",
    "            self.logger.log(\"info\", f\"{f_name} file data dumped to {t_name} table\") #logging\n",
    "            \n",
    "        except Exception as e:\n",
    "            print(str(e))\n",
    "            self.logger.log(\"error\", f\"file dump error : {str(e)}\") #logging\n",
    "            \n",
    "\n",
    "    def select_db(self,db_name):\n",
    "        '''\n",
    "        Function select_db is used to select a database\n",
    "        \n",
    "        Parameters\n",
    "        ----------\n",
    "        db_name: database name\n",
    "        '''\n",
    "        self.db=db_name #Initializing database name to class variable so that it can be used while making next connection with server\n",
    "        self.logger.log(\"info\", f\"{db_name} DB selected\") #logging\n",
    "\n",
    "    \n",
    "    def columns(self,t_name):\n",
    "        '''\n",
    "        Function columns is used to print columns names\n",
    "        \n",
    "        Parameters\n",
    "        ----------\n",
    "        t_name: table name\n",
    "        '''\n",
    "        try:\n",
    "            conn=self.conn() #making connection\n",
    "            cursor = conn.cursor() #create a cursor to execute queries\n",
    "            cursor.execute(f\"SELECT * FROM INFORMATION_SCHEMA.COLUMNS WHERE TABLE_NAME = '{t_name}' \") #executing Query\n",
    "            for result in cursor.fetchall(): #printing result \n",
    "                print(result[3],end=\",\")\n",
    "            conn.close() #connection closed\n",
    "            self.logger.log(\"info\", f\"columns names displayed\") #logging\n",
    "        except Exception as e:\n",
    "            conn.close() #connection closed\n",
    "            self.logger.log(\"error\", f\"columns name not displayed : {str(e)} \") #logging\n",
    "  \n",
    "\n",
    "    def query(self,query):\n",
    "        '''\n",
    "        Function query is used to run a SQL query \n",
    "        \n",
    "        Parameters\n",
    "        ----------\n",
    "        query: SQL query\n",
    "        '''\n",
    "        try:\n",
    "            conn=self.conn() #making connection\n",
    "            cursor = conn.cursor() #create a cursor to execute queries\n",
    "            cursor.execute(query) #executing Query\n",
    "            for result in cursor.fetchall(): #printing result line by line\n",
    "                print(result)\n",
    "                \n",
    "\n",
    "            conn.close() #connection closed\n",
    "            self.logger.log(\"info\", f\"Query is performed : {query} \") #logging\n",
    "        except Exception as e:\n",
    "            conn.close() #connection closed\n",
    "            self.logger.log(\"error\", f\"Query not performed : {query} : {str(e)}\") #logging\n",
    "     \n",
    "\n",
    "    def pd_query(self,query,h=5,t=5):\n",
    "        '''\n",
    "        Function pd_query is used to run a SQL query using pandas\n",
    "        I used it here to get better output format of table\n",
    "        \n",
    "        Parameters\n",
    "        ----------\n",
    "        query: SQL query\n",
    "        h: no. of results from head - default=5\n",
    "        t: no. of results from tail - default=5\n",
    "        '''\n",
    "        try:\n",
    "            df=pd.read_sql_query(query,self.conn()) #executing Query using pandas\n",
    "            print(\"Head\") #printing head of dataframe\n",
    "            print(df.head(h))\n",
    "            if t>0:       #printing Tail of dataframe if tail count is more than 0\n",
    "                print(\"Tail\")\n",
    "                print(df.tail(t))\n",
    "    \n",
    "            self.logger.log(\"info\", f\"Query is performed : {query} \") #logging\n",
    "        except Exception as e:\n",
    "            print(str(e))\n",
    "            self.logger.log(\"error\", f\"Query not performed : {query} : {str(e)}\") #logging\n",
    "    \n"
   ]
  },
  {
   "cell_type": "markdown",
   "metadata": {},
   "source": [
    "### Creating Class Object by passing HOST,USER,PASSWORD"
   ]
  },
  {
   "cell_type": "code",
   "execution_count": 6,
   "metadata": {},
   "outputs": [],
   "source": [
    "ob=sql(\"localhost\",\"root\",\"2001\")\n"
   ]
  },
  {
   "cell_type": "markdown",
   "metadata": {},
   "source": [
    "### Selecting DB UCI"
   ]
  },
  {
   "cell_type": "code",
   "execution_count": 7,
   "metadata": {},
   "outputs": [],
   "source": [
    "ob.select_db(\"UCI\")"
   ]
  },
  {
   "cell_type": "markdown",
   "metadata": {},
   "source": [
    "#### Dumping CSV File"
   ]
  },
  {
   "cell_type": "raw",
   "metadata": {},
   "source": [
    "columns=\"CI_n INT(2),CI_m INT(2),IAC_u VARCHAR(10),IAC_v VARCHAR(10),IAC_w VARCHAR(10),CAC_u VARCHAR(10),CAC_v VARCHAR(10),CAC_w VARCHAR(10)\"\n",
    "  \n",
    "ob.dump_file(\"carbon_nanotubes.csv\",\"test5\",columns)"
   ]
  },
  {
   "cell_type": "code",
   "execution_count": 8,
   "metadata": {},
   "outputs": [
    {
     "name": "stdout",
     "output_type": "stream",
     "text": [
      "CAC_u,CAC_v,CAC_w,CI_m,CI_n,email,IAC_u,IAC_v,IAC_w,"
     ]
    }
   ],
   "source": [
    "# columns names\n",
    "ob.columns(\"test5\")"
   ]
  },
  {
   "cell_type": "markdown",
   "metadata": {},
   "source": [
    "# The SQL SELECT QUERY"
   ]
  },
  {
   "cell_type": "code",
   "execution_count": 9,
   "metadata": {},
   "outputs": [
    {
     "name": "stdout",
     "output_type": "stream",
     "text": [
      "Head\n",
      "   CI_n  CI_m     IAC_u     IAC_v     IAC_w     CAC_u     CAC_v     CAC_w  \\\n",
      "0     2     1  0,679005  0,701318  0,017033  0,721039  0,730232  0,017014   \n",
      "1     2     1  0,717298  0,642129  0,231319  0,738414   0,65675  0,232369   \n",
      "2     2     1  0,489336  0,303751  0,088462  0,477676  0,263221  0,088712   \n",
      "3     2     1  0,413957  0,632996  0,040843  0,408823  0,657897  0,039796   \n",
      "4     2     1  0,334292  0,543401   0,15989  0,303349  0,558807  0,157373   \n",
      "\n",
      "  email  \n",
      "0  None  \n",
      "1  None  \n",
      "2  None  \n",
      "3  None  \n",
      "4  None  \n",
      "Tail\n",
      "       CI_n  CI_m     IAC_u     IAC_v     IAC_w     CAC_u     CAC_v     CAC_w  \\\n",
      "10716    12     6  0,834201  0,399891   0,89127  0,841858  0,405882  0,891356   \n",
      "10717    12     6  0,698374   0,24471  0,962699  0,706555  0,248416  0,962833   \n",
      "10718    12     6  0,923823  0,568913  0,819842  0,929403  0,576284  0,819879   \n",
      "10719    12     6  0,934978  0,602319  0,938889  0,941844  0,610608  0,938755   \n",
      "10720    12     6  0,953664  0,698374  0,962699  0,961243  0,707812  0,962605   \n",
      "\n",
      "      email  \n",
      "10716  None  \n",
      "10717  None  \n",
      "10718  None  \n",
      "10719  None  \n",
      "10720  None  \n"
     ]
    }
   ],
   "source": [
    "#Select all columns\n",
    "ob.pd_query(\"Select * from test5\")"
   ]
  },
  {
   "cell_type": "code",
   "execution_count": 10,
   "metadata": {},
   "outputs": [
    {
     "name": "stdout",
     "output_type": "stream",
     "text": [
      "Head\n",
      "      IAC_u\n",
      "0  0,679005\n",
      "1  0,717298\n",
      "2  0,489336\n",
      "3  0,413957\n",
      "4  0,334292\n",
      "Tail\n",
      "          IAC_u\n",
      "10716  0,834201\n",
      "10717  0,698374\n",
      "10718  0,923823\n",
      "10719  0,934978\n",
      "10720  0,953664\n"
     ]
    }
   ],
   "source": [
    "#Select IAC_u column\n",
    "ob.pd_query(\"Select IAC_u from test5\")"
   ]
  },
  {
   "cell_type": "code",
   "execution_count": 11,
   "metadata": {},
   "outputs": [
    {
     "name": "stdout",
     "output_type": "stream",
     "text": [
      "Head\n",
      "   CI_m\n",
      "0     1\n",
      "1     2\n",
      "2     3\n",
      "3     4\n",
      "4     5\n",
      "Tail\n",
      "   CI_m\n",
      "1     2\n",
      "2     3\n",
      "3     4\n",
      "4     5\n",
      "5     6\n"
     ]
    }
   ],
   "source": [
    "#The SQL SELECT DISTINCT\n",
    "ob.pd_query(\"Select Distinct CI_m from test5\")"
   ]
  },
  {
   "cell_type": "code",
   "execution_count": 12,
   "metadata": {},
   "outputs": [
    {
     "name": "stdout",
     "output_type": "stream",
     "text": [
      "Head\n",
      "   CI_n     IAC_u\n",
      "0     2  0,679005\n",
      "1     2  0,717298\n",
      "2     2  0,489336\n",
      "3     2  0,413957\n",
      "4     2  0,334292\n",
      "Tail\n",
      "    CI_n     IAC_u\n",
      "23     2  0,287448\n",
      "24     2  0,717298\n",
      "25     2  0,489336\n",
      "26     2  0,586043\n",
      "27     2  0,394742\n"
     ]
    }
   ],
   "source": [
    "#The SQL WHERE CLAUSE\n",
    "ob.pd_query(\"Select CI_n,IAC_u from test5 where CI_n=2\")"
   ]
  },
  {
   "cell_type": "code",
   "execution_count": 13,
   "metadata": {},
   "outputs": [
    {
     "name": "stdout",
     "output_type": "stream",
     "text": [
      "Head\n",
      "   CI_n  CI_m     IAC_u\n",
      "0     2     1  0,679005\n",
      "1     2     1  0,717298\n",
      "2     2     1  0,489336\n",
      "3     2     1  0,413957\n",
      "4     2     1  0,334292\n",
      "Tail\n",
      "    CI_n  CI_m     IAC_u\n",
      "23     2     1  0,287448\n",
      "24     2     1  0,717298\n",
      "25     2     1  0,489336\n",
      "26     2     1  0,586043\n",
      "27     2     1  0,394742\n"
     ]
    }
   ],
   "source": [
    "#A WHERE clause with AND\n",
    "ob.pd_query(\"Select CI_n,CI_m,IAC_u from test5 where CI_n=2 and CI_m=1\")"
   ]
  },
  {
   "cell_type": "code",
   "execution_count": 14,
   "metadata": {},
   "outputs": [
    {
     "name": "stdout",
     "output_type": "stream",
     "text": [
      "Head\n",
      "   CI_n     IAC_u\n",
      "0     2  0,679005\n",
      "1     2  0,717298\n",
      "2     2  0,489336\n",
      "3     2  0,413957\n",
      "4     2  0,334292\n",
      "Tail\n",
      "     CI_n     IAC_u\n",
      "151     3  0,209665\n",
      "152     3  0,782959\n",
      "153     3  0,767589\n",
      "154     3  0,790611\n",
      "155     3  0,453671\n"
     ]
    }
   ],
   "source": [
    "#A WHERE clause with OR:\n",
    "ob.pd_query(\"Select CI_n,IAC_u from test5 where CI_n=2 or CI_n=3\")"
   ]
  },
  {
   "cell_type": "code",
   "execution_count": 15,
   "metadata": {},
   "outputs": [
    {
     "name": "stdout",
     "output_type": "stream",
     "text": [
      "Head\n",
      "   CI_n  CI_m     IAC_u\n",
      "0     5     3  0,745844\n",
      "1     5     3  0,586209\n",
      "2     5     3  0,518112\n",
      "3     5     3  0,815513\n",
      "4     5     3  0,777181\n",
      "Tail\n",
      "      CI_n  CI_m     IAC_u\n",
      "1386    12     3  0,651999\n",
      "1387    12     3  0,910487\n",
      "1388    12     3  0,917929\n",
      "1389    12     3  0,882125\n",
      "1390    12     3  0,939273\n"
     ]
    }
   ],
   "source": [
    "#A WHERE clause with NOT\n",
    "ob.pd_query(\"Select CI_n,CI_m,IAC_u from test5 where NOT CI_n=4 and  CI_m=3\")"
   ]
  },
  {
   "cell_type": "code",
   "execution_count": 16,
   "metadata": {},
   "outputs": [
    {
     "name": "stdout",
     "output_type": "stream",
     "text": [
      "Head\n",
      "   CI_n  CI_m     IAC_u\n",
      "0    12     6  0,954851\n",
      "1    12     6  0,954851\n",
      "2    12     6  0,953664\n",
      "3    12     6  0,953664\n",
      "4    12     6  0,953495\n",
      "Tail\n",
      "       CI_n  CI_m     IAC_u\n",
      "10716    12     6  0,046505\n",
      "10717    12     6  0,046336\n",
      "10718    12     6  0,046336\n",
      "10719    12     6  0,045149\n",
      "10720    12     6  0,045149\n"
     ]
    }
   ],
   "source": [
    "#Order By in Descending order\n",
    "ob.pd_query(\"Select CI_n,CI_m,IAC_u from test5 ORDER BY IAC_u DESC\")"
   ]
  },
  {
   "cell_type": "code",
   "execution_count": 17,
   "metadata": {},
   "outputs": [
    {
     "name": "stdout",
     "output_type": "stream",
     "text": [
      "Head\n",
      "   CI_n  CI_m     IAC_u\n",
      "0    12     6  0,045149\n",
      "1    12     6  0,045149\n",
      "2    12     6  0,046336\n",
      "3    12     6  0,046336\n",
      "4    12     6  0,046505\n",
      "Tail\n",
      "       CI_n  CI_m     IAC_u\n",
      "10716    12     6  0,953495\n",
      "10717    12     6  0,953664\n",
      "10718    12     6  0,953664\n",
      "10719    12     6  0,954851\n",
      "10720    12     6  0,954851\n"
     ]
    }
   ],
   "source": [
    "#Order By in Ascending order\n",
    "ob.pd_query(\"Select CI_n,CI_m,IAC_u from test5 ORDER BY IAC_u ASC\")"
   ]
  },
  {
   "cell_type": "markdown",
   "metadata": {},
   "source": [
    "#### The SQL MIN() AND MAX() FUNCTION"
   ]
  },
  {
   "cell_type": "code",
   "execution_count": 18,
   "metadata": {},
   "outputs": [
    {
     "name": "stdout",
     "output_type": "stream",
     "text": [
      "('0,045149',)\n"
     ]
    }
   ],
   "source": [
    "ob.query(\"Select MIN(IAC_u) from test5\")"
   ]
  },
  {
   "cell_type": "code",
   "execution_count": 19,
   "metadata": {},
   "outputs": [
    {
     "name": "stdout",
     "output_type": "stream",
     "text": [
      "('0,954851',)\n"
     ]
    }
   ],
   "source": [
    "ob.query(\"Select MAX(IAC_u) from test5\")"
   ]
  },
  {
   "cell_type": "markdown",
   "metadata": {},
   "source": [
    "#### The SQL COUNT(), AVG() AND SUM() FUNCTION"
   ]
  },
  {
   "cell_type": "code",
   "execution_count": 20,
   "metadata": {},
   "outputs": [
    {
     "name": "stdout",
     "output_type": "stream",
     "text": [
      "(10721,)\n"
     ]
    }
   ],
   "source": [
    "ob.query(\"Select count(IAC_u) from test5\")"
   ]
  },
  {
   "cell_type": "code",
   "execution_count": 21,
   "metadata": {},
   "outputs": [
    {
     "name": "stdout",
     "output_type": "stream",
     "text": [
      "(Decimal('3.3372'),)\n"
     ]
    }
   ],
   "source": [
    "ob.query(\"Select AVG(CI_m) from test5\")"
   ]
  },
  {
   "cell_type": "code",
   "execution_count": 22,
   "metadata": {},
   "outputs": [
    {
     "name": "stdout",
     "output_type": "stream",
     "text": [
      "(Decimal('35778'),)\n"
     ]
    }
   ],
   "source": [
    "ob.query(\"Select sum(CI_m) from test5\")"
   ]
  },
  {
   "cell_type": "markdown",
   "metadata": {},
   "source": [
    "#### The SQL LIKE-OPERATOR"
   ]
  },
  {
   "cell_type": "code",
   "execution_count": 23,
   "metadata": {},
   "outputs": [
    {
     "name": "stdout",
     "output_type": "stream",
     "text": [
      "Head\n",
      "   CI_n  CI_m     IAC_u     IAC_v     IAC_w     CAC_u     CAC_v     CAC_w  \\\n",
      "0    10     6  0,058609  0,303689  0,048204   0,05414  0,301778  0,048155   \n",
      "1    10     6  0,058632  0,254618  0,218272  0,053762  0,252121   0,21841   \n",
      "2    10     6  0,057712  0,278699  0,299904  0,054158  0,276809  0,300036   \n",
      "3    10     6  0,059773   0,24295  0,344122  0,056029  0,240607  0,344272   \n",
      "4    10     6  0,058609  0,303689  0,381537  0,056117  0,302546  0,381544   \n",
      "\n",
      "  email  \n",
      "0  None  \n",
      "1  None  \n",
      "2  None  \n",
      "3  None  \n",
      "4  None  \n",
      "Tail\n",
      "    CI_n  CI_m     IAC_u     IAC_v     IAC_w     CAC_u     CAC_v     CAC_w  \\\n",
      "30    12     6  0,056805  0,189791  0,438889  0,055081  0,182476  0,438845   \n",
      "31    12     6    0,0563  0,364847   0,39127  0,050443  0,357052  0,391238   \n",
      "32    12     6   0,05006  0,332769  0,510318  0,044671  0,324699  0,510211   \n",
      "33    12     6    0,0563  0,364847  0,724604  0,050196  0,356793  0,724611   \n",
      "34    12     6  0,050398  0,215518  0,653175  0,046787  0,207383  0,653093   \n",
      "\n",
      "   email  \n",
      "30  None  \n",
      "31  None  \n",
      "32  None  \n",
      "33  None  \n",
      "34  None  \n"
     ]
    }
   ],
   "source": [
    "# IAC_u starting with 0,05\n",
    "ob.pd_query(\"Select * from test5 WHERE IAC_u LIKE '0,05%'\")"
   ]
  },
  {
   "cell_type": "code",
   "execution_count": 24,
   "metadata": {},
   "outputs": [
    {
     "name": "stdout",
     "output_type": "stream",
     "text": [
      "Head\n",
      "   CI_n  CI_m     IAC_u     IAC_v     IAC_w     CAC_u     CAC_v     CAC_w  \\\n",
      "0     8     5  0,121105  0,154701  0,009571   0,11627  0,150668  0,009618   \n",
      "1     8     5  0,121105  0,154701  0,342904   0,11627  0,150668  0,342952   \n",
      "2     8     5  0,121105  0,154701  0,676237   0,11627  0,150668  0,676285   \n",
      "3    10     1  0,331105  0,091347  0,010314  0,323769  0,079936  0,010593   \n",
      "4    10     1  0,331105  0,091347  0,343648  0,323769  0,079936  0,343926   \n",
      "\n",
      "  email  \n",
      "0  None  \n",
      "1  None  \n",
      "2  None  \n",
      "3  None  \n",
      "4  None  \n",
      "Tail\n",
      "   CI_n  CI_m     IAC_u     IAC_v     IAC_w     CAC_u     CAC_v     CAC_w  \\\n",
      "1     8     5  0,121105  0,154701  0,342904   0,11627  0,150668  0,342952   \n",
      "2     8     5  0,121105  0,154701  0,676237   0,11627  0,150668  0,676285   \n",
      "3    10     1  0,331105  0,091347  0,010314  0,323769  0,079936  0,010593   \n",
      "4    10     1  0,331105  0,091347  0,343648  0,323769  0,079936  0,343926   \n",
      "5    10     1  0,331105  0,091347  0,676981  0,323769  0,079936  0,677259   \n",
      "\n",
      "  email  \n",
      "1  None  \n",
      "2  None  \n",
      "3  None  \n",
      "4  None  \n",
      "5  None  \n"
     ]
    }
   ],
   "source": [
    "# IAC_u ending with 1105\n",
    "ob.pd_query(\"Select * from test5 WHERE IAC_u LIKE '%1105'\")"
   ]
  },
  {
   "cell_type": "code",
   "execution_count": 25,
   "metadata": {},
   "outputs": [
    {
     "name": "stdout",
     "output_type": "stream",
     "text": [
      "Head\n",
      "   CI_n  CI_m     IAC_u     IAC_v     IAC_w     CAC_u     CAC_v     CAC_w  \\\n",
      "0     5     4  0,345522   0,12863  0,575547  0,342738  0,122228   0,57552   \n",
      "1     5     4  0,345522   0,12863   0,90888   0,34165  0,120009  0,908953   \n",
      "2     6     1  0,345989  0,694692  0,273276  0,343994  0,706144  0,273133   \n",
      "3     6     1  0,405345  0,161314    0,2694  0,402438  0,156649   0,26943   \n",
      "4     6     1  0,345989  0,694692  0,606609  0,336665  0,695821  0,607081   \n",
      "\n",
      "  email  \n",
      "0  None  \n",
      "1  None  \n",
      "2  None  \n",
      "3  None  \n",
      "4  None  \n",
      "Tail\n",
      "    CI_n  CI_m     IAC_u     IAC_v     IAC_w     CAC_u     CAC_v     CAC_w  \\\n",
      "44    11     2  0,073345  0,275766   0,84635  0,067427  0,271994  0,846455   \n",
      "45    12     2  0,078345  0,383216  0,063437  0,071642  0,380444  0,063451   \n",
      "46    12     2  0,345943  0,070284  0,078941  0,343653  0,065212  0,079095   \n",
      "47    12     2  0,345943  0,070284  0,412274  0,343533  0,062967  0,412151   \n",
      "48    12     2  0,078345  0,383216  0,730104  0,074681  0,381255  0,730075   \n",
      "\n",
      "   email  \n",
      "44  None  \n",
      "45  None  \n",
      "46  None  \n",
      "47  None  \n",
      "48  None  \n"
     ]
    }
   ],
   "source": [
    " # IAC_u that have \"345\" in any position.\n",
    "ob.pd_query(\"Select * from test5 WHERE IAC_u LIKE '%345%'\")"
   ]
  },
  {
   "cell_type": "code",
   "execution_count": 26,
   "metadata": {},
   "outputs": [
    {
     "name": "stdout",
     "output_type": "stream",
     "text": [
      "Head\n",
      "   CI_n  CI_m     IAC_u     IAC_v     IAC_w     CAC_u     CAC_v     CAC_w  \\\n",
      "0     5     4  0,448065  0,794013  0,264071  0,449231  0,798812  0,263991   \n",
      "1     5     4  0,448065  0,794013  0,597404  0,447709  0,797716   0,59743   \n",
      "2     8     4  0,445855  0,825961  0,193956  0,447673   0,82842  0,194033   \n",
      "3     8     4  0,445855  0,825961   0,52729  0,447956   0,82808   0,52723   \n",
      "4     9     4  0,444105  0,833602  0,366292  0,442813  0,833973  0,366345   \n",
      "\n",
      "  email  \n",
      "0  None  \n",
      "1  None  \n",
      "2  None  \n",
      "3  None  \n",
      "4  None  \n",
      "Tail\n",
      "   CI_n  CI_m     IAC_u     IAC_v     IAC_w     CAC_u     CAC_v     CAC_w  \\\n",
      "1     5     4  0,448065  0,794013  0,597404  0,447709  0,797716   0,59743   \n",
      "2     8     4  0,445855  0,825961  0,193956  0,447673   0,82842  0,194033   \n",
      "3     8     4  0,445855  0,825961   0,52729  0,447956   0,82808   0,52723   \n",
      "4     9     4  0,444105  0,833602  0,366292  0,442813  0,833973  0,366345   \n",
      "5     9     4  0,444105  0,833602  0,699626  0,443531  0,835625  0,699442   \n",
      "\n",
      "  email  \n",
      "1  None  \n",
      "2  None  \n",
      "3  None  \n",
      "4  None  \n",
      "5  None  \n"
     ]
    }
   ],
   "source": [
    "# IAC_u that starts with \"0,44\" and ends with \"5\":\n",
    "ob.pd_query(\"Select * from test5 WHERE IAC_u LIKE '0,44%5'\")"
   ]
  },
  {
   "cell_type": "markdown",
   "metadata": {},
   "source": [
    "#### The SQL IN AND NOT IN OPERATORS"
   ]
  },
  {
   "cell_type": "code",
   "execution_count": 27,
   "metadata": {},
   "outputs": [
    {
     "name": "stdout",
     "output_type": "stream",
     "text": [
      "Head\n",
      "   CI_n  CI_m     IAC_u     IAC_v     IAC_w     CAC_u     CAC_v     CAC_w  \\\n",
      "0     5     1  0,680778  0,825935  0,026903   0,68039   0,83773  0,027645   \n",
      "1     5     1  0,335424  0,662004  0,010773  0,319948  0,658136  0,011449   \n",
      "2     5     1     0,493  0,779265  0,048408  0,483656  0,780342  0,049284   \n",
      "3     5     1  0,460003  0,760702  0,107548  0,449358  0,756888  0,108202   \n",
      "4     5     1  0,790058     0,775  0,064537  0,798133  0,788111  0,065134   \n",
      "\n",
      "  email  \n",
      "0  None  \n",
      "1  None  \n",
      "2  None  \n",
      "3  None  \n",
      "4  None  \n",
      "Tail\n",
      "     CI_n  CI_m     IAC_u     IAC_v     IAC_w     CAC_u     CAC_v     CAC_w  \\\n",
      "714     5     4  0,871532  0,656045  0,846038  0,878005  0,658528  0,846017   \n",
      "715     5     4  0,869273  0,638391  0,919809   0,87764   0,64117  0,919679   \n",
      "716     5     4  0,742121  0,375208  0,952596  0,744456  0,373794  0,952638   \n",
      "717     5     4  0,795071  0,449772  0,990847  0,798836  0,450544  0,990861   \n",
      "718     5     4  0,866034  0,620371  0,993579  0,874819  0,623677  0,993609   \n",
      "\n",
      "    email  \n",
      "714  None  \n",
      "715  None  \n",
      "716  None  \n",
      "717  None  \n",
      "718  None  \n"
     ]
    }
   ],
   "source": [
    "ob.pd_query(\"Select * from test5 WHERE CI_n IN (5,1)\")"
   ]
  },
  {
   "cell_type": "code",
   "execution_count": 28,
   "metadata": {},
   "outputs": [
    {
     "name": "stdout",
     "output_type": "stream",
     "text": [
      "Head\n",
      "   CI_n  CI_m     IAC_u     IAC_v     IAC_w     CAC_u     CAC_v     CAC_w  \\\n",
      "0     4     1  0,798626   0,65477  0,039988  0,812277  0,658326  0,040916   \n",
      "1     4     1  0,794352  0,691116  0,111416  0,807185  0,697932  0,111388   \n",
      "2     4     1  0,212784  0,427407  0,063797  0,198483  0,426673  0,063134   \n",
      "3     4     1  0,560308  0,783502  0,016178  0,565293  0,801366  0,016747   \n",
      "4     4     1  0,516033  0,766319  0,087607  0,518262  0,783893  0,087303   \n",
      "\n",
      "  email  \n",
      "0  None  \n",
      "1  None  \n",
      "2  None  \n",
      "3  None  \n",
      "4  None  \n",
      "Tail\n",
      "      CI_n  CI_m     IAC_u     IAC_v     IAC_w     CAC_u     CAC_v     CAC_w  \\\n",
      "1002     5     4  0,871532  0,656045  0,846038  0,878005  0,658528  0,846017   \n",
      "1003     5     4  0,869273  0,638391  0,919809   0,87764   0,64117  0,919679   \n",
      "1004     5     4  0,742121  0,375208  0,952596  0,744456  0,373794  0,952638   \n",
      "1005     5     4  0,795071  0,449772  0,990847  0,798836  0,450544  0,990861   \n",
      "1006     5     4  0,866034  0,620371  0,993579  0,874819  0,623677  0,993609   \n",
      "\n",
      "     email  \n",
      "1002  None  \n",
      "1003  None  \n",
      "1004  None  \n",
      "1005  None  \n",
      "1006  None  \n"
     ]
    }
   ],
   "source": [
    "ob.pd_query(\"Select * from test5 WHERE CI_n between 4 and 5\")"
   ]
  },
  {
   "cell_type": "markdown",
   "metadata": {},
   "source": [
    "#### The SQL ALIAS"
   ]
  },
  {
   "cell_type": "code",
   "execution_count": 29,
   "metadata": {},
   "outputs": [
    {
     "name": "stdout",
     "output_type": "stream",
     "text": [
      "Head\n",
      "   CI       IAC\n",
      "0   2  0,679005\n",
      "1   2  0,717298\n",
      "2   2  0,489336\n",
      "3   2  0,413957\n",
      "4   2  0,334292\n",
      "Tail\n",
      "       CI       IAC\n",
      "10716  12  0,834201\n",
      "10717  12  0,698374\n",
      "10718  12  0,923823\n",
      "10719  12  0,934978\n",
      "10720  12  0,953664\n"
     ]
    }
   ],
   "source": [
    "ob.pd_query(\"Select CI_n as CI,IAC_u as IAC from test5\")"
   ]
  },
  {
   "cell_type": "code",
   "execution_count": 30,
   "metadata": {},
   "outputs": [
    {
     "name": "stdout",
     "output_type": "stream",
     "text": [
      "Head\n",
      "      IAC_u\n",
      "0  0,679005\n",
      "1  0,717298\n",
      "2  0,489336\n",
      "3  0,413957\n",
      "4  0,334292\n",
      "Tail\n",
      "         IAC_u\n",
      "4825   0,89448\n",
      "4826  0,876454\n",
      "4827  0,757164\n",
      "4828    0,9437\n",
      "4829  0,934978\n"
     ]
    }
   ],
   "source": [
    "ob.pd_query(\"Select IAC_u from test5 Group By IAC_u \")"
   ]
  },
  {
   "cell_type": "code",
   "execution_count": 31,
   "metadata": {},
   "outputs": [
    {
     "name": "stdout",
     "output_type": "stream",
     "text": [
      "Head\n",
      "   count(IAC_v)\n",
      "0             2\n",
      "1             2\n",
      "2             2\n",
      "3             2\n",
      "4             2\n",
      "Tail\n",
      "      count(IAC_v)\n",
      "4809             2\n",
      "4810             2\n",
      "4811             2\n",
      "4812             2\n",
      "4813             2\n"
     ]
    }
   ],
   "source": [
    "ob.pd_query(\"Select count(IAC_v) from test5 Group By IAC_v \")"
   ]
  },
  {
   "cell_type": "code",
   "execution_count": 32,
   "metadata": {},
   "outputs": [
    {
     "name": "stdout",
     "output_type": "stream",
     "text": [
      "Head\n",
      "      IAC_v\n",
      "0    0,6371\n",
      "1  0,850063\n",
      "2  0,411791\n",
      "3  0,149937\n",
      "4  0,588209\n",
      "Tail\n",
      "       IAC_v\n",
      "25  0,309734\n",
      "26  0,066833\n",
      "27  0,690266\n",
      "28  0,911781\n",
      "29  0,088219\n"
     ]
    }
   ],
   "source": [
    "ob.pd_query(\"Select IAC_v from test5 Group By IAC_v having count(IAC_v)>3 \")"
   ]
  },
  {
   "cell_type": "markdown",
   "metadata": {},
   "source": [
    "#### The SQL CREATE DATABASE"
   ]
  },
  {
   "cell_type": "code",
   "execution_count": 33,
   "metadata": {},
   "outputs": [],
   "source": [
    "ob.create_db(\"Test_DB\")"
   ]
  },
  {
   "cell_type": "markdown",
   "metadata": {},
   "source": [
    "#### DROP DATABASE"
   ]
  },
  {
   "cell_type": "code",
   "execution_count": 34,
   "metadata": {},
   "outputs": [],
   "source": [
    "ob.drop_db(\"Test_DB\")"
   ]
  },
  {
   "cell_type": "markdown",
   "metadata": {},
   "source": [
    "### check NOT NuLL"
   ]
  },
  {
   "cell_type": "code",
   "execution_count": 36,
   "metadata": {},
   "outputs": [
    {
     "name": "stdout",
     "output_type": "stream",
     "text": [
      "Head\n",
      "   CI_n  CI_m     IAC_u     IAC_v     IAC_w     CAC_u     CAC_v     CAC_w  \\\n",
      "0     2     1  0,679005  0,701318  0,017033  0,721039  0,730232  0,017014   \n",
      "1     2     1  0,717298  0,642129  0,231319  0,738414   0,65675  0,232369   \n",
      "2     2     1  0,489336  0,303751  0,088462  0,477676  0,263221  0,088712   \n",
      "3     2     1  0,413957  0,632996  0,040843  0,408823  0,657897  0,039796   \n",
      "4     2     1  0,334292  0,543401   0,15989  0,303349  0,558807  0,157373   \n",
      "\n",
      "  email  \n",
      "0  None  \n",
      "1  None  \n",
      "2  None  \n",
      "3  None  \n",
      "4  None  \n",
      "Tail\n",
      "       CI_n  CI_m     IAC_u     IAC_v     IAC_w     CAC_u     CAC_v     CAC_w  \\\n",
      "10716    12     6  0,834201  0,399891   0,89127  0,841858  0,405882  0,891356   \n",
      "10717    12     6  0,698374   0,24471  0,962699  0,706555  0,248416  0,962833   \n",
      "10718    12     6  0,923823  0,568913  0,819842  0,929403  0,576284  0,819879   \n",
      "10719    12     6  0,934978  0,602319  0,938889  0,941844  0,610608  0,938755   \n",
      "10720    12     6  0,953664  0,698374  0,962699  0,961243  0,707812  0,962605   \n",
      "\n",
      "      email  \n",
      "10716  None  \n",
      "10717  None  \n",
      "10718  None  \n",
      "10719  None  \n",
      "10720  None  \n"
     ]
    }
   ],
   "source": [
    "ob.select_db(\"UCI\")\n",
    "ob.pd_query(\"SELECT * FROM test5 WHERE IAC_u IS NOT NULL\")"
   ]
  },
  {
   "cell_type": "markdown",
   "metadata": {},
   "source": [
    "#### ALTER TABLE -ADD and DROP COLUMN"
   ]
  },
  {
   "cell_type": "code",
   "execution_count": 37,
   "metadata": {},
   "outputs": [
    {
     "name": "stdout",
     "output_type": "stream",
     "text": [
      "Execution failed on sql 'ALTER TABLE test5 ADD email varchar(25)': 1060 (42S21): Duplicate column name 'email'\n",
      "Head\n",
      "   CI_n  CI_m     IAC_u     IAC_v     IAC_w     CAC_u     CAC_v     CAC_w  \\\n",
      "0     2     1  0,679005  0,701318  0,017033  0,721039  0,730232  0,017014   \n",
      "1     2     1  0,717298  0,642129  0,231319  0,738414   0,65675  0,232369   \n",
      "2     2     1  0,489336  0,303751  0,088462  0,477676  0,263221  0,088712   \n",
      "3     2     1  0,413957  0,632996  0,040843  0,408823  0,657897  0,039796   \n",
      "4     2     1  0,334292  0,543401   0,15989  0,303349  0,558807  0,157373   \n",
      "\n",
      "  email  \n",
      "0  None  \n",
      "1  None  \n",
      "2  None  \n",
      "3  None  \n",
      "4  None  \n"
     ]
    }
   ],
   "source": [
    "ob.pd_query(\"ALTER TABLE test5 ADD email varchar(25)\")\n",
    "ob.pd_query(\"Select * from test5\",5,0)"
   ]
  },
  {
   "cell_type": "code",
   "execution_count": 38,
   "metadata": {},
   "outputs": [
    {
     "name": "stdout",
     "output_type": "stream",
     "text": [
      "'NoneType' object is not iterable\n",
      "Head\n",
      "   CI_n  CI_m     IAC_u     IAC_v     IAC_w     CAC_u     CAC_v     CAC_w\n",
      "0     2     1  0,679005  0,701318  0,017033  0,721039  0,730232  0,017014\n",
      "1     2     1  0,717298  0,642129  0,231319  0,738414   0,65675  0,232369\n",
      "2     2     1  0,489336  0,303751  0,088462  0,477676  0,263221  0,088712\n",
      "3     2     1  0,413957  0,632996  0,040843  0,408823  0,657897  0,039796\n",
      "4     2     1  0,334292  0,543401   0,15989  0,303349  0,558807  0,157373\n"
     ]
    }
   ],
   "source": [
    "ob.pd_query(\"ALTER TABLE test5 DROP email\")\n",
    "ob.pd_query(\"Select * from test5\",5,0)"
   ]
  },
  {
   "cell_type": "markdown",
   "metadata": {},
   "source": [
    "#### ALTER modify COLUMN"
   ]
  },
  {
   "cell_type": "code",
   "execution_count": 39,
   "metadata": {},
   "outputs": [
    {
     "name": "stdout",
     "output_type": "stream",
     "text": [
      "'NoneType' object is not iterable\n",
      "Head\n",
      "   Field            Type Null Key Default Extra\n",
      "0   CI_n          b'int'   NO        None      \n",
      "1   CI_m          b'int'  YES        None      \n",
      "2  IAC_u  b'varchar(10)'  YES        None      \n",
      "3  IAC_v  b'varchar(10)'  YES        None      \n",
      "4  IAC_w  b'varchar(10)'  YES        None      \n"
     ]
    }
   ],
   "source": [
    "ob.pd_query(\"ALTER TABLE test5 MODIFY CI_n int NOT NULL\")\n",
    "ob.pd_query(\"desc test5\",5,0)"
   ]
  },
  {
   "cell_type": "markdown",
   "metadata": {},
   "source": [
    "#### SQL CHECK on CREATE TABLE"
   ]
  },
  {
   "cell_type": "code",
   "execution_count": 40,
   "metadata": {},
   "outputs": [
    {
     "name": "stdout",
     "output_type": "stream",
     "text": [
      "Execution failed on sql 'CREATE TABLE Persons (ID int NOT NULL, LastName varchar(255) NOT NULL, FirstName varchar(255), Age int, CHECK (Age>=18))': 1050 (42S01): Table 'Persons' already exists\n",
      "Head\n",
      "       Field             Type Null  Key Default Extra\n",
      "0         ID           b'int'   NO         None      \n",
      "1   LastName  b'varchar(255)'   NO  MUL    None      \n",
      "2  FirstName  b'varchar(255)'  YES         None      \n",
      "3        Age           b'int'  YES         None      \n"
     ]
    }
   ],
   "source": [
    "ob.pd_query(\"CREATE TABLE Persons (ID int NOT NULL, LastName varchar(255) NOT NULL, FirstName varchar(255), Age int, CHECK (Age>=18))\")\n",
    "ob.pd_query(\"desc Persons\",5,0)"
   ]
  },
  {
   "cell_type": "code",
   "execution_count": 41,
   "metadata": {},
   "outputs": [
    {
     "name": "stdout",
     "output_type": "stream",
     "text": [
      "Execution failed on sql 'ALTER TABLE Persons DROP CHECK Age': 3821 (HY000): Check constraint 'Age' is not found in the table.\n",
      "Head\n",
      "       Field             Type Null  Key Default Extra\n",
      "0         ID           b'int'   NO         None      \n",
      "1   LastName  b'varchar(255)'   NO  MUL    None      \n",
      "2  FirstName  b'varchar(255)'  YES         None      \n",
      "3        Age           b'int'  YES         None      \n"
     ]
    }
   ],
   "source": [
    "#drop check\n",
    "ob.pd_query(\"ALTER TABLE Persons DROP CHECK Age\")\n",
    "ob.pd_query(\"desc Persons\",5,0)"
   ]
  },
  {
   "cell_type": "markdown",
   "metadata": {},
   "source": [
    "#### SQL DEFAULT on CREATE TABLE"
   ]
  },
  {
   "cell_type": "code",
   "execution_count": 42,
   "metadata": {},
   "outputs": [
    {
     "name": "stdout",
     "output_type": "stream",
     "text": [
      "Execution failed on sql 'CREATE TABLE Person1 (ID int NOT NULL, LastName varchar(255) NOT NULL, FirstName varchar(255), Age int, City varchar(255) DEFAULT 'Sandnes')': 1050 (42S01): Table 'Person1' already exists\n",
      "Head\n",
      "       Field             Type Null  Key Default Extra\n",
      "0         ID           b'int'   NO  PRI    None      \n",
      "1   LastName  b'varchar(255)'   NO         None      \n",
      "2  FirstName  b'varchar(255)'  YES         None      \n",
      "3        Age           b'int'  YES         None      \n",
      "4       City  b'varchar(255)'  YES         None      \n"
     ]
    }
   ],
   "source": [
    "ob.pd_query(\"CREATE TABLE Person1 (ID int NOT NULL, LastName varchar(255) NOT NULL, FirstName varchar(255), Age int, City varchar(255) DEFAULT 'Sandnes')\")\n",
    "ob.pd_query(\"desc Person1\",5,0)"
   ]
  },
  {
   "cell_type": "markdown",
   "metadata": {},
   "source": [
    "#### DROP A DEFAULT CONSTRAINT"
   ]
  },
  {
   "cell_type": "code",
   "execution_count": 43,
   "metadata": {},
   "outputs": [
    {
     "name": "stdout",
     "output_type": "stream",
     "text": [
      "'NoneType' object is not iterable\n",
      "Head\n",
      "       Field             Type Null  Key Default Extra\n",
      "0         ID           b'int'   NO  PRI    None      \n",
      "1   LastName  b'varchar(255)'   NO         None      \n",
      "2  FirstName  b'varchar(255)'  YES         None      \n",
      "3        Age           b'int'  YES         None      \n",
      "4       City  b'varchar(255)'  YES         None      \n"
     ]
    }
   ],
   "source": [
    "ob.pd_query(\"ALTER TABLE Person1 ALTER City DROP DEFAULT\")\n",
    "ob.pd_query(\"desc Person1\",5,0)"
   ]
  },
  {
   "cell_type": "markdown",
   "metadata": {},
   "source": [
    "#### CREATE INDEX"
   ]
  },
  {
   "cell_type": "code",
   "execution_count": 44,
   "metadata": {},
   "outputs": [
    {
     "name": "stdout",
     "output_type": "stream",
     "text": [
      "'NoneType' object is not iterable\n",
      "Head\n",
      "       Field             Type Null  Key Default Extra\n",
      "0         ID           b'int'   NO  PRI    None      \n",
      "1   LastName  b'varchar(255)'   NO  MUL    None      \n",
      "2  FirstName  b'varchar(255)'  YES         None      \n",
      "3        Age           b'int'  YES         None      \n",
      "4       City  b'varchar(255)'  YES         None      \n"
     ]
    }
   ],
   "source": [
    "ob.pd_query(\"CREATE INDEX idex_lastname on Person1 (LastName)\")\n",
    "ob.pd_query(\"desc Person1\",5,0)"
   ]
  },
  {
   "cell_type": "markdown",
   "metadata": {},
   "source": [
    "#### CREATE UNIQUE INDEX"
   ]
  },
  {
   "cell_type": "code",
   "execution_count": 45,
   "metadata": {},
   "outputs": [
    {
     "name": "stdout",
     "output_type": "stream",
     "text": [
      "Execution failed on sql 'Create UNIQUE INDEX id on Person1 (ID)': 1061 (42000): Duplicate key name 'id'\n",
      "Head\n",
      "       Field             Type Null  Key Default Extra\n",
      "0         ID           b'int'   NO  PRI    None      \n",
      "1   LastName  b'varchar(255)'   NO  MUL    None      \n",
      "2  FirstName  b'varchar(255)'  YES         None      \n",
      "3        Age           b'int'  YES         None      \n",
      "4       City  b'varchar(255)'  YES         None      \n"
     ]
    }
   ],
   "source": [
    "ob.pd_query(\"Create UNIQUE INDEX id on Person1 (ID)\")\n",
    "ob.pd_query(\"desc Person1\",5,0)"
   ]
  },
  {
   "cell_type": "code",
   "execution_count": 46,
   "metadata": {},
   "outputs": [
    {
     "name": "stdout",
     "output_type": "stream",
     "text": [
      "'NoneType' object is not iterable\n",
      "Head\n",
      "       Field             Type Null  Key Default Extra\n",
      "0         ID           b'int'   NO  PRI    None      \n",
      "1   LastName  b'varchar(255)'   NO         None      \n",
      "2  FirstName  b'varchar(255)'  YES         None      \n",
      "3        Age           b'int'  YES         None      \n",
      "4       City  b'varchar(255)'  YES         None      \n"
     ]
    }
   ],
   "source": [
    "#drop Index\n",
    "ob.pd_query(\"ALTER TABLE Person1 DROP INDEX idex_lastname\")\n",
    "ob.pd_query(\"desc Person1\",5,0)"
   ]
  },
  {
   "cell_type": "markdown",
   "metadata": {},
   "source": [
    "### CREATE VIEW Syntax"
   ]
  },
  {
   "cell_type": "code",
   "execution_count": 47,
   "metadata": {},
   "outputs": [
    {
     "name": "stdout",
     "output_type": "stream",
     "text": [
      "'NoneType' object is not iterable\n",
      "Head\n",
      "   CI_n     IAC_u     IAC_v\n",
      "0     2  0,679005  0,701318\n",
      "1     2  0,717298  0,642129\n",
      "2     2  0,489336  0,303751\n",
      "3     2  0,413957  0,632996\n",
      "4     2  0,334292  0,543401\n",
      "Tail\n",
      "       CI_n     IAC_u     IAC_v\n",
      "10716    12  0,834201  0,399891\n",
      "10717    12  0,698374   0,24471\n",
      "10718    12  0,923823  0,568913\n",
      "10719    12  0,934978  0,602319\n",
      "10720    12  0,953664  0,698374\n"
     ]
    }
   ],
   "source": [
    "ob.pd_query(\"CREATE VIEW test_view AS SELECT CI_n,IAC_u,IAC_v FROM test5\")\n",
    "\n",
    "ob.pd_query(\"Select * from test_view\")"
   ]
  },
  {
   "cell_type": "markdown",
   "metadata": {},
   "source": [
    "### DROPPING VIEWS"
   ]
  },
  {
   "cell_type": "code",
   "execution_count": 48,
   "metadata": {},
   "outputs": [
    {
     "name": "stdout",
     "output_type": "stream",
     "text": [
      "'NoneType' object is not iterable\n",
      "Execution failed on sql 'Select * from test_view': 1146 (42S02): Table 'UCI.test_view' doesn't exist\n"
     ]
    }
   ],
   "source": [
    "ob.pd_query(\"DROP VIEW test_view\")\n",
    "\n",
    "ob.pd_query(\"Select * from test_view\")"
   ]
  },
  {
   "cell_type": "markdown",
   "metadata": {},
   "source": [
    "### IF Statement in MySQL"
   ]
  },
  {
   "cell_type": "code",
   "execution_count": 49,
   "metadata": {},
   "outputs": [
    {
     "name": "stdout",
     "output_type": "stream",
     "text": [
      "Head\n",
      "   CI_n IF(CI_n>4,'MORE','LESS')\n",
      "0     2                     LESS\n",
      "1     2                     LESS\n",
      "2     2                     LESS\n",
      "3     2                     LESS\n",
      "4     2                     LESS\n",
      "Tail\n",
      "       CI_n IF(CI_n>4,'MORE','LESS')\n",
      "10716    12                     MORE\n",
      "10717    12                     MORE\n",
      "10718    12                     MORE\n",
      "10719    12                     MORE\n",
      "10720    12                     MORE\n"
     ]
    }
   ],
   "source": [
    "ob.pd_query(\"Select CI_n, IF(CI_n>4,'MORE','LESS') from test5\")"
   ]
  },
  {
   "cell_type": "code",
   "execution_count": null,
   "metadata": {},
   "outputs": [],
   "source": []
  }
 ],
 "metadata": {
  "kernelspec": {
   "display_name": "Python 3",
   "language": "python",
   "name": "python3"
  },
  "language_info": {
   "codemirror_mode": {
    "name": "ipython",
    "version": 3
   },
   "file_extension": ".py",
   "mimetype": "text/x-python",
   "name": "python",
   "nbconvert_exporter": "python",
   "pygments_lexer": "ipython3",
   "version": "3.8.5"
  }
 },
 "nbformat": 4,
 "nbformat_minor": 4
}
