{
 "cells": [
  {
   "cell_type": "raw",
   "metadata": {},
   "source": [
    "1. Write a Python Program to find sum of array?\n"
   ]
  },
  {
   "cell_type": "code",
   "execution_count": 1,
   "metadata": {},
   "outputs": [
    {
     "name": "stdout",
     "output_type": "stream",
     "text": [
      "sum =  36\n"
     ]
    }
   ],
   "source": [
    "arr = [1,2,3,4,5,6,7,8]\n",
    "s=0\n",
    "for i in arr:\n",
    "    s+=i\n",
    "print(\"sum = \",s)"
   ]
  },
  {
   "cell_type": "raw",
   "metadata": {},
   "source": [
    "2. Write a Python Program to find largest element in an array?\n"
   ]
  },
  {
   "cell_type": "code",
   "execution_count": 2,
   "metadata": {},
   "outputs": [
    {
     "name": "stdout",
     "output_type": "stream",
     "text": [
      "sum =  567\n"
     ]
    }
   ],
   "source": [
    "arr = [1,2,3,4,5,6,7,8,10,33,22,34,567,78,34,56,89]\n",
    "g=arr[0]\n",
    "for i in arr:\n",
    "    if i>g:\n",
    "        g=i\n",
    "print(\"sum = \",g)"
   ]
  },
  {
   "cell_type": "raw",
   "metadata": {},
   "source": [
    "3. Write a Python Program for array rotation?\n"
   ]
  },
  {
   "cell_type": "code",
   "execution_count": 3,
   "metadata": {},
   "outputs": [
    {
     "name": "stdout",
     "output_type": "stream",
     "text": [
      "original array :  [1, 2, 3, 4, 5, 6, 7, 8, 10, 33, 22, 34, 567, 78, 34, 56, 89]\n",
      "enter no of rotation : 5\n",
      "after rotation :  [567, 78, 34, 56, 89, 1, 2, 3, 4, 5, 6, 7, 8, 10, 33, 22, 34]\n"
     ]
    }
   ],
   "source": [
    "arr = [1,2,3,4,5,6,7,8,10,33,22,34,567,78,34,56,89]\n",
    "print(\"original array : \",arr)\n",
    "n=int(input(\"enter no of rotation : \"))\n",
    "for i in range(n):\n",
    "    t=arr[0]\n",
    "    arr[0]=arr[len(arr)-1]\n",
    "    arr.insert(1,t)\n",
    "    arr.pop()\n",
    "print(\"after rotation : \",arr)"
   ]
  },
  {
   "cell_type": "raw",
   "metadata": {},
   "source": [
    "4. Write a Python Program to Split the array and add the first part to the end?"
   ]
  },
  {
   "cell_type": "code",
   "execution_count": 76,
   "metadata": {},
   "outputs": [
    {
     "name": "stdout",
     "output_type": "stream",
     "text": [
      "original array :  [13, 12, 43, 54, 56, 67, 75, 78, 10, 33, 22, 34, 67, 78, 34, 56]\n",
      "after Spliting :  [10, 33, 22, 34, 67, 78, 34, 56, 13, 12, 43, 54, 56, 67, 75, 78]\n"
     ]
    }
   ],
   "source": [
    "arr = [13,12,43,54,56,67,75,78,10,33,22,34,67,78,34,56]\n",
    "print(\"original array : \",arr)\n",
    "for i in range(int(len(arr)/2)):\n",
    "    t=arr[0]\n",
    "    arr[0]=arr[len(arr)-1]\n",
    "    arr.insert(1,t)\n",
    "    arr.pop()\n",
    "print(\"after Spliting : \",arr)"
   ]
  },
  {
   "cell_type": "raw",
   "metadata": {},
   "source": [
    "5. Write a Python Program to check if given array is Monotonic?"
   ]
  },
  {
   "cell_type": "code",
   "execution_count": 108,
   "metadata": {},
   "outputs": [
    {
     "name": "stdout",
     "output_type": "stream",
     "text": [
      "original array :  [13, 12, 43, 54, 56, 67, 75, 78, 10, 33, 22, 34, 67, 78, 34, 56]\n",
      "Non monotonic\n",
      "\n",
      "original array :  [1, 2, 3, 4, 5, 6, 7, 8, 9, 11, 33, 45, 66]\n",
      "Monotonic\n",
      "\n",
      "original array :  [110, 99, 88, 66, 55, 44, 33, 22, 11, 9, 7, 6, 4, 3, 2]\n",
      "Monotonic\n",
      "\n"
     ]
    }
   ],
   "source": [
    "\n",
    "def monotonic(arr):\n",
    "    print(\"original array : \",arr)\n",
    "    c=0\n",
    "    if arr[0]>arr[1]:\n",
    "        for i in range(len(arr)-1):\n",
    "            if arr[i]>arr[i+1]:\n",
    "                c=1\n",
    "            else:\n",
    "                c=0\n",
    "                break\n",
    "    else:\n",
    "        for i in range(len(arr)-1):\n",
    "            if arr[i]<arr[i+1]:\n",
    "                c=1\n",
    "            else:\n",
    "                c=0\n",
    "                break\n",
    "    \n",
    "    if c==1:\n",
    "        print(\"Monotonic\\n\")\n",
    "    else:\n",
    "        print(\"Non monotonic\\n\")\n",
    "            \n",
    " \n",
    "arr = [13,12,43,54,56,67,75,78,10,33,22,34,67,78,34,56]\n",
    "monotonic(arr)\n",
    "arr=[1,2,3,4,5,6,7,8,9,11,33,45,66]\n",
    "monotonic(arr)\n",
    "arr=[110,99,88,66,55,44,33,22,11,9,7,6,4,3,2]\n",
    "monotonic(arr)"
   ]
  }
 ],
 "metadata": {
  "kernelspec": {
   "display_name": "Python 3",
   "language": "python",
   "name": "python3"
  },
  "language_info": {
   "codemirror_mode": {
    "name": "ipython",
    "version": 3
   },
   "file_extension": ".py",
   "mimetype": "text/x-python",
   "name": "python",
   "nbconvert_exporter": "python",
   "pygments_lexer": "ipython3",
   "version": "3.7.3"
  }
 },
 "nbformat": 4,
 "nbformat_minor": 2
}
