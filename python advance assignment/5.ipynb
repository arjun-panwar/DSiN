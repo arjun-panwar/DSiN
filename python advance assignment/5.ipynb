{
 "cells": [
  {
   "cell_type": "markdown",
   "metadata": {},
   "source": [
    "# Q1. What is the meaning of multiple inheritance?"
   ]
  },
  {
   "cell_type": "code",
   "execution_count": 3,
   "metadata": {},
   "outputs": [],
   "source": [
    "class A():\n",
    "    def method1(self):\n",
    "        print(\"from base class A\")\n",
    "class B():\n",
    "    def method2(self):\n",
    "        print('from base class B')\n",
    "class C(A,B):\n",
    "    def method3(self):\n",
    "        print('from derrived class c')\n",
    "        "
   ]
  },
  {
   "cell_type": "code",
   "execution_count": 4,
   "metadata": {},
   "outputs": [
    {
     "name": "stdout",
     "output_type": "stream",
     "text": [
      "from base class A\n",
      "from base class B\n",
      "from derrived class c\n"
     ]
    }
   ],
   "source": [
    "ob=C()\n",
    "ob.method1()\n",
    "ob.method2()\n",
    "ob.method3()"
   ]
  },
  {
   "cell_type": "markdown",
   "metadata": {},
   "source": [
    "# Q2. What is the concept of delegation?"
   ]
  },
  {
   "cell_type": "markdown",
   "metadata": {},
   "source": [
    "Delegation is an object oriented technique. Let's say you have an object x and want to change the behaviour of just one of its methods. You can create a new class that provides a new implementation of the method you're interested in changing and delegates all other methods to the corresponding method of x."
   ]
  },
  {
   "cell_type": "markdown",
   "metadata": {},
   "source": [
    "# Q3. What is the concept of composition?"
   ]
  },
  {
   "cell_type": "markdown",
   "metadata": {},
   "source": [
    "Composition is a concept that models a has a relationship. It enables creating complex types by combining objects of other types. This means that a class Composite can contain an object of another class Component . This relationship means that a Composite has a Component ."
   ]
  },
  {
   "cell_type": "markdown",
   "metadata": {},
   "source": [
    "# Q4. What are bound methods and how do we use them?"
   ]
  },
  {
   "cell_type": "code",
   "execution_count": 1,
   "metadata": {},
   "outputs": [],
   "source": [
    "class A():\n",
    "    def method1(self):\n",
    "        print(\"from base class A\")\n",
    "class B():\n",
    "    def method2(self):\n",
    "        print('from base class B')\n",
    "class C(A,B):\n",
    "    def method3(self):\n",
    "        print('from derrived class c')\n",
    "        "
   ]
  },
  {
   "cell_type": "code",
   "execution_count": 7,
   "metadata": {},
   "outputs": [
    {
     "data": {
      "text/plain": [
       "<bound method C.method3 of <__main__.C object at 0x066863B0>>"
      ]
     },
     "execution_count": 7,
     "metadata": {},
     "output_type": "execute_result"
    }
   ],
   "source": [
    "ob=C()\n",
    "a=ob.method3\n",
    "a"
   ]
  },
  {
   "cell_type": "code",
   "execution_count": 25,
   "metadata": {},
   "outputs": [
    {
     "name": "stdout",
     "output_type": "stream",
     "text": [
      "data\n",
      "23\n",
      "John\n",
      "{'age': 23, 'name': 'John'}\n",
      "0\n"
     ]
    }
   ],
   "source": [
    "class Employee(object):\n",
    "    def __init__(self, data):\n",
    "        super().__setattr__('data',dict())\n",
    "        self.data = data\n",
    " \n",
    "    def __getattr__(self, name):\n",
    "        if name in self.data:\n",
    "            return self.data[name]\n",
    "        else:\n",
    "            return 0\n",
    "    \n",
    "    def __setattr__(self, key, value):\n",
    "        if key in self.data:\n",
    "            self.data[key] = value\n",
    "        else:\n",
    "            super().__setattr__(key, value)\n",
    "            print(key)\n",
    " \n",
    " \n",
    "emp = Employee({'age': 23, 'name': 'John'})\n",
    "print(emp.age)\n",
    "print(emp.name)\n",
    "print(emp.data)\n",
    "print(emp.salary)\n",
    " \n",
    "# emp.salary = 50000\n",
    "# print(emp.salary)\n",
    " "
   ]
  },
  {
   "cell_type": "markdown",
   "metadata": {},
   "source": [
    "# Q5. What is the purpose of pseudoprivate attributes?\n",
    "==>If module creator has some issues bcoz of the variable accessiblity to module user so we can make it  to private or protected in our class."
   ]
  },
  {
   "cell_type": "code",
   "execution_count": 28,
   "metadata": {},
   "outputs": [
    {
     "name": "stdout",
     "output_type": "stream",
     "text": [
      "1\n",
      "1\n"
     ]
    }
   ],
   "source": [
    "class Test:\n",
    "    __x = 1\n",
    "    class C:\n",
    "        def test(self):\n",
    "            print(Test._Test__x)\n",
    "        \n",
    "    c = C()\n",
    "    def test2(self):\n",
    "        print(self.__x)\n",
    "\n",
    "a = Test()\n",
    "a.test2()   \n",
    "a.c.test()  "
   ]
  },
  {
   "cell_type": "code",
   "execution_count": null,
   "metadata": {},
   "outputs": [],
   "source": []
  }
 ],
 "metadata": {
  "kernelspec": {
   "display_name": "Python 3",
   "language": "python",
   "name": "python3"
  },
  "language_info": {
   "codemirror_mode": {
    "name": "ipython",
    "version": 3
   },
   "file_extension": ".py",
   "mimetype": "text/x-python",
   "name": "python",
   "nbconvert_exporter": "python",
   "pygments_lexer": "ipython3",
   "version": "3.8.10"
  }
 },
 "nbformat": 4,
 "nbformat_minor": 4
}
