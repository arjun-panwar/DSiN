{
 "cells": [
  {
   "cell_type": "markdown",
   "metadata": {},
   "source": [
    "# Q1. Describe the differences between text and binary files in a single paragraph."
   ]
  },
  {
   "cell_type": "markdown",
   "metadata": {},
   "source": [
    "Text form is an UTF-8 ascii format according to computer language.but binary data is in the form of encrypted form or it is a\n",
    "binary form that it has been stored in the form of bits.c pograms compiled version also stored in binary form."
   ]
  },
  {
   "cell_type": "markdown",
   "metadata": {},
   "source": [
    "# Q2. What are some scenarios where using text files will be the better option? When would you like to use binary files instead of text files?\n"
   ]
  },
  {
   "cell_type": "markdown",
   "metadata": {},
   "source": [
    "fast to read and write a struct as a blob of data, instead of converting to ascii format, and to parse it later.\n",
    "Less glue code in lower level languages. (not applicable to python and Java).\n",
    "Easier to find the k-th record in a binary file than in a text file without the need to \n",
    "deserialize/serialize. For example, think of a b+tree or an AVL tree that reside on disk. Working \n",
    "on TEXT nodes with varying sizes is much more difficult."
   ]
  },
  {
   "cell_type": "markdown",
   "metadata": {},
   "source": [
    "# Q3. What are some of the issues with using binary operations to read and write a Python integer directly to disc?\n"
   ]
  },
  {
   "cell_type": "markdown",
   "metadata": {},
   "source": [
    "It can directly write a python integer to binary as it s so these issues comes with the integer so we can convert theses by \n",
    "bin() function can solve these"
   ]
  },
  {
   "cell_type": "code",
   "execution_count": 17,
   "metadata": {},
   "outputs": [
    {
     "data": {
      "text/plain": [
       "'0b1010'"
      ]
     },
     "execution_count": 17,
     "metadata": {},
     "output_type": "execute_result"
    }
   ],
   "source": [
    "bin(10)"
   ]
  },
  {
   "cell_type": "code",
   "execution_count": 18,
   "metadata": {},
   "outputs": [
    {
     "data": {
      "text/plain": [
       "'0b1100100'"
      ]
     },
     "execution_count": 18,
     "metadata": {},
     "output_type": "execute_result"
    }
   ],
   "source": [
    "bin(100)"
   ]
  },
  {
   "cell_type": "markdown",
   "metadata": {},
   "source": [
    "# Q4. Describe a benefit of using the with keyword instead of explicitly opening a file.\n"
   ]
  },
  {
   "cell_type": "code",
   "execution_count": 2,
   "metadata": {},
   "outputs": [],
   "source": [
    "with open(__file__,'w') as f:\n",
    "    f.write('anything to write')\n",
    "# No need to explicitly close the opened file, “with statement” takes care of that. When with the block ends, it will automatically close the \n",
    "# file"
   ]
  },
  {
   "cell_type": "markdown",
   "metadata": {},
   "source": [
    "# Q5. Does Python have the trailing newline while reading a line of text? Does Python append a newline when you write a line of text?\n"
   ]
  },
  {
   "cell_type": "markdown",
   "metadata": {},
   "source": [
    "yes.it has a new line by deafult to read it will utomatically detects '\\n' and jump to new line.\n",
    " yes,It will append in new but for that we have to open file in aappend mode."
   ]
  },
  {
   "cell_type": "markdown",
   "metadata": {},
   "source": [
    "# Q6. What file operations enable for random-access operation?\n"
   ]
  },
  {
   "cell_type": "markdown",
   "metadata": {},
   "source": [
    "we have to r,r+,a,a+,w,w+ file operatins by default it has in write operationfor file access randomly."
   ]
  },
  {
   "cell_type": "markdown",
   "metadata": {},
   "source": [
    "# Q7. When do you think you'll use the struct package the most?\n"
   ]
  },
  {
   "cell_type": "code",
   "execution_count": 3,
   "metadata": {},
   "outputs": [
    {
     "name": "stdout",
     "output_type": "stream",
     "text": [
      "b'8\\x00\\x00\\x00\\x15\\x14\\x13\\x12'\n",
      "8\n",
      "b'\\x15\\x14\\x13\\x128'\n",
      "5\n"
     ]
    }
   ],
   "source": [
    "import struct\n",
    "var = struct.pack('bi', 56, 0x12131415)\n",
    "print(var)\n",
    "print(struct.calcsize('bi'))\n",
    "var = struct.pack('ib', 0x12131415, 56)\n",
    "print(var)\n",
    "print(struct.calcsize('ib'))\n",
    "# <!-- ==>It is used mostly for handling binary data stored in files or from network connections, among other sources. -->\n"
   ]
  },
  {
   "cell_type": "markdown",
   "metadata": {},
   "source": [
    "# Q8. When is pickling the best option?\n",
    "\n"
   ]
  },
  {
   "cell_type": "markdown",
   "metadata": {},
   "source": [
    "Python pickle module is used for serializing and de-serializing a Python object structure. \n",
    "Any object in Python can be pickled so that it can be saved on disk. What pickle does is that it “serializes” \n",
    "the object first before writing it to file. Pickling is a way to convert a python\n",
    "object (list, dict, etc.)"
   ]
  },
  {
   "cell_type": "markdown",
   "metadata": {},
   "source": [
    "# Q9. When will it be best to use the shelve package?\n"
   ]
  },
  {
   "cell_type": "markdown",
   "metadata": {},
   "source": [
    "The shelve module in Python’s standard library is a simple yet effective tool for persistent data storage \n",
    "when using a relational database solution is not required. The she/lf object defined in this module is \n",
    "dictionary-like object which is persistently stored \n",
    "in a disk file"
   ]
  },
  {
   "cell_type": "markdown",
   "metadata": {},
   "source": [
    "# Q10. What is a special restriction when using the shelve package, as opposed to using other data dictionaries?\n"
   ]
  },
  {
   "cell_type": "code",
   "execution_count": 9,
   "metadata": {},
   "outputs": [],
   "source": [
    "import shelve\n",
    "  \n",
    "\n",
    "shfile = shelve.open(\"shelf_file\")\n",
    "  \n",
    "\n",
    "my_book_list =['bared_to_you', 'The_fault_in_our_stars',\n",
    "              'The_boy_who_never_let_her_go','i will be']\n",
    "shfile['book_list']= my_book_list\n",
    "  \n",
    "shfile.close()\n",
    "\n",
    "# Theses shelf_file.dir not stored our data in the dictionary format at the file we can't see our data until we can load through it with the help f moduodule.\n",
    "# so it will be stord in a secret form."
   ]
  },
  {
   "cell_type": "code",
   "execution_count": 10,
   "metadata": {},
   "outputs": [
    {
     "data": {
      "text/plain": [
       "71"
      ]
     },
     "execution_count": 10,
     "metadata": {},
     "output_type": "execute_result"
    }
   ],
   "source": [
    "count=0\n",
    "for i in my_book_list:\n",
    "    for j in i:\n",
    "        count+=1\n",
    "count"
   ]
  },
  {
   "cell_type": "code",
   "execution_count": 14,
   "metadata": {},
   "outputs": [
    {
     "name": "stdout",
     "output_type": "stream",
     "text": [
      "['bared_to_you', 'The_fault_in_our_stars', 'The_boy_who_never_let_her_go', 'i will be']\n"
     ]
    }
   ],
   "source": [
    "import shelve\n",
    "var = shelve.open(\"shelf_file\")\n",
    "print(var['book_list'])\n",
    "var.close()"
   ]
  },
  {
   "cell_type": "raw",
   "metadata": {},
   "source": [
    "Benifits/\n",
    "First, you do not have the limitations of the amount of RAM available.\n",
    "Second, you have the convenience of access with a key like you do in a dictionary.\n",
    "And third, you can read or write pieces of data in large files, without reading or writing the entire file."
   ]
  },
  {
   "cell_type": "code",
   "execution_count": null,
   "metadata": {},
   "outputs": [],
   "source": []
  },
  {
   "cell_type": "code",
   "execution_count": null,
   "metadata": {},
   "outputs": [],
   "source": []
  }
 ],
 "metadata": {
  "kernelspec": {
   "display_name": "Python 3",
   "language": "python",
   "name": "python3"
  },
  "language_info": {
   "codemirror_mode": {
    "name": "ipython",
    "version": 3
   },
   "file_extension": ".py",
   "mimetype": "text/x-python",
   "name": "python",
   "nbconvert_exporter": "python",
   "pygments_lexer": "ipython3",
   "version": "3.8.10"
  }
 },
 "nbformat": 4,
 "nbformat_minor": 4
}
