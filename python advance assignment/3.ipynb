{
 "cells": [
  {
   "cell_type": "markdown",
   "metadata": {},
   "source": [
    "# 1. What is the concept of an abstract superclass?"
   ]
  },
  {
   "cell_type": "code",
   "execution_count": null,
   "metadata": {},
   "outputs": [],
   "source": [
    "===>Abstract super class is common base class for several other classes in modules."
   ]
  },
  {
   "cell_type": "markdown",
   "metadata": {},
   "source": [
    "# 2. What happens when a class statement's top level contains a basic assignment statement?"
   ]
  },
  {
   "cell_type": "code",
   "execution_count": 1,
   "metadata": {},
   "outputs": [],
   "source": [
    "class A():\n",
    "    v=10"
   ]
  },
  {
   "cell_type": "markdown",
   "metadata": {},
   "source": [
    "# 3. Why does a class need to manually call a superclass's __init__ method?"
   ]
  },
  {
   "cell_type": "code",
   "execution_count": 8,
   "metadata": {},
   "outputs": [],
   "source": [
    "class A():\n",
    "    def __init__(self):\n",
    "        print(\"from base class\")\n",
    "class B(A):\n",
    "    def __init__(self):\n",
    "        super().__init__()\n",
    "        print('from derrived class')\n"
   ]
  },
  {
   "cell_type": "code",
   "execution_count": 10,
   "metadata": {},
   "outputs": [
    {
     "name": "stdout",
     "output_type": "stream",
     "text": [
      "from base class\n",
      "from derrived class\n"
     ]
    }
   ],
   "source": [
    "a=B()"
   ]
  },
  {
   "cell_type": "markdown",
   "metadata": {},
   "source": [
    "# 4. How can you augment, instead of completely replacing, an inherited method?"
   ]
  },
  {
   "cell_type": "code",
   "execution_count": 22,
   "metadata": {},
   "outputs": [],
   "source": [
    "class A():\n",
    "    def trial(self):\n",
    "        print('method from the base class')\n",
    "class B(A):\n",
    "    def trial1(self):\n",
    "        print('method from the derrived class')"
   ]
  },
  {
   "cell_type": "code",
   "execution_count": 23,
   "metadata": {},
   "outputs": [],
   "source": [
    "a=B()"
   ]
  },
  {
   "cell_type": "code",
   "execution_count": 24,
   "metadata": {},
   "outputs": [
    {
     "name": "stdout",
     "output_type": "stream",
     "text": [
      "method from the base class\n",
      "method from the derrived class\n"
     ]
    }
   ],
   "source": [
    "a.trial()\n",
    "a.trial1()"
   ]
  },
  {
   "cell_type": "code",
   "execution_count": 25,
   "metadata": {},
   "outputs": [],
   "source": [
    "class A():\n",
    "    def trial(self):\n",
    "        print('method from the base class')\n",
    "class B(A):\n",
    "    def trial(self):\n",
    "        print('method from the derrived class')"
   ]
  },
  {
   "cell_type": "code",
   "execution_count": 26,
   "metadata": {},
   "outputs": [
    {
     "name": "stdout",
     "output_type": "stream",
     "text": [
      "method from the derrived class\n"
     ]
    }
   ],
   "source": [
    "a2=B()\n",
    "a2.trial()"
   ]
  },
  {
   "cell_type": "markdown",
   "metadata": {},
   "source": [
    "# 5. How is the local scope of a class different from that of a function?"
   ]
  },
  {
   "cell_type": "code",
   "execution_count": null,
   "metadata": {},
   "outputs": [],
   "source": [
    "==>in a class we have data member and member functions.our data member has a whole accessiblity in the class even though it's a public,private\n",
    "protected.Bcoz data member works on member functions in a class.But in a python they are also accessible even though outside the class if we call thamwith the helpof object or\n",
    "class name.\n",
    "\n",
    "But for functions variable are only accessible inside the function they are not accessible outside the scope of their accessiblity\n"
   ]
  }
 ],
 "metadata": {
  "kernelspec": {
   "display_name": "Python 3",
   "language": "python",
   "name": "python3"
  },
  "language_info": {
   "codemirror_mode": {
    "name": "ipython",
    "version": 3
   },
   "file_extension": ".py",
   "mimetype": "text/x-python",
   "name": "python",
   "nbconvert_exporter": "python",
   "pygments_lexer": "ipython3",
   "version": "3.8.10"
  }
 },
 "nbformat": 4,
 "nbformat_minor": 4
}
