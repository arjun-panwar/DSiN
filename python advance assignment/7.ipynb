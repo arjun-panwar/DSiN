{
 "cells": [
  {
   "cell_type": "markdown",
   "metadata": {},
   "source": [
    "# Q1. What is the purpose of the try statement?"
   ]
  },
  {
   "cell_type": "markdown",
   "metadata": {},
   "source": [
    "try is usedd for to avoid termination of program if error occurs in the program.so if we hav doubtful statements in our code\n",
    "so we can write that in the try block to check their exwecution in the code."
   ]
  },
  {
   "cell_type": "markdown",
   "metadata": {},
   "source": [
    "# Q2. What are the two most popular try statement variations?"
   ]
  },
  {
   "cell_type": "code",
   "execution_count": 2,
   "metadata": {},
   "outputs": [
    {
     "name": "stdout",
     "output_type": "stream",
     "text": [
      "2.0\n",
      "try block succesfully executed\n",
      "at last finally block caan be executing\n"
     ]
    }
   ],
   "source": [
    "try:\n",
    "    a=2\n",
    "    b=1\n",
    "    c=a/b\n",
    "    print(c)\n",
    "except Exception as a:\n",
    "    print(a)\n",
    "else:\n",
    "    print(\"try block succesfully executed\")\n",
    "finally:\n",
    "    print(\"at last finally block caan be executing\")"
   ]
  },
  {
   "cell_type": "code",
   "execution_count": 3,
   "metadata": {},
   "outputs": [
    {
     "name": "stdout",
     "output_type": "stream",
     "text": [
      "2.0\n"
     ]
    }
   ],
   "source": [
    "try:\n",
    "    a=2\n",
    "    b=1\n",
    "    c=a/b\n",
    "    print(c)\n",
    "except Exception as a:\n",
    "    print(a)"
   ]
  },
  {
   "cell_type": "markdown",
   "metadata": {},
   "source": [
    "# Q3. What is the purpose of the raise statement?"
   ]
  },
  {
   "cell_type": "code",
   "execution_count": 13,
   "metadata": {},
   "outputs": [
    {
     "name": "stdout",
     "output_type": "stream",
     "text": [
      "0.6666666666666666\n"
     ]
    }
   ],
   "source": [
    "# raise is used for the creating the custom exceptions also it is used for the raise the exception anually if we want because \n",
    "# it come under hierarchy of Exception class in thses class we have checked and unchecked exception/\n",
    "try:\n",
    "    a=2\n",
    "    b=3\n",
    "    if b==0:\n",
    "        raise ArithmeticError('arithematic error occurs')\n",
    "    else:\n",
    "        c=a/b\n",
    "        print(c)\n",
    "except Exception as a:\n",
    "    print(a)"
   ]
  },
  {
   "cell_type": "markdown",
   "metadata": {},
   "source": [
    "# Q4. What does the assert statement do, and what other statement is it like?"
   ]
  },
  {
   "cell_type": "code",
   "execution_count": 16,
   "metadata": {},
   "outputs": [],
   "source": [
    "# Assertion is also one of the error class in the python if assert statements true than it will be executes proprly otherwise it \n",
    "# raises assertion error in the program.It returns true false of the above statement."
   ]
  },
  {
   "cell_type": "code",
   "execution_count": 23,
   "metadata": {},
   "outputs": [
    {
     "name": "stdout",
     "output_type": "stream",
     "text": [
      "fine\n"
     ]
    }
   ],
   "source": [
    "a=10\n",
    "assert(1)\n",
    "print('fine')"
   ]
  },
  {
   "cell_type": "markdown",
   "metadata": {},
   "source": [
    "# Q5. What is the purpose of the with/as argument, and what other statement is it like?"
   ]
  },
  {
   "cell_type": "code",
   "execution_count": 24,
   "metadata": {},
   "outputs": [],
   "source": [
    "# with statement in Python is used in exception handling to make the code cleaner and much more readable.\n",
    "# It simplifies the management of common resources like file streams. Observe the following code example on how the \n",
    "# use of with statement makes code cleaner."
   ]
  },
  {
   "cell_type": "code",
   "execution_count": 26,
   "metadata": {},
   "outputs": [
    {
     "name": "stdout",
     "output_type": "stream",
     "text": [
      "<_io.TextIOWrapper name='dummy.txt' mode='w+' encoding='cp1252'>\n"
     ]
    }
   ],
   "source": [
    "with open('dummy.txt','w+') as a:\n",
    "    print(a)"
   ]
  }
 ],
 "metadata": {
  "kernelspec": {
   "display_name": "Python 3",
   "language": "python",
   "name": "python3"
  },
  "language_info": {
   "codemirror_mode": {
    "name": "ipython",
    "version": 3
   },
   "file_extension": ".py",
   "mimetype": "text/x-python",
   "name": "python",
   "nbconvert_exporter": "python",
   "pygments_lexer": "ipython3",
   "version": "3.8.10"
  }
 },
 "nbformat": 4,
 "nbformat_minor": 4
}
