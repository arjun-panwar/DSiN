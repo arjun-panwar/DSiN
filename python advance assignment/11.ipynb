{
 "cells": [
  {
   "cell_type": "markdown",
   "metadata": {},
   "source": [
    "# Q1. What is the concept of a metaclass?"
   ]
  },
  {
   "cell_type": "markdown",
   "metadata": {},
   "source": [
    "meta class is the class that creates class with the help of type and __new__ magic method.\n",
    "class defines the properties and available actions of its object and also it acts as a factory for object creation. Let’s understand the process by creating a class using type directly. The exact class that is used for class instantiation is called type. Normally, we define a class using a special syntax called the class keyword, \n",
    "but this syntax is a substitute for type class"
   ]
  },
  {
   "cell_type": "markdown",
   "metadata": {},
   "source": [
    "# Q2. What is the best way to declare a class's metaclass?"
   ]
  },
  {
   "cell_type": "code",
   "execution_count": null,
   "metadata": {},
   "outputs": [],
   "source": [
    "class FoodType(object):\n",
    "  def __init__(self, ftype):\n",
    "    self.ftype = ftype\n",
    "      \n",
    "  def getFtype(self):\n",
    "    return self.ftype\n",
    "    \n",
    "  \n",
    "def main():\n",
    "  fType = FoodType(ftype = 'Vegetarian')\n",
    "  print(fType.getFtype())\n",
    "    \n",
    "main()"
   ]
  },
  {
   "cell_type": "code",
   "execution_count": 24,
   "metadata": {},
   "outputs": [
    {
     "name": "stdout",
     "output_type": "stream",
     "text": [
      "Vegetarian\n"
     ]
    }
   ],
   "source": [
    "def init(self, ftype):\n",
    "    self.ftype = ftype\n",
    "  \n",
    "def getFtype(self):\n",
    "    return self.ftype \n",
    "  \n",
    "FoodType = type('FoodType', (object, ), {\n",
    "    '__init__': init,\n",
    "    'getFtype' : getFtype,\n",
    "    })\n",
    "  \n",
    "fType = FoodType(ftype ='Vegetarian')\n",
    "print(fType.getFtype())"
   ]
  },
  {
   "cell_type": "markdown",
   "metadata": {},
   "source": [
    "# Q3. How do class decorators overlap with metaclasses for handling classes?"
   ]
  },
  {
   "cell_type": "code",
   "execution_count": 4,
   "metadata": {},
   "outputs": [],
   "source": [
    "from functools import wraps\n",
    " \n",
    "def debug(func):\n",
    "    '''decorator for debugging passed function'''\n",
    "     \n",
    "    @wraps(func)\n",
    "    def wrapper(*args, **kwargs):\n",
    "        print(\"Full name of this method:\", func.__qualname__)\n",
    "        return func(*args, **kwargs)\n",
    "    return wrapper\n",
    " \n",
    "def debugmethods(cls):\n",
    "    '''class decorator make use of debug decorator\n",
    "       to debug class methods '''\n",
    "     \n",
    "    # check in class dictionary for any callable(method)\n",
    "    # if exist, replace it with debugged version\n",
    "    for key, val in vars(cls).items():\n",
    "        if callable(val):\n",
    "            setattr(cls, key, debug(val))\n",
    "    return cls"
   ]
  },
  {
   "cell_type": "markdown",
   "metadata": {},
   "source": [
    "# Q4. How do class decorators overlap with metaclasses for handling instances?"
   ]
  },
  {
   "cell_type": "code",
   "execution_count": 7,
   "metadata": {},
   "outputs": [],
   "source": [
    "from functools import wraps\n",
    " \n",
    "def debug(func):\n",
    "    '''decorator for debugging passed function'''\n",
    "     \n",
    "    @wraps(func)\n",
    "    def wrapper(*args, **kwargs):\n",
    "        print(\"Full name of this method:\", func.__qualname__)\n",
    "        return func(*args, **kwargs)\n",
    "    return wrapper\n",
    " \n",
    "def debugmethods(cls):\n",
    "    '''class decorator make use of debug decorator\n",
    "       to debug class methods '''\n",
    "     \n",
    "    # check in class dictionary for any callable(method)\n",
    "    # if exist, replace it with debugged version\n",
    "    for key, val in vars(cls).items():\n",
    "        if callable(val):\n",
    "            setattr(cls, key, debug(val))\n",
    "    return cls"
   ]
  }
 ],
 "metadata": {
  "kernelspec": {
   "display_name": "Python 3",
   "language": "python",
   "name": "python3"
  },
  "language_info": {
   "codemirror_mode": {
    "name": "ipython",
    "version": 3
   },
   "file_extension": ".py",
   "mimetype": "text/x-python",
   "name": "python",
   "nbconvert_exporter": "python",
   "pygments_lexer": "ipython3",
   "version": "3.8.10"
  }
 },
 "nbformat": 4,
 "nbformat_minor": 4
}
