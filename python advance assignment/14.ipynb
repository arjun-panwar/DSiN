{
 "cells": [
  {
   "cell_type": "markdown",
   "metadata": {},
   "source": [
    "# Q1. Is an assignment operator like += only for show? Is it possible that it would lead to faster results at the runtime?\n"
   ]
  },
  {
   "cell_type": "code",
   "execution_count": 9,
   "metadata": {},
   "outputs": [
    {
     "name": "stdout",
     "output_type": "stream",
     "text": [
      "--- 4.7691380977630615 seconds as a execution for above code---\n"
     ]
    }
   ],
   "source": [
    "import time\n",
    "start_time = time.time()\n",
    "sum=0\n",
    "for i in range(10000000):\n",
    "    sum+=i\n",
    "print(\"--- %s seconds as a execution for above code---\" % (time.time() - start_time))"
   ]
  },
  {
   "cell_type": "code",
   "execution_count": 8,
   "metadata": {},
   "outputs": [
    {
     "name": "stdout",
     "output_type": "stream",
     "text": [
      "--- 4.650705337524414 seconds as a execution for above code ---\n"
     ]
    }
   ],
   "source": [
    "start_time = time.time()\n",
    "sum=0\n",
    "for i in range(10000000):\n",
    "    sum=sum+i\n",
    "print(\"--- %s seconds as a execution for above code ---\" % (time.time() - start_time))\n",
    "\n",
    "# ==>Here is not any  like aexecution te both requireds a same time to execute that's just an assignment operator alias"
   ]
  },
  {
   "cell_type": "markdown",
   "metadata": {},
   "source": [
    "# Q2. What is the smallest number of statements you'd have to write in most programming languages to replace the Python expression a, b = a + b, a?\n"
   ]
  },
  {
   "cell_type": "code",
   "execution_count": 14,
   "metadata": {},
   "outputs": [
    {
     "name": "stdout",
     "output_type": "stream",
     "text": [
      "22 10\n"
     ]
    }
   ],
   "source": [
    "a=10\n",
    "b=12\n",
    "temp=a\n",
    "a=a+b\n",
    "b=temp\n",
    "print(a,b)"
   ]
  },
  {
   "cell_type": "markdown",
   "metadata": {},
   "source": [
    "# Q3. In Python, what is the most effective way to set a list of 100 integers to 0?\n"
   ]
  },
  {
   "cell_type": "code",
   "execution_count": 15,
   "metadata": {},
   "outputs": [],
   "source": [
    "ls=[0 for i in range(101)]"
   ]
  },
  {
   "cell_type": "markdown",
   "metadata": {},
   "source": [
    "# Q4. What is the most effective way to initialise a list of 99 integers that repeats the sequence 1, 2, 3? S If necessary, show step-by-step instructions on how to accomplish this.\n"
   ]
  },
  {
   "cell_type": "code",
   "execution_count": 2,
   "metadata": {},
   "outputs": [],
   "source": [
    "ls2=[]\n",
    "for i in range(1,int(100/3)):\n",
    "    for j in range(1,4):\n",
    "        ls2.append(j)\n"
   ]
  },
  {
   "cell_type": "code",
   "execution_count": 24,
   "metadata": {},
   "outputs": [],
   "source": [
    "\n",
    "ls=[[i for i in range(1,4)] for i in range(100)]"
   ]
  },
  {
   "cell_type": "markdown",
   "metadata": {},
   "source": [
    "# Q5. If you're using IDLE to run a Python application, explain how to print a multidimensional list as efficiently?\n"
   ]
  },
  {
   "cell_type": "markdown",
   "metadata": {},
   "source": [
    "As same as we done it in a pycharm or vs code or jupyter ntebook but their we have to run code by command prompt or ower shell."
   ]
  },
  {
   "cell_type": "markdown",
   "metadata": {},
   "source": [
    "# Q6. Is it possible to use list comprehension with a string? If so, how can you go about doing it?\n"
   ]
  },
  {
   "cell_type": "code",
   "execution_count": 26,
   "metadata": {},
   "outputs": [],
   "source": [
    "ls3=['string' for i in range(11)]"
   ]
  },
  {
   "cell_type": "code",
   "execution_count": 27,
   "metadata": {},
   "outputs": [
    {
     "data": {
      "text/plain": [
       "['string',\n",
       " 'string',\n",
       " 'string',\n",
       " 'string',\n",
       " 'string',\n",
       " 'string',\n",
       " 'string',\n",
       " 'string',\n",
       " 'string',\n",
       " 'string',\n",
       " 'string']"
      ]
     },
     "execution_count": 27,
     "metadata": {},
     "output_type": "execute_result"
    }
   ],
   "source": [
    "ls3"
   ]
  },
  {
   "cell_type": "markdown",
   "metadata": {},
   "source": [
    "# Q7. From the command line, how do you get support with a user-written Python programme? Is this possible from inside IDLE?\n"
   ]
  },
  {
   "cell_type": "markdown",
   "metadata": {},
   "source": [
    "simply we have to write the program in the idle and after wards we have to go where our program is saved in the directory\n",
    "through command line and we have to write command   \"python <python_file_name>.py\" and enter to run the code."
   ]
  },
  {
   "cell_type": "markdown",
   "metadata": {},
   "source": [
    "# Q8. Functions are said to be “first-class objects” in Python but not in most other languages, such as C++ or Java. What can you do in Python with a function (callable object) that you can't do in C or C++?\n"
   ]
  },
  {
   "cell_type": "code",
   "execution_count": 34,
   "metadata": {},
   "outputs": [],
   "source": [
    "def run(s):\n",
    "    print('python\\n\\r functions are also object demonstration')"
   ]
  },
  {
   "cell_type": "code",
   "execution_count": 35,
   "metadata": {},
   "outputs": [
    {
     "name": "stdout",
     "output_type": "stream",
     "text": [
      "python\n",
      " functions are also object demonstration\n"
     ]
    }
   ],
   "source": [
    "a=run\n",
    "a('str')"
   ]
  },
  {
   "cell_type": "markdown",
   "metadata": {},
   "source": [
    "# Q9. How do you distinguish between a wrapper, a wrapped feature, and a decorator?\n"
   ]
  },
  {
   "cell_type": "code",
   "execution_count": 4,
   "metadata": {},
   "outputs": [],
   "source": [
    "def islower(s):\n",
    "    s=s.lower()\n",
    "    return s\n",
    "def isupper(s):\n",
    "    return s.upper()\n",
    "def str_values(func,Str):\n",
    "    a=func(Str)\n",
    "    print(a)\n",
    "    \n",
    "    \n",
    "    \n",
    "    "
   ]
  },
  {
   "cell_type": "code",
   "execution_count": 6,
   "metadata": {},
   "outputs": [
    {
     "name": "stdout",
     "output_type": "stream",
     "text": [
      "my name is arjun\n",
      "MY NAME IS ARJUN\n"
     ]
    }
   ],
   "source": [
    "\n",
    "str_values(islower,'my name IS ARJUN')\n",
    "str_values(isupper,'MY NAME IS arjun')"
   ]
  },
  {
   "cell_type": "code",
   "execution_count": 38,
   "metadata": {},
   "outputs": [
    {
     "data": {
      "text/plain": [
       "'RAM'"
      ]
     },
     "execution_count": 38,
     "metadata": {},
     "output_type": "execute_result"
    }
   ],
   "source": [
    "a='ram'\n",
    "s=a.upper()\n",
    "s"
   ]
  },
  {
   "cell_type": "code",
   "execution_count": 45,
   "metadata": {},
   "outputs": [
    {
     "name": "stdout",
     "output_type": "stream",
     "text": [
      "Hello, this is before function execution\n",
      "This is inside the function !!\n",
      "This is after function execution\n"
     ]
    }
   ],
   "source": [
    "# defining a decorator \n",
    "def hello_decorator(func): \n",
    "    \n",
    "    \n",
    "    def inner1(): \n",
    "        print(\"Hello, this is before function execution\") \n",
    "    \n",
    "        \n",
    "        func() \n",
    "    \n",
    "        print(\"This is after function execution\") \n",
    "            \n",
    "    return inner1 \n",
    "    \n",
    "    \n",
    "# defining a function, to be called inside wrapper \n",
    "def function_to_be_used(): \n",
    "    print(\"This is inside the function !!\") \n",
    "    \n",
    "    \n",
    "\n",
    "function_to_be_used = hello_decorator(function_to_be_used) \n",
    "    \n",
    "    \n",
    "# calling the function \n",
    "function_to_be_used() "
   ]
  },
  {
   "cell_type": "code",
   "execution_count": 7,
   "metadata": {},
   "outputs": [],
   "source": [
    "def outer(f):\n",
    "    print('outer execution')\n",
    "    def inner():\n",
    "        aaa='arjun'\n",
    "        f()\n",
    "#         print(sww)\n",
    "        \n",
    "    return inner\n",
    "\n",
    "def fun():\n",
    "    print('fun function')"
   ]
  },
  {
   "cell_type": "code",
   "execution_count": 8,
   "metadata": {},
   "outputs": [
    {
     "name": "stdout",
     "output_type": "stream",
     "text": [
      "outer execution\n",
      "fun function\n"
     ]
    }
   ],
   "source": [
    "s=outer(fun)\n",
    "s()\n"
   ]
  },
  {
   "cell_type": "markdown",
   "metadata": {},
   "source": [
    "# Q10. If a function is a generator function, what does it return?\n"
   ]
  },
  {
   "cell_type": "code",
   "execution_count": 135,
   "metadata": {},
   "outputs": [],
   "source": [
    "def gen(a):\n",
    "    a+=2\n",
    "    yield a"
   ]
  },
  {
   "cell_type": "code",
   "execution_count": 136,
   "metadata": {},
   "outputs": [
    {
     "data": {
      "text/plain": [
       "<generator object gen at 0x06FB53F0>"
      ]
     },
     "execution_count": 136,
     "metadata": {},
     "output_type": "execute_result"
    }
   ],
   "source": [
    "s=gen(1)\n",
    "s"
   ]
  },
  {
   "cell_type": "code",
   "execution_count": 137,
   "metadata": {},
   "outputs": [
    {
     "data": {
      "text/plain": [
       "3"
      ]
     },
     "execution_count": 137,
     "metadata": {},
     "output_type": "execute_result"
    }
   ],
   "source": [
    "next(s)\n",
    "# ==> iT returns a genrator object"
   ]
  },
  {
   "cell_type": "markdown",
   "metadata": {},
   "source": [
    "# Q11. What is the one improvement that must be made to a function in order for it to become a generator function in the Python language?\n"
   ]
  },
  {
   "cell_type": "markdown",
   "metadata": {},
   "source": [
    "we have to use or write a function in like that fashion that so it can be have infinite pipelines returns so \n",
    " it is more usefu than normal function on that case"
   ]
  },
  {
   "cell_type": "markdown",
   "metadata": {},
   "source": [
    "# Q12. Identify at least one benefit of generators.\n"
   ]
  },
  {
   "cell_type": "raw",
   "metadata": {},
   "source": [
    "it is a don't stop  to upto last of execution returns it gives return value as it genrates from genrator function continuosly.\n",
    " so memory gets free as return goes to recieving genrator function also it is annonymous function like a lambda.\n",
    " we don't have to wait here until full of executions.\n",
    "\n",
    " Generators are excellent mediums to represent an infinite stream of data. \n",
    " Infinite streams cannot be stored in memory, and since generators produce only one \n",
    " item at a time, they can represent an infinite stream of data."
   ]
  },
  {
   "cell_type": "code",
   "execution_count": null,
   "metadata": {},
   "outputs": [],
   "source": []
  }
 ],
 "metadata": {
  "kernelspec": {
   "display_name": "Python 3",
   "language": "python",
   "name": "python3"
  },
  "language_info": {
   "codemirror_mode": {
    "name": "ipython",
    "version": 3
   },
   "file_extension": ".py",
   "mimetype": "text/x-python",
   "name": "python",
   "nbconvert_exporter": "python",
   "pygments_lexer": "ipython3",
   "version": "3.8.10"
  }
 },
 "nbformat": 4,
 "nbformat_minor": 4
}
