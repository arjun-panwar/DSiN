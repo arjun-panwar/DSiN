{
 "cells": [
  {
   "cell_type": "markdown",
   "metadata": {},
   "source": [
    "# Q1. What is the difference between __getattr__ and __getattribute__?"
   ]
  },
  {
   "cell_type": "code",
   "execution_count": 1,
   "metadata": {},
   "outputs": [
    {
     "name": "stdout",
     "output_type": "stream",
     "text": [
      "1\n",
      "10\n",
      "arjun\n"
     ]
    }
   ],
   "source": [
    "class Count(object):\n",
    "\n",
    "    def __init__(self,mymin,mymax):\n",
    "        self.mymin=mymin\n",
    "        self.mymax=mymax\n",
    "        self.current=None\n",
    "\n",
    "    def __getattr__(self, item):\n",
    "            self.__dict__[item]='arjun'\n",
    "            return 'arjun'\n",
    "\n",
    "    def __getattribute__(self, item):\n",
    "        if item.startswith('cur'):\n",
    "            raise AttributeError\n",
    "        return super().__getattribute__(item)\n",
    "#         or you can use ---return \n",
    "#         note this class subclass object\n",
    "\n",
    "obj1 = Count(1,10)\n",
    "print(obj1.mymin)\n",
    "print(obj1.mymax)\n",
    "print(obj1.current)"
   ]
  },
  {
   "cell_type": "code",
   "execution_count": null,
   "metadata": {},
   "outputs": [],
   "source": [
    "# A key difference between __getattr__ and __getattribute__ is that __getattr__\n",
    "# is only invoked if the attribute wasn't found the usual ways. \n",
    "# It's good for implementing a fallback for missing attributes, and is probably the one of two you want."
   ]
  },
  {
   "cell_type": "markdown",
   "metadata": {},
   "source": [
    "# Q2. What is the difference between properties and descriptors?"
   ]
  },
  {
   "cell_type": "code",
   "execution_count": 114,
   "metadata": {},
   "outputs": [
    {
     "name": "stdout",
     "output_type": "stream",
     "text": [
      "20\n"
     ]
    }
   ],
   "source": [
    "class Descriptor(object):\n",
    "  \n",
    "    def __init__(self, name =''):\n",
    "        self.name = name\n",
    "  \n",
    "    def __get__(self, obj, objtype):\n",
    "        return self.name+10\n",
    "  \n",
    "    def __set__(self, obj, name):\n",
    "        if isinstance(name, int):\n",
    "            self.name = name\n",
    "        else:\n",
    "            raise TypeError(\"Name should be string\")\n",
    "          \n",
    "class GFG(object):\n",
    "    name = Descriptor()\n",
    "    \n",
    "g = GFG()\n",
    "g.name = 10\n",
    "print(g.name)\n",
    "\n",
    "    "
   ]
  },
  {
   "cell_type": "code",
   "execution_count": 115,
   "metadata": {},
   "outputs": [
    {
     "name": "stdout",
     "output_type": "stream",
     "text": [
      "Getting value\n",
      "GeeksforGeeks\n",
      "Setting value to GfG\n",
      "Deleting value\n"
     ]
    }
   ],
   "source": [
    "class Alphabet:\n",
    "    def __init__(self, value):\n",
    "        self._value = value\n",
    "          \n",
    "    # getting the values\n",
    "    def getValue(self):\n",
    "        print('Getting value')\n",
    "        return self._value\n",
    "          \n",
    "    # setting the values\n",
    "    def setValue(self, value):\n",
    "        print('Setting value to ' + value)\n",
    "        self._value = value\n",
    "          \n",
    "    # deleting the values\n",
    "    def delValue(self):\n",
    "        print('Deleting value')\n",
    "        del self._value\n",
    "      \n",
    "    value = property(getValue, setValue, delValue, )\n",
    "  \n",
    "# passing the value\n",
    "x = Alphabet('GeeksforGeeks')\n",
    "print(x.value)\n",
    "  \n",
    "x.value = 'GfG'\n",
    "  \n",
    "del x.value"
   ]
  },
  {
   "cell_type": "markdown",
   "metadata": {},
   "source": [
    "# Q3. What are the key differences in functionality between __getattr__ and __getattribute__, as well as properties and descriptors?\n"
   ]
  },
  {
   "cell_type": "code",
   "execution_count": 44,
   "metadata": {},
   "outputs": [],
   "source": [
    "# A key difference between __getattr__ and __getattribute__ is that __getattr__\n",
    "# is only invoked if the attribute wasn't found the usual ways. \n",
    "# It's good for implementing a fallback for missing attributes, and is probably the one of two you want."
   ]
  }
 ],
 "metadata": {
  "kernelspec": {
   "display_name": "Python 3",
   "language": "python",
   "name": "python3"
  },
  "language_info": {
   "codemirror_mode": {
    "name": "ipython",
    "version": 3
   },
   "file_extension": ".py",
   "mimetype": "text/x-python",
   "name": "python",
   "nbconvert_exporter": "python",
   "pygments_lexer": "ipython3",
   "version": "3.8.10"
  }
 },
 "nbformat": 4,
 "nbformat_minor": 4
}
