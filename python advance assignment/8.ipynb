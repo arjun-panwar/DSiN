{
 "cells": [
  {
   "cell_type": "markdown",
   "metadata": {},
   "source": [
    "# Q1. In Python 3.X, what are the names and functions of string object types?"
   ]
  },
  {
   "cell_type": "raw",
   "metadata": {},
   "source": [
    "capitalize\n",
    "casefold\n",
    "center\n",
    "count\n",
    "encode\n",
    "endswith\n",
    "expandtabs\n",
    "findformat\n",
    "format_map\n",
    "index\n",
    "isalnum\n",
    "isalpha\n",
    "isascii\n",
    "isdecimal\n",
    "isdigitisidentifier\n",
    "islower\n",
    "isnumeric\n",
    "isprintable\n",
    "isspace\n",
    "istitle\n",
    "isupper\n",
    "join\n",
    "ljust\n",
    "lower\n",
    "lstrip\n",
    "#  and many more.."
   ]
  },
  {
   "cell_type": "markdown",
   "metadata": {},
   "source": [
    "# Q2. How do the string forms in Python 3.X vary in terms of operations?\n"
   ]
  },
  {
   "cell_type": "markdown",
   "metadata": {},
   "source": [
    "string will forms in python is  charcter concatination.tuple concates in a whole string."
   ]
  },
  {
   "cell_type": "code",
   "execution_count": 2,
   "metadata": {},
   "outputs": [
    {
     "data": {
      "text/plain": [
       "'arjun'"
      ]
     },
     "execution_count": 2,
     "metadata": {},
     "output_type": "execute_result"
    }
   ],
   "source": [
    "s=('a','r','j','u','n')\n",
    "''.join(s)"
   ]
  },
  {
   "cell_type": "markdown",
   "metadata": {},
   "source": [
    "# Q3. In 3.X, how do you put non-ASCII Unicode characters in a string?\n"
   ]
  },
  {
   "cell_type": "code",
   "execution_count": 9,
   "metadata": {},
   "outputs": [
    {
     "data": {
      "text/plain": [
       "b'.\\xe7\\xbd\\x91\\xe7\\xbb\\x9c'"
      ]
     },
     "execution_count": 9,
     "metadata": {},
     "output_type": "execute_result"
    }
   ],
   "source": [
    "a='.网络'\n",
    "a.encode()"
   ]
  },
  {
   "cell_type": "markdown",
   "metadata": {},
   "source": [
    "# Q4. In Python 3.X, what are the key differences between text-mode and binary-mode files?\n"
   ]
  },
  {
   "cell_type": "code",
   "execution_count": 3,
   "metadata": {},
   "outputs": [
    {
     "name": "stdout",
     "output_type": "stream",
     "text": [
      "b'arjun'\n"
     ]
    }
   ],
   "source": [
    "print(b'arjun')\n",
    "# The major difference between these two is that a text file contains textual information in the form of alphabets, digits and special characters or symbols. ... On the other hand\n",
    "#  a binary file contains bytes or a compiled version of a text file"
   ]
  },
  {
   "cell_type": "code",
   "execution_count": 11,
   "metadata": {},
   "outputs": [
    {
     "name": "stdout",
     "output_type": "stream",
     "text": [
      "rohan\n"
     ]
    }
   ],
   "source": [
    "print('rohan')"
   ]
  },
  {
   "cell_type": "markdown",
   "metadata": {},
   "source": [
    "# Q5. How can you interpret a Unicode text file containing text encoded in a different encoding than your platform's default?\n"
   ]
  },
  {
   "cell_type": "code",
   "execution_count": 15,
   "metadata": {},
   "outputs": [
    {
     "name": "stdout",
     "output_type": "stream",
     "text": [
      "False\n"
     ]
    },
    {
     "data": {
      "text/plain": [
       "False"
      ]
     },
     "execution_count": 15,
     "metadata": {},
     "output_type": "execute_result"
    }
   ],
   "source": [
    "s='「蜜」的異體字？'\n",
    "print(s.isascii())\n",
    "s.isidentifier()"
   ]
  },
  {
   "cell_type": "markdown",
   "metadata": {},
   "source": [
    "# Q6. What is the best way to make a Unicode text file in a particular encoding format?\n"
   ]
  },
  {
   "cell_type": "code",
   "execution_count": 28,
   "metadata": {},
   "outputs": [
    {
     "data": {
      "text/plain": [
       "b'theses is a english language '"
      ]
     },
     "execution_count": 28,
     "metadata": {},
     "output_type": "execute_result"
    }
   ],
   "source": [
    "data = 'theses is a english language '\n",
    "data.encode()"
   ]
  },
  {
   "cell_type": "markdown",
   "metadata": {},
   "source": [
    "# Q7. What qualifies ASCII text as a form of Unicode text?\n"
   ]
  },
  {
   "cell_type": "code",
   "execution_count": null,
   "metadata": {},
   "outputs": [],
   "source": [
    "# isascii() method ret`urns True if it is a unicode text that is a default of python."
   ]
  },
  {
   "cell_type": "markdown",
   "metadata": {},
   "source": [
    "# Q8. How much of an effect does the change in string types in Python 3.X have on your code?\n"
   ]
  },
  {
   "cell_type": "markdown",
   "metadata": {},
   "source": [
    "Now in python 3.x there are many more methods and facillities are there for  string types many more  builtins functions \n",
    "cosmic super class object functions are got to use."
   ]
  }
 ],
 "metadata": {
  "kernelspec": {
   "display_name": "Python 3",
   "language": "python",
   "name": "python3"
  },
  "language_info": {
   "codemirror_mode": {
    "name": "ipython",
    "version": 3
   },
   "file_extension": ".py",
   "mimetype": "text/x-python",
   "name": "python",
   "nbconvert_exporter": "python",
   "pygments_lexer": "ipython3",
   "version": "3.8.10"
  }
 },
 "nbformat": 4,
 "nbformat_minor": 4
}
