{
 "cells": [
  {
   "cell_type": "code",
   "execution_count": 86,
   "metadata": {},
   "outputs": [
    {
     "name": "stdout",
     "output_type": "stream",
     "text": [
      "Enter Source........(for linux:    /home/arjun/Downloads)/home/arjun/Downloads\n",
      " Enter destination........(for linux:    /home/arjun/Documents)/home/arjun/Documents\n"
     ]
    }
   ],
   "source": [
    "def check(string, sub_str):\n",
    "    \"\"\"\n",
    "    this function is used to check keyword in file name\n",
    "    return boolean value True or False\n",
    "    \"\"\"\n",
    "    if (string.find(sub_str) != -1):\n",
    "        return True\n",
    "    else:\n",
    "        return False\n",
    "i=\"Assignment_1 (1).docx\"\n",
    "def rename(i):\n",
    "    \"\"\"\n",
    "    This function is used to rename the file name,\n",
    "    it gives tuple of len 2\n",
    "    first: by removing  bracket from file name\n",
    "    second: by adding numeric value(if present in file name) at the last of string\n",
    "    \"\"\"\n",
    "    try:\n",
    "        i=i[0:i.index(\"(\")].strip() +i[i.index(\")\")+1:]\n",
    "\n",
    "    except:\n",
    "        pass\n",
    "    n=\"\"\n",
    "    j=\"\"\n",
    "    for w in i:\n",
    "        if w.isdigit():\n",
    "            n+=w\n",
    "\n",
    "    try:\n",
    "        j=i[0:i.index(\".\")]+n+i[i.index(\".\"):]\n",
    "\n",
    "    except:\n",
    "        pass\n",
    "    return i,j\n",
    "def file(filename,i):\n",
    "    \"\"\"\n",
    "    This function is used to copy questions from files to single file\n",
    "    \"\"\"\n",
    "    f = open(filename, \"a+\")\n",
    "    f.write(\"\\n\"+i+\"\\n\\n\")\n",
    "    doc = docx.Document(i)\n",
    "\n",
    "    for para in doc.paragraphs:\n",
    "        f.write(para.text+\"\\n\")\n",
    "\n",
    "    f.close()\n",
    "\n",
    "import shutil, os\n",
    "import docx\n",
    "source=input('Enter Source........(for linux:    /home/arjun/Downloads)')\n",
    "destination=input(' Enter destination........(for linux:    /home/arjun/Documents)')\n",
    "os.chdir(source)\n",
    "l=os.listdir()\n",
    "\n",
    "for i in l:\n",
    "   \n",
    "    ld=os.listdir(destination)\n",
    "    dest=\"\"\n",
    "    if(check(i, \"Assignment\") or check(i, \"Assingment\")):\n",
    "        \n",
    "        if check(i,\"Programming\"):\n",
    "           \n",
    "            if i[0:i.index(\"t\")+1] not in ld:\n",
    "                os.mkdir(destination+\"//\"+i[0:i.index(\"t\")+1])\n",
    "                \n",
    "            dest=destination+ \"//\"+i[0:i.index(\"t\")+1]\n",
    "            \n",
    "            filename=destination+\"//\"+i[0:i.index(\"t\")+1]+\".txt\"\n",
    "            file(filename,i)\n",
    "            \n",
    "        else:\n",
    "            \n",
    "            if i[0:i.index(\"t\")+1] not in ld:    \n",
    "                os.mkdir(destination+\"//\"+i[0:i.index(\"t\")+1])\n",
    "                \n",
    "            dest=destination+ \"//\"+i[0:i.index(\"t\")+1]\n",
    "            \n",
    "            filename=destination+\"//\"+i[0:i.index(\"t\")+1]+\".txt\"\n",
    "            file(filename,i)\n",
    "                        \n",
    "        fn=i\n",
    "\n",
    "        if rename(i)[0] in ld:\n",
    "            os.rename(i,rename(i)[1])\n",
    "            fn=rename(i)[1]\n",
    "\n",
    "        shutil.move(fn, dest)\n",
    "        "
   ]
  },
  {
   "cell_type": "code",
   "execution_count": 85,
   "metadata": {},
   "outputs": [],
   "source": [
    "source='/home/arjun/Documents/Assignment'\n",
    "destination='/home/arjun/Downloads'\n",
    "os.chdir(source)\n",
    "l=os.listdir()\n",
    "\n",
    "for i in l:\n",
    "   if(check(i, \"Assignment\") or check(i, \"Assingment\")):\n",
    "                shutil.move(i, destination)\n",
    "source='/home/arjun/Documents/Programming_Assingment'\n",
    "destination='/home/arjun/Downloads'\n",
    "os.chdir(source)\n",
    "l=os.listdir()\n",
    "\n",
    "for i in l:\n",
    "   if(check(i, \"Assignment\") or check(i, \"Assingment\")):\n",
    "                shutil.move(i, destination)\n",
    "source='/home/arjun/Downloads'\n",
    "destination='/home/arjun/Documents'\n"
   ]
  },
  {
   "cell_type": "code",
   "execution_count": 73,
   "metadata": {},
   "outputs": [
    {
     "name": "stdout",
     "output_type": "stream",
     "text": [
      "Requirement already satisfied: python-docx in /home/arjun/snap/jupyter/common/lib/python3.7/site-packages (0.8.10)\n",
      "Requirement already satisfied: lxml>=2.3.2 in /home/arjun/snap/jupyter/common/lib/python3.7/site-packages (from python-docx) (4.6.3)\n",
      "Note: you may need to restart the kernel to use updated packages.\n"
     ]
    }
   ],
   "source": [
    "pip install python-docx \n"
   ]
  },
  {
   "cell_type": "code",
   "execution_count": 74,
   "metadata": {},
   "outputs": [],
   "source": [
    "i=\"Programming_Assingment10.docx\"\n",
    "if \"Assignment\" in i or \"Programming_Assingnment\" in i[0:i.index(\"t\")+1]:\n",
    "        print(True)"
   ]
  },
  {
   "cell_type": "code",
   "execution_count": null,
   "metadata": {},
   "outputs": [],
   "source": []
  },
  {
   "cell_type": "code",
   "execution_count": 175,
   "metadata": {},
   "outputs": [
    {
     "data": {
      "text/plain": [
       "('Programming_Assingment10.docx', 'Programming_Assingment1010.docx')"
      ]
     },
     "execution_count": 175,
     "metadata": {},
     "output_type": "execute_result"
    }
   ],
   "source": [
    "rename(i)"
   ]
  },
  {
   "cell_type": "code",
   "execution_count": 65,
   "metadata": {},
   "outputs": [
    {
     "name": "stdout",
     "output_type": "stream",
     "text": [
      "NO\n"
     ]
    }
   ],
   "source": [
    "def check(string, sub_str):\n",
    "    if (string.find(sub_str) != -1):\n",
    "        return True\n",
    "    else:\n",
    "        return False\n",
    "            \n",
    "# driver code\n",
    "string = \"Programming_Assingment10.docx\"\n",
    "sub_str =\"Assingment\"\n",
    "check(string, sub_str)"
   ]
  },
  {
   "cell_type": "code",
   "execution_count": null,
   "metadata": {},
   "outputs": [],
   "source": []
  }
 ],
 "metadata": {
  "kernelspec": {
   "display_name": "Python 3",
   "language": "python",
   "name": "python3"
  },
  "language_info": {
   "codemirror_mode": {
    "name": "ipython",
    "version": 3
   },
   "file_extension": ".py",
   "mimetype": "text/x-python",
   "name": "python",
   "nbconvert_exporter": "python",
   "pygments_lexer": "ipython3",
   "version": "3.7.3"
  }
 },
 "nbformat": 4,
 "nbformat_minor": 2
}
