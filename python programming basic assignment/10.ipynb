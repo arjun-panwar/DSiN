{
 "cells": [
  {
   "cell_type": "markdown",
   "metadata": {},
   "source": [
    "1. Write a Python program to find sum of elements in list?\n"
   ]
  },
  {
   "cell_type": "code",
   "execution_count": 1,
   "metadata": {},
   "outputs": [
    {
     "data": {
      "text/plain": [
       "45"
      ]
     },
     "execution_count": 1,
     "metadata": {},
     "output_type": "execute_result"
    }
   ],
   "source": [
    "def sum(arr):\n",
    "    s=0\n",
    "    for i in arr:\n",
    "        s+=i\n",
    "    return s\n",
    "sum([1,2,3,4,5,6,7,8,9])"
   ]
  },
  {
   "cell_type": "markdown",
   "metadata": {},
   "source": [
    "2. Write a Python program to Multiply all numbers in the list?\n"
   ]
  },
  {
   "cell_type": "code",
   "execution_count": 9,
   "metadata": {},
   "outputs": [
    {
     "data": {
      "text/plain": [
       "362880"
      ]
     },
     "execution_count": 9,
     "metadata": {},
     "output_type": "execute_result"
    }
   ],
   "source": [
    "def mul(arr):\n",
    "    m=1\n",
    "    for i in arr:\n",
    "        m*=i\n",
    "    return m\n",
    "mul([1,2,3,4,5,6,7,8,9])"
   ]
  },
  {
   "cell_type": "markdown",
   "metadata": {},
   "source": [
    "3. Write a Python program to find smallest number in a list?\n"
   ]
  },
  {
   "cell_type": "code",
   "execution_count": 12,
   "metadata": {},
   "outputs": [
    {
     "data": {
      "text/plain": [
       "-8"
      ]
     },
     "execution_count": 12,
     "metadata": {},
     "output_type": "execute_result"
    }
   ],
   "source": [
    "def small(arr):\n",
    "    s=arr[0]\n",
    "    for i in arr:\n",
    "        if i<s:\n",
    "            s=i\n",
    "        \n",
    "    return s\n",
    "small([1,2,3,4,5,6,7,-8,9])"
   ]
  },
  {
   "cell_type": "markdown",
   "metadata": {},
   "source": [
    "4. Write a Python program to find largest number in a list?\n"
   ]
  },
  {
   "cell_type": "code",
   "execution_count": 14,
   "metadata": {},
   "outputs": [
    {
     "data": {
      "text/plain": [
       "41"
      ]
     },
     "execution_count": 14,
     "metadata": {},
     "output_type": "execute_result"
    }
   ],
   "source": [
    "def large(arr):\n",
    "    l=arr[0]\n",
    "    for i in arr:\n",
    "        if i>l:\n",
    "            l=i\n",
    "        \n",
    "    return l\n",
    "large([1,2,3,41,5,6,7,-8,9])"
   ]
  },
  {
   "cell_type": "markdown",
   "metadata": {},
   "source": [
    "5. Write a Python program to find second largest number in a list?\n"
   ]
  },
  {
   "cell_type": "code",
   "execution_count": 17,
   "metadata": {},
   "outputs": [
    {
     "data": {
      "text/plain": [
       "7"
      ]
     },
     "execution_count": 17,
     "metadata": {},
     "output_type": "execute_result"
    }
   ],
   "source": [
    "def large(arr):\n",
    "    \n",
    "    for n in range(2):\n",
    "        l=arr[0]\n",
    "        for i in arr:\n",
    "            if i>l:\n",
    "                l=i\n",
    "        arr.remove(l)\n",
    "    return l\n",
    "large([1,2,3,4,5,6,7,-8,9])"
   ]
  },
  {
   "cell_type": "markdown",
   "metadata": {},
   "source": [
    "6. Write a Python program to find N largest elements from a list?\n"
   ]
  },
  {
   "cell_type": "code",
   "execution_count": 20,
   "metadata": {},
   "outputs": [
    {
     "data": {
      "text/plain": [
       "[9, 7, 6]"
      ]
     },
     "execution_count": 20,
     "metadata": {},
     "output_type": "execute_result"
    }
   ],
   "source": [
    "def large(arr,N):\n",
    "    lis=[]\n",
    "    for n in range(N):\n",
    "        l=arr[0]\n",
    "        for i in arr:\n",
    "            if i>l:\n",
    "                l=i\n",
    "        arr.remove(l)\n",
    "        lis.append(l)\n",
    "    return lis\n",
    "large([1,2,3,4,5,6,7,-8,9],3)"
   ]
  },
  {
   "cell_type": "markdown",
   "metadata": {},
   "source": [
    "7. Write a Python program to print even numbers in a list?\n"
   ]
  },
  {
   "cell_type": "code",
   "execution_count": 26,
   "metadata": {},
   "outputs": [
    {
     "name": "stdout",
     "output_type": "stream",
     "text": [
      "2 , 4 , 6 , -8 , "
     ]
    }
   ],
   "source": [
    "def even(arr):\n",
    "    for i in arr:\n",
    "        if i%2==0:\n",
    "            print(i,\", \",end=\"\")\n",
    "even([1,2,3,4,5,6,7,-8,9])"
   ]
  },
  {
   "cell_type": "markdown",
   "metadata": {},
   "source": [
    "8. Write a Python program to print odd numbers in a List?\n"
   ]
  },
  {
   "cell_type": "code",
   "execution_count": 27,
   "metadata": {},
   "outputs": [
    {
     "name": "stdout",
     "output_type": "stream",
     "text": [
      "1 , 3 , 5 , 7 , 9 , "
     ]
    }
   ],
   "source": [
    "def odd(arr):\n",
    "    for i in arr:\n",
    "        if i%2!=0:\n",
    "            print(i,\", \",end=\"\")\n",
    "odd([1,2,3,4,5,6,7,-8,9])"
   ]
  },
  {
   "cell_type": "markdown",
   "metadata": {},
   "source": [
    "9. Write a Python program to Remove empty List from List?\n"
   ]
  },
  {
   "cell_type": "code",
   "execution_count": 66,
   "metadata": {},
   "outputs": [
    {
     "data": {
      "text/plain": [
       "[1, 2, 3, [6, 7], 4, 5, 6, 7, -8, 9, [3, 23]]"
      ]
     },
     "execution_count": 66,
     "metadata": {},
     "output_type": "execute_result"
    }
   ],
   "source": [
    "def rem(arr):\n",
    "    for i in arr:\n",
    "        if type(i)==list and len(i)==0:\n",
    "            arr.remove(i)\n",
    "    return arr\n",
    "rem([1,2,3,[6,7],4,5,6,[],7,-8,9,[],[3,23]])"
   ]
  },
  {
   "cell_type": "markdown",
   "metadata": {},
   "source": [
    "10. Write a Python program to Cloning or Copying a list?\n"
   ]
  },
  {
   "cell_type": "code",
   "execution_count": 75,
   "metadata": {},
   "outputs": [
    {
     "name": "stdout",
     "output_type": "stream",
     "text": [
      "original [1, 2, 3, 4, 5, 6, 7, -8, 9, [], [3, 23]]\n",
      "COPY [1, 2, 'abc', 4, 5, 6, 7, -8, 9, [], [3, 23]]\n"
     ]
    }
   ],
   "source": [
    "arr=[1,2,3,4,5,6,7,-8,9,[],[3,23]]\n",
    "arr1=arr.copy()\n",
    "arr1[2]=\"abc\"\n",
    "print(\"original\",arr)\n",
    "print(\"COPY\",arr1)"
   ]
  },
  {
   "cell_type": "markdown",
   "metadata": {},
   "source": [
    "11. Write a Python program to Count occurrences of an element in a list?"
   ]
  },
  {
   "cell_type": "code",
   "execution_count": 77,
   "metadata": {},
   "outputs": [
    {
     "data": {
      "text/plain": [
       "3"
      ]
     },
     "execution_count": 77,
     "metadata": {},
     "output_type": "execute_result"
    }
   ],
   "source": [
    "def count(arr,n):\n",
    "    c=0\n",
    "    for i in arr:\n",
    "        if i==n:\n",
    "            c+=1\n",
    "        \n",
    "    return c\n",
    "count([1,2,3,4,1,5,6,7,-8,1,9],1)"
   ]
  },
  {
   "cell_type": "code",
   "execution_count": null,
   "metadata": {},
   "outputs": [],
   "source": []
  }
 ],
 "metadata": {
  "kernelspec": {
   "display_name": "Python 3",
   "language": "python",
   "name": "python3"
  },
  "language_info": {
   "codemirror_mode": {
    "name": "ipython",
    "version": 3
   },
   "file_extension": ".py",
   "mimetype": "text/x-python",
   "name": "python",
   "nbconvert_exporter": "python",
   "pygments_lexer": "ipython3",
   "version": "3.7.3"
  }
 },
 "nbformat": 4,
 "nbformat_minor": 2
}
