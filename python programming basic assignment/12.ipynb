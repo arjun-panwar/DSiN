{
 "cells": [
  {
   "cell_type": "markdown",
   "metadata": {},
   "source": [
    "1. Write a Python program to Extract Unique values dictionary values?\n",
    "    "
   ]
  },
  {
   "cell_type": "code",
   "execution_count": 11,
   "metadata": {},
   "outputs": [
    {
     "data": {
      "text/plain": [
       "[1, 2, 3, 4]"
      ]
     },
     "execution_count": 11,
     "metadata": {},
     "output_type": "execute_result"
    }
   ],
   "source": [
    "def unique(d):\n",
    "    t=[]\n",
    "    for i in d.values():\n",
    "        if i not in t:\n",
    "            t.append(i)\n",
    "    return t\n",
    "unique({\"a\":1,\"b\":2,\"c\":1,\"d\":3,\"e\":4})"
   ]
  },
  {
   "cell_type": "markdown",
   "metadata": {},
   "source": [
    "2. Write a Python program to find the sum of all items in a dictionary?\n"
   ]
  },
  {
   "cell_type": "code",
   "execution_count": 12,
   "metadata": {},
   "outputs": [
    {
     "data": {
      "text/plain": [
       "11"
      ]
     },
     "execution_count": 12,
     "metadata": {},
     "output_type": "execute_result"
    }
   ],
   "source": [
    "def add(d):\n",
    "    s=0\n",
    "    for i in d.values():\n",
    "        s+=i\n",
    "    return s\n",
    "add({\"a\":1,\"b\":2,\"c\":1,\"d\":3,\"e\":4})"
   ]
  },
  {
   "cell_type": "markdown",
   "metadata": {},
   "source": [
    "3. Write a Python program to Merging two Dictionaries?\n"
   ]
  },
  {
   "cell_type": "code",
   "execution_count": 30,
   "metadata": {},
   "outputs": [
    {
     "data": {
      "text/plain": [
       "{'a': 1, 'b': 2, 'c': 1, 'd': 3, 'e': 4}"
      ]
     },
     "execution_count": 30,
     "metadata": {},
     "output_type": "execute_result"
    }
   ],
   "source": [
    "def add(d1,d2):\n",
    "    m=d1\n",
    "    for i in d2.items():\n",
    "        m[i[0]]=i[1]\n",
    "    return m\n",
    "add({\"a\":1,\"b\":2,\"c\":1},{\"d\":3,\"e\":4})"
   ]
  },
  {
   "cell_type": "markdown",
   "metadata": {},
   "source": [
    "4. Write a Python program to convert key-values list to flat dictionary?\n"
   ]
  },
  {
   "cell_type": "code",
   "execution_count": 35,
   "metadata": {},
   "outputs": [
    {
     "data": {
      "text/plain": [
       "{'a': 1, 'b': 2, 'c': 3, 'd': 4}"
      ]
     },
     "execution_count": 35,
     "metadata": {},
     "output_type": "execute_result"
    }
   ],
   "source": [
    "def flat(k,v):\n",
    "    d={}\n",
    "    for i in range(len(k)):\n",
    "        d[k[i]]=v[i]\n",
    "    return d\n",
    "flat([\"a\",\"b\",\"c\",\"d\"],[1,2,3,4])"
   ]
  },
  {
   "cell_type": "markdown",
   "metadata": {},
   "source": [
    "5. Write a Python program to insertion at the beginning in OrderedDict?\n"
   ]
  },
  {
   "cell_type": "code",
   "execution_count": 14,
   "metadata": {},
   "outputs": [
    {
     "data": {
      "text/plain": [
       "OrderedDict([('e', 'arjun'), ('a', 1), ('b', 2), ('c', 3), ('d', 4)])"
      ]
     },
     "execution_count": 14,
     "metadata": {},
     "output_type": "execute_result"
    }
   ],
   "source": [
    "from collections import OrderedDict\n",
    "  \n",
    "\n",
    "def add(dt,k,v):\n",
    "    dt.update({k:v})\n",
    "    dt.move_to_end(k, last = False)\n",
    "    return dt\n",
    "add(OrderedDict({'a': 1, 'b': 2, 'c': 3, 'd': 4}),\"e\",\"arjun\")"
   ]
  },
  {
   "cell_type": "markdown",
   "metadata": {},
   "source": [
    "6. Write a Python program to check order of character in string using OrderedDict()?\n"
   ]
  },
  {
   "cell_type": "code",
   "execution_count": 31,
   "metadata": {},
   "outputs": [
    {
     "name": "stdout",
     "output_type": "stream",
     "text": [
      "True\n",
      "False\n"
     ]
    }
   ],
   "source": [
    "def order(s,p):\n",
    "    d = OrderedDict.fromkeys(s) \n",
    "    c = 0\n",
    "    for key,values in d.items(): \n",
    "        if (key == p[c]): \n",
    "             c += 1\n",
    "        if (c == (len(p))): \n",
    "            return True\n",
    "    return False\n",
    "print(order(\"arjun panwar\",'anw'))\n",
    "print(order(\"arjun panwar\",'awn'))"
   ]
  },
  {
   "cell_type": "markdown",
   "metadata": {},
   "source": [
    "7. Write a Python program to sort Python Dictionaries by Key or Value?"
   ]
  },
  {
   "cell_type": "code",
   "execution_count": 85,
   "metadata": {},
   "outputs": [
    {
     "data": {
      "text/plain": [
       "{'a': 2, 'b': 5, 'c': 3, 'd': 22, 'j': 1}"
      ]
     },
     "execution_count": 85,
     "metadata": {},
     "output_type": "execute_result"
    }
   ],
   "source": [
    "def sort_keys(d):\n",
    "    dt={}\n",
    "    for i in sorted (d) :\n",
    "        dt[i]=d[i]\n",
    "    return dt   \n",
    "sort_keys({'d': 22, 'b': 5, 'j': 1, 'c': 3, 'a': 2})"
   ]
  },
  {
   "cell_type": "code",
   "execution_count": 139,
   "metadata": {},
   "outputs": [
    {
     "data": {
      "text/plain": [
       "{'a': 2, 'c': 3, 'b': 5, 'j': 11, 'd': 22}"
      ]
     },
     "execution_count": 139,
     "metadata": {},
     "output_type": "execute_result"
    }
   ],
   "source": [
    "def sort_value(d):\n",
    "    dt={}\n",
    "    t=list(d)\n",
    "    while len(t)>0:\n",
    "        x=t[0]\n",
    "        for j in t:\n",
    "            if d[x]>d[j]:\n",
    "                x=j\n",
    "        dt[x]=d[x]\n",
    "        t.remove(x)\n",
    "    return dt   \n",
    "sort_value({'d': 22, 'b': 5, 'j': 11, 'c': 3, 'a': 2})"
   ]
  }
 ],
 "metadata": {
  "kernelspec": {
   "display_name": "Python 3",
   "language": "python",
   "name": "python3"
  },
  "language_info": {
   "codemirror_mode": {
    "name": "ipython",
    "version": 3
   },
   "file_extension": ".py",
   "mimetype": "text/x-python",
   "name": "python",
   "nbconvert_exporter": "python",
   "pygments_lexer": "ipython3",
   "version": "3.7.3"
  }
 },
 "nbformat": 4,
 "nbformat_minor": 2
}
