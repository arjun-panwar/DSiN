{
 "cells": [
  {
   "cell_type": "raw",
   "metadata": {},
   "source": [
    "1. Write a Python program to find words which are greater than given length k?\n"
   ]
  },
  {
   "cell_type": "code",
   "execution_count": 1,
   "metadata": {},
   "outputs": [
    {
     "data": {
      "text/plain": [
       "['Python', 'program', 'greater', 'length']"
      ]
     },
     "execution_count": 1,
     "metadata": {},
     "output_type": "execute_result"
    }
   ],
   "source": [
    "def great(st,k):\n",
    "    out=[]\n",
    "    for i in st.split():\n",
    "        if len(i)>k:\n",
    "            out.append(i)\n",
    "    return out\n",
    "great(\"Write a Python program to find words which are greater than given length k?\",5)"
   ]
  },
  {
   "cell_type": "raw",
   "metadata": {},
   "source": [
    "2. Write a Python program for removing i-th character from a string?\n"
   ]
  },
  {
   "cell_type": "code",
   "execution_count": 29,
   "metadata": {},
   "outputs": [
    {
     "data": {
      "text/plain": [
       "'Arju Panwar'"
      ]
     },
     "execution_count": 29,
     "metadata": {},
     "output_type": "execute_result"
    }
   ],
   "source": [
    "def rem(st,k):\n",
    "    return st[0:k-1]+st[k:]\n",
    "rem(\"Arjun Panwar\",5)"
   ]
  },
  {
   "cell_type": "raw",
   "metadata": {},
   "source": [
    "3. Write a Python program to split and join a string?\n"
   ]
  },
  {
   "cell_type": "code",
   "execution_count": 32,
   "metadata": {},
   "outputs": [
    {
     "data": {
      "text/plain": [
       "['Arju', ' Pa', 'war']"
      ]
     },
     "execution_count": 32,
     "metadata": {},
     "output_type": "execute_result"
    }
   ],
   "source": [
    "def split(st,k):\n",
    "    return st.split(k)\n",
    "split(\"Arjun Panwar\",\"n\")"
   ]
  },
  {
   "cell_type": "code",
   "execution_count": 36,
   "metadata": {},
   "outputs": [
    {
     "data": {
      "text/plain": [
       "'ArjunPanwar'"
      ]
     },
     "execution_count": 36,
     "metadata": {},
     "output_type": "execute_result"
    }
   ],
   "source": [
    "def join(s1,s2):\n",
    "    return s1+s2\n",
    "join(\"Arjun\",\"Panwar\",)"
   ]
  },
  {
   "cell_type": "raw",
   "metadata": {},
   "source": [
    "4. Write a Python to check if a given string is binary string or not?\n"
   ]
  },
  {
   "cell_type": "code",
   "execution_count": 42,
   "metadata": {},
   "outputs": [
    {
     "name": "stdout",
     "output_type": "stream",
     "text": [
      "not a binary string\n",
      "binary string\n"
     ]
    }
   ],
   "source": [
    "def binary(st):\n",
    "    l=[\"0\",\"1\"]\n",
    "    for i in st:\n",
    "        if i not in l:\n",
    "            print(\"not a binary string\")\n",
    "            break\n",
    "    else:\n",
    "        print(\"binary string\")\n",
    "binary(\"Write a Python program to find words which are greater than given length k?\")\n",
    "binary(\"01010\")"
   ]
  },
  {
   "cell_type": "raw",
   "metadata": {},
   "source": [
    "5. Write a Python program to find uncommon words from two Strings?\n"
   ]
  },
  {
   "cell_type": "code",
   "execution_count": 44,
   "metadata": {},
   "outputs": [
    {
     "data": {
      "text/plain": [
       "['which',\n",
       " 'are',\n",
       " 'greater',\n",
       " 'than',\n",
       " 'given',\n",
       " 'length',\n",
       " 'k?',\n",
       " 'uncommon',\n",
       " 'from',\n",
       " 'two',\n",
       " 'Strings?']"
      ]
     },
     "execution_count": 44,
     "metadata": {},
     "output_type": "execute_result"
    }
   ],
   "source": [
    "def uncommon(s1,s2):\n",
    "    out=[]\n",
    "    for i in s1.split():\n",
    "        if i not in s2.split():\n",
    "            out.append(i)\n",
    "    for i in s2.split():\n",
    "        if i not in s1.split():\n",
    "            out.append(i)\n",
    "    \n",
    "    return out\n",
    "uncommon(\"Write a Python program to find words which are greater than given length k?\",\"Write a Python program to find uncommon words from two Strings?\")"
   ]
  },
  {
   "cell_type": "raw",
   "metadata": {},
   "source": [
    "6. Write a Python to find all duplicate characters in string?\n"
   ]
  },
  {
   "cell_type": "code",
   "execution_count": 53,
   "metadata": {},
   "outputs": [
    {
     "data": {
      "text/plain": [
       "['a', 'c']"
      ]
     },
     "execution_count": 53,
     "metadata": {},
     "output_type": "execute_result"
    }
   ],
   "source": [
    "def duplicate(st):\n",
    "    out=[]\n",
    "    t=[]\n",
    "    for i in st:\n",
    "        if i not in t:\n",
    "            t.append(i)\n",
    "        else:\n",
    "            out.append(i)\n",
    "    return out\n",
    "duplicate (\"abcahjgcud\")"
   ]
  },
  {
   "cell_type": "raw",
   "metadata": {},
   "source": [
    "7. Write a Python Program to check if a string contains any special character?"
   ]
  },
  {
   "cell_type": "code",
   "execution_count": 71,
   "metadata": {},
   "outputs": [
    {
     "name": "stdout",
     "output_type": "stream",
     "text": [
      "string contains special character\n"
     ]
    }
   ],
   "source": [
    "def specialcharacter(s):\n",
    "    t=['[', '@', '_', '!', '#', '$', '%', '^', '&', '*', '(', ')', '<', '>', '?', '/','\\\\', '|', '}', '{', '~', ':', ']']\n",
    "    for i in s:\n",
    "        if i in t:\n",
    "            print(\"string contains special character\")\n",
    "            break\n",
    "    else:\n",
    "        print(\"string do not contains any special character\")\n",
    "specialcharacter(\"Write a Python Program to check if a string contains any special character?\")"
   ]
  }
 ],
 "metadata": {
  "kernelspec": {
   "display_name": "Python 3",
   "language": "python",
   "name": "python3"
  },
  "language_info": {
   "codemirror_mode": {
    "name": "ipython",
    "version": 3
   },
   "file_extension": ".py",
   "mimetype": "text/x-python",
   "name": "python",
   "nbconvert_exporter": "python",
   "pygments_lexer": "ipython3",
   "version": "3.7.3"
  }
 },
 "nbformat": 4,
 "nbformat_minor": 2
}
