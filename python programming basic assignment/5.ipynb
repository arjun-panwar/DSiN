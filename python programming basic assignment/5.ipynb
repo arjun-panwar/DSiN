{
 "cells": [
  {
   "cell_type": "markdown",
   "metadata": {},
   "source": [
    "1. Write a Python Program to Find LCM?\n"
   ]
  },
  {
   "cell_type": "code",
   "execution_count": 1,
   "metadata": {},
   "outputs": [
    {
     "name": "stdout",
     "output_type": "stream",
     "text": [
      "Enter numbers : \n",
      "first : 12\n",
      "second : 14\n",
      "84\n"
     ]
    }
   ],
   "source": [
    "print (\"Enter numbers : \")\n",
    "n=int(input(\"first : \"))\n",
    "m=int(input(\"second : \"))\n",
    "if n>m:\n",
    "    g=n\n",
    "    s=m\n",
    "else:\n",
    "    g=m\n",
    "    s=n\n",
    "i=2\n",
    "while g%s!=0:\n",
    "    g=g*i\n",
    "    i+=1\n",
    "print(g)  "
   ]
  },
  {
   "cell_type": "markdown",
   "metadata": {},
   "source": [
    "2. Write a Python Program to Find HCF?\n"
   ]
  },
  {
   "cell_type": "code",
   "execution_count": 14,
   "metadata": {},
   "outputs": [
    {
     "name": "stdout",
     "output_type": "stream",
     "text": [
      "Enter numbers : \n",
      "first : 27\n",
      "second : 9\n",
      "HCF =  3\n"
     ]
    }
   ],
   "source": [
    "print (\"Enter numbers : \")\n",
    "n=int(input(\"first : \"))\n",
    "m=int(input(\"second : \"))\n",
    "if n>m:\n",
    "    s=m\n",
    "else:\n",
    "    s=n\n",
    "for i in range(int(s/2),0,-1):\n",
    "    if(n%i==0 and m%i==0):\n",
    "        print(\"HCF = \",i)\n",
    "        break"
   ]
  },
  {
   "cell_type": "markdown",
   "metadata": {},
   "source": [
    "3. Write a Python Program to Convert Decimal to Binary, Octal and Hexadecimal?\n"
   ]
  },
  {
   "cell_type": "code",
   "execution_count": 39,
   "metadata": {},
   "outputs": [
    {
     "name": "stdout",
     "output_type": "stream",
     "text": [
      "Enter a decimal no. : 123\n",
      "binary =  1111011\n",
      "octal =  173\n",
      "Hexadecimal =  7B\n"
     ]
    }
   ],
   "source": [
    "t=n=int(input(\"Enter a decimal no. : \"))\n",
    "b=\"\"\n",
    "while t>0:\n",
    "    if t%2==0:\n",
    "        b=\"0\"+b\n",
    "    else:\n",
    "        b=\"1\"+b\n",
    "    t=int(t/2)\n",
    "print(\"binary = \",b)\n",
    "t=n\n",
    "b=\"\"\n",
    "while t>0:\n",
    "    b=str(t%8)+b\n",
    "    t=int(t/8)\n",
    "print(\"octal = \",b)\n",
    "t=n\n",
    "b=\"\"\n",
    "while t>0:\n",
    "    if t%16>9:\n",
    "        b=chr(t%16+55)+b\n",
    "    else:\n",
    "        b=chr(t%16+48)+b\n",
    "    t=int(t/16)\n",
    "print(\"Hexadecimal = \",b)"
   ]
  },
  {
   "cell_type": "markdown",
   "metadata": {},
   "source": [
    "4. Write a Python Program To Find ASCII value of a character?\n"
   ]
  },
  {
   "cell_type": "code",
   "execution_count": 36,
   "metadata": {},
   "outputs": [
    {
     "name": "stdout",
     "output_type": "stream",
     "text": [
      "Enter a character : A\n",
      "ASCII value =  65\n"
     ]
    }
   ],
   "source": [
    "\n",
    "c=input(\"Enter a character : \")\n",
    "print(\"ASCII value = \", ord(c))"
   ]
  },
  {
   "cell_type": "markdown",
   "metadata": {},
   "source": [
    "5. Write a Python Program to Make a Simple Calculator with 4 basic mathematical operations?"
   ]
  },
  {
   "cell_type": "code",
   "execution_count": 44,
   "metadata": {},
   "outputs": [
    {
     "name": "stdout",
     "output_type": "stream",
     "text": [
      "Enter numbers : \n",
      "first : 3\n",
      "second : 4\n",
      "Enter operation +-*/ : *\n",
      "result =  12\n"
     ]
    }
   ],
   "source": [
    "print (\"Enter numbers : \")\n",
    "n=int(input(\"first : \"))\n",
    "m=int(input(\"second : \"))\n",
    "c=input(\"Enter operation +-*/ : \")\n",
    "if c==\"+\":\n",
    "    print(\"result = \",n+m)\n",
    "elif c==\"-\":\n",
    "    print(\"result = \",n-m)\n",
    "elif c==\"*\":\n",
    "    print(\"result = \",n*m)\n",
    "elif c==\"/\":\n",
    "    print(\"result = \",n/m)\n",
    "else:\n",
    "    print(\"enter correct choice\")"
   ]
  }
 ],
 "metadata": {
  "kernelspec": {
   "display_name": "Python 3",
   "language": "python",
   "name": "python3"
  },
  "language_info": {
   "codemirror_mode": {
    "name": "ipython",
    "version": 3
   },
   "file_extension": ".py",
   "mimetype": "text/x-python",
   "name": "python",
   "nbconvert_exporter": "python",
   "pygments_lexer": "ipython3",
   "version": "3.7.3"
  }
 },
 "nbformat": 4,
 "nbformat_minor": 2
}
