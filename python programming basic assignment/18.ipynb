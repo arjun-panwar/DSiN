{
 "cells": [
  {
   "cell_type": "raw",
   "id": "2a4c8d8a-5021-4868-bd5c-eca53a4a58b6",
   "metadata": {},
   "source": [
    "Question 1\n",
    "Create a function that takes a list of non-negative integers and strings and return a new list\n",
    "without the strings.\n",
    "Examples\n",
    "filter_list([1, 2, \"a\",\"b\"]) ➞ [1, 2]\n",
    "filter_list([1, \"a\",\"b\", 0, 15]) ➞ [1, 0, 15]\n",
    "filter_list([1, 2, \"aasf\",\"1\",'123', 123]) ➞ [1, 2, 123]"
   ]
  },
  {
   "cell_type": "code",
   "execution_count": 4,
   "id": "287b9eb1-253e-449e-a08d-2f50f9cf7e05",
   "metadata": {},
   "outputs": [],
   "source": [
    "def filter_list(l):\n",
    "    l2=[]\n",
    "    for i in l:\n",
    "        if type(i)==int:\n",
    "            l2.append(i)\n",
    "    return l2"
   ]
  },
  {
   "cell_type": "code",
   "execution_count": 5,
   "id": "f13d81cb-082e-4278-b5b0-c4e7312c43a5",
   "metadata": {},
   "outputs": [
    {
     "data": {
      "text/plain": [
       "[1, 2]"
      ]
     },
     "execution_count": 5,
     "metadata": {},
     "output_type": "execute_result"
    }
   ],
   "source": [
    "filter_list([1, 2, \"a\",\"b\"])"
   ]
  },
  {
   "cell_type": "code",
   "execution_count": 6,
   "id": "f754f6bb-63ce-47ba-bbb8-07fb03fee1a9",
   "metadata": {},
   "outputs": [
    {
     "data": {
      "text/plain": [
       "[1, 0, 15]"
      ]
     },
     "execution_count": 6,
     "metadata": {},
     "output_type": "execute_result"
    }
   ],
   "source": [
    "filter_list([1, \"a\",\"b\", 0, 15]) "
   ]
  },
  {
   "cell_type": "code",
   "execution_count": 7,
   "id": "eb2a1f40-487c-44d5-95db-037cb3a3c470",
   "metadata": {},
   "outputs": [
    {
     "data": {
      "text/plain": [
       "[1, 2, 123]"
      ]
     },
     "execution_count": 7,
     "metadata": {},
     "output_type": "execute_result"
    }
   ],
   "source": [
    "filter_list([1, 2, \"aasf\",\"1\",'123', 123])"
   ]
  },
  {
   "cell_type": "raw",
   "id": "ff77f890-b1b4-41e7-8539-f2e6eda297fb",
   "metadata": {},
   "source": [
    "Question 2\n",
    "The \"Reverser\" takes a string as input and returns that string in reverse order, with the opposite case.\n",
    "Examples\n",
    "reverse(\"Hello World\") ➞ \"DLROw OLLEh\"\n",
    "reverse(\"ReVeRsE\") ➞ \"eSrEvEr\"\n",
    "reverse(\"Radar\") ➞ \"RADAr\""
   ]
  },
  {
   "cell_type": "code",
   "execution_count": 15,
   "id": "9e2454bf-bcb8-4e43-849e-85940cbeb3e1",
   "metadata": {},
   "outputs": [],
   "source": [
    "def reverse(s):\n",
    "    return (s.swapcase())[::-1]"
   ]
  },
  {
   "cell_type": "code",
   "execution_count": 16,
   "id": "d2d0b5e9-93d9-44a6-81a3-eaea7a2327d9",
   "metadata": {},
   "outputs": [
    {
     "data": {
      "text/plain": [
       "'DLROw OLLEh'"
      ]
     },
     "execution_count": 16,
     "metadata": {},
     "output_type": "execute_result"
    }
   ],
   "source": [
    "reverse(\"Hello World\")\n"
   ]
  },
  {
   "cell_type": "code",
   "execution_count": 17,
   "id": "6a2daf50-65db-442e-9039-1028202fcff7",
   "metadata": {},
   "outputs": [
    {
     "data": {
      "text/plain": [
       "'eSrEvEr'"
      ]
     },
     "execution_count": 17,
     "metadata": {},
     "output_type": "execute_result"
    }
   ],
   "source": [
    "reverse(\"ReVeRsE\")"
   ]
  },
  {
   "cell_type": "code",
   "execution_count": 18,
   "id": "93cc5653-a791-45df-97bc-9ad764f78c12",
   "metadata": {},
   "outputs": [
    {
     "data": {
      "text/plain": [
       "'RADAr'"
      ]
     },
     "execution_count": 18,
     "metadata": {},
     "output_type": "execute_result"
    }
   ],
   "source": [
    "reverse(\"Radar\")"
   ]
  },
  {
   "cell_type": "raw",
   "id": "dd55ed19-2e9b-4242-baaa-1e6d52b1b77f",
   "metadata": {},
   "source": [
    "Question 3\n",
    "You can assign variables from lists like this:\n",
    "lst = [1, 2, 3, 4, 5, 6]\n",
    "first = lst[0]\n",
    "middle = lst[1:-1]\n",
    "last = lst[-1]\n",
    "print(first) ➞ outputs 1\n",
    "print(middle) ➞ outputs [2, 3, 4, 5]\n",
    "print(last) ➞ outputs 6\n",
    "With Python 3, you can assign variables from lists in a much more succinct way. Create variables first, middle and last from the given list using destructuring assignment\n",
    "(check the Resources tab for some examples), where:\n",
    "first ➞ 1\n",
    "middle ➞ [2, 3, 4, 5]\n",
    "last ➞ 6\n",
    "Your task is to unpack the list writeyourcodehere into three variables, being first, middle, and last, with middle being everything in between the first and last element. Then print all three variables."
   ]
  },
  {
   "cell_type": "code",
   "execution_count": 6,
   "id": "c6a7c7ce-8cee-448a-8667-56677184c022",
   "metadata": {},
   "outputs": [],
   "source": [
    "def divide_list(l):\n",
    "    first=l[0]\n",
    "    middle = lst[1:-1]\n",
    "    last = lst[-1]\n",
    "    print(\"first-\",first) \n",
    "    print(\"middle-\",middle)\n",
    "    print(\"last-\",last)"
   ]
  },
  {
   "cell_type": "code",
   "execution_count": 7,
   "id": "9bda8798-8fee-42d3-9636-ee23a9021e60",
   "metadata": {},
   "outputs": [
    {
     "name": "stdout",
     "output_type": "stream",
     "text": [
      "first- 1\n",
      "middle- [2, 3, 4, 5]\n",
      "last- 6\n"
     ]
    }
   ],
   "source": [
    "divide_list([1, 2, 3, 4, 5, 6])"
   ]
  },
  {
   "cell_type": "raw",
   "id": "f4a8c793-285f-4316-83ef-63508b7073e3",
   "metadata": {},
   "source": [
    "Question 4\n",
    "Write a function that calculates the factorial of a number recursively.\n",
    "Examples\n",
    "factorial(5) ➞ 120\n",
    "factorial(3) ➞ 6\n",
    "factorial(1) ➞ 1\n",
    "factorial(0) ➞ 1"
   ]
  },
  {
   "cell_type": "code",
   "execution_count": 10,
   "id": "b68ed153-b5fc-4172-9ba1-688b0098766e",
   "metadata": {},
   "outputs": [],
   "source": [
    "def factorial(n):\n",
    "    if n==1:\n",
    "        return 1\n",
    "    return n*factorial(n-1)"
   ]
  },
  {
   "cell_type": "code",
   "execution_count": 11,
   "id": "8096f65b-4df7-4fbd-8e37-42aa6d7a05bd",
   "metadata": {},
   "outputs": [
    {
     "data": {
      "text/plain": [
       "120"
      ]
     },
     "execution_count": 11,
     "metadata": {},
     "output_type": "execute_result"
    }
   ],
   "source": [
    "factorial(5)"
   ]
  },
  {
   "cell_type": "markdown",
   "id": "b8e71fee-121f-4609-9994-29cec499eb4c",
   "metadata": {},
   "source": [
    "Question 5\n",
    "\n",
    "Write a function that moves all elements of one type to the end of the list.\n",
    "\n",
    "Examples\n",
    "\n",
    "move_to_end([1, 3, 2, 4, 4, 1], 1) ➞ [3, 2, 4, 4, 1, 1]\n",
    "\n",
    "#Move all the 1s to the end of the array.\n",
    "\n",
    "move_to_end([7, 8, 9, 1, 2, 3, 4], 9) ➞ [7, 8, 1, 2, 3, 4, 9]"
   ]
  },
  {
   "cell_type": "code",
   "execution_count": 27,
   "id": "bdc853d0-263d-47f9-95ca-b9b4cffc7df4",
   "metadata": {},
   "outputs": [],
   "source": [
    "def move_to_end(l,e):\n",
    "    c=1\n",
    "    for i in range(len(l)-1):\n",
    "        if l[i]==e:\n",
    "           \n",
    "            t=l[-c]\n",
    "            l[-c]=l[i]\n",
    "            l[i]=t\n",
    "            c=c+1\n",
    "            \n",
    "        if i==len(l)-c:\n",
    "            break\n",
    "        \n",
    "    return l\n",
    "            \n",
    "            "
   ]
  },
  {
   "cell_type": "code",
   "execution_count": 28,
   "id": "1a0544d9-92e8-404c-8775-24996249924c",
   "metadata": {},
   "outputs": [
    {
     "data": {
      "text/plain": [
       "[7, 8, 4, 1, 9, 3, 9]"
      ]
     },
     "execution_count": 28,
     "metadata": {},
     "output_type": "execute_result"
    }
   ],
   "source": [
    "move_to_end([7, 8, 9, 1, 9, 3, 4], 9)"
   ]
  },
  {
   "cell_type": "code",
   "execution_count": 29,
   "id": "06cca218-13ad-4a1a-bf62-b7fd81aeb176",
   "metadata": {},
   "outputs": [
    {
     "data": {
      "text/plain": [
       "[1, 3, 2, 4, 4, 1]"
      ]
     },
     "execution_count": 29,
     "metadata": {},
     "output_type": "execute_result"
    }
   ],
   "source": [
    "move_to_end([1, 3, 2, 4, 4, 1], 1)"
   ]
  },
  {
   "cell_type": "code",
   "execution_count": 19,
   "id": "10a7fbc3-67c1-42f2-be09-4feef319d165",
   "metadata": {},
   "outputs": [
    {
     "data": {
      "text/plain": [
       "-2"
      ]
     },
     "execution_count": 19,
     "metadata": {},
     "output_type": "execute_result"
    }
   ],
   "source": [
    "c=-1\n",
    "c-=1\n",
    "c"
   ]
  },
  {
   "cell_type": "code",
   "execution_count": null,
   "id": "9add2e5a-70cf-4c31-bdb5-f4d3f6fa47c6",
   "metadata": {},
   "outputs": [],
   "source": []
  }
 ],
 "metadata": {
  "kernelspec": {
   "display_name": "Python 3",
   "language": "python",
   "name": "python3"
  },
  "language_info": {
   "codemirror_mode": {
    "name": "ipython",
    "version": 3
   },
   "file_extension": ".py",
   "mimetype": "text/x-python",
   "name": "python",
   "nbconvert_exporter": "python",
   "pygments_lexer": "ipython3",
   "version": "3.8.5"
  }
 },
 "nbformat": 4,
 "nbformat_minor": 5
}
