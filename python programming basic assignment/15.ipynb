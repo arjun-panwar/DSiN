{
 "cells": [
  {
   "cell_type": "raw",
   "id": "4d8a4c94-e2e2-4a55-8def-ebe13f4dfec0",
   "metadata": {},
   "source": [
    "Question 1:\n",
    "Please write a program using generator to print the numbers which can be divisible by 5 and 7 between 0 and n in comma separated form while n is input by console.\n",
    "Example:\n",
    "If the following n is given as input to the program:\n",
    "100\n",
    "Then, the output of the program should be:\n",
    "0,35,70"
   ]
  },
  {
   "cell_type": "code",
   "execution_count": 16,
   "id": "e5ee5c89-4c81-44e7-9826-3dabc5d9095a",
   "metadata": {},
   "outputs": [
    {
     "name": "stdout",
     "output_type": "stream",
     "text": [
      "0,35,70,105,140,175\n"
     ]
    }
   ],
   "source": [
    "def Generator(n):\n",
    "    for i in range(n+1):\n",
    "        if i%5==0 and i%7==0:\n",
    "            yield i\n",
    "\n",
    "n=200\n",
    "out=\"\"\n",
    "for i in Generator(n):\n",
    "    out+=str(i)+','\n",
    "\n",
    "print(out[:-1])"
   ]
  },
  {
   "cell_type": "raw",
   "id": "0c88755b-6824-4d2b-86d3-9075e78c1d87",
   "metadata": {},
   "source": [
    "Question 2:\n",
    "Please write a program using generator to print the even numbers between 0 and n in comma\n",
    "separated form while n is input by console.\n",
    "Example:\n",
    "If the following n is given as input to the program:\n",
    "10\n",
    "Then, the output of the program should be:\n",
    "0,2,4,6,8,10"
   ]
  },
  {
   "cell_type": "code",
   "execution_count": 19,
   "id": "8cec3a29-3e1d-4f4f-a8b0-c3e0d85a3ed2",
   "metadata": {},
   "outputs": [
    {
     "name": "stdout",
     "output_type": "stream",
     "text": [
      "0,2,4,6,8,10,12,14,16,18,20\n"
     ]
    }
   ],
   "source": [
    "def EvenGenerator(n):\n",
    "    i=0\n",
    "    while i<=n:\n",
    "        if i%2==0:\n",
    "            yield i\n",
    "        i+=1\n",
    "n=20\n",
    "out=\"\"\n",
    "for i in EvenGenerator(n):\n",
    "    out+=str(i)+','\n",
    "\n",
    "print(out[:-1])"
   ]
  },
  {
   "cell_type": "raw",
   "id": "9ba517f6-c217-4bad-bd2e-69e243c1e090",
   "metadata": {},
   "source": [
    "Question 2:\n",
    "The Fibonacci Sequence is computed based on the following formula:\n",
    "f(n)=0 if n=0\n",
    "f(n)=1 if n=1\n",
    "f(n)=f(n-1)+f(n-2) if n&gt;1\n",
    "Please write a program using list comprehension to print the Fibonacci Sequence in comma\n",
    "separated form with a given n input by console.\n",
    "Example:\n",
    "If the following n is given as input to the program:\n",
    "7\n",
    "\n",
    "Then, the output of the program should be:\n",
    "0,1,1,2,3,5,8,13"
   ]
  },
  {
   "cell_type": "code",
   "execution_count": 27,
   "id": "f2291f33-8e21-40fa-880d-dabea2890d7c",
   "metadata": {},
   "outputs": [
    {
     "name": "stdout",
     "output_type": "stream",
     "text": [
      "0 1,1,2,3,5,8,13,21,34,55,89,"
     ]
    }
   ],
   "source": [
    "def fibo(n):\n",
    "    i=0\n",
    "    j=1\n",
    "    print(i,j,end=\",\")\n",
    "    for k in range(n):\n",
    "        print(i+j,end=\",\")\n",
    "        t=i+j\n",
    "        i=j\n",
    "        j=t\n",
    "        \n",
    "fibo(10)"
   ]
  },
  {
   "cell_type": "raw",
   "id": "f08f4e37-9370-452e-bdc2-1274112ace95",
   "metadata": {},
   "source": [
    "Question 4:\n",
    "Assuming that we have some email addresses in the \"username@companyname.com\" format,\n",
    "please write program to print the user name of a given email address. Both user names and\n",
    "company names are composed of letters only.\n",
    "Example:\n",
    "If the following email address is given as input to the program:\n",
    "john@google.com\n",
    "Then, the output of the program should be:\n",
    "john"
   ]
  },
  {
   "cell_type": "code",
   "execution_count": 28,
   "id": "d6b97039-9c68-4e37-ba6e-dfa93196267c",
   "metadata": {},
   "outputs": [
    {
     "data": {
      "text/plain": [
       "'john'"
      ]
     },
     "execution_count": 28,
     "metadata": {},
     "output_type": "execute_result"
    }
   ],
   "source": [
    "def user(mail):\n",
    "    return mail[0:mail.index(\"@\")]\n",
    "user(\"john@google.com\")"
   ]
  },
  {
   "cell_type": "raw",
   "id": "ac766969-3f4a-4001-b96b-19a537d59c72",
   "metadata": {},
   "source": [
    "Question 5:\n",
    "Define a class named Shape and its subclass Square. The Square class has an init function\n",
    "which takes a length as argument. Both classes have a area function which can print the area\n",
    "of the shape where Shape's area is 0 by default."
   ]
  },
  {
   "cell_type": "code",
   "execution_count": 38,
   "id": "6e155b71-9e59-40f5-a6b9-41aa295e15cb",
   "metadata": {},
   "outputs": [
    {
     "name": "stdout",
     "output_type": "stream",
     "text": [
      "25\n"
     ]
    }
   ],
   "source": [
    "class Shape():\n",
    "    def __init__(self):\n",
    "        pass\n",
    "\n",
    "    def area(self):\n",
    "        return 0\n",
    "\n",
    "class Square(Shape):\n",
    "    def __init__(self, l):\n",
    "        Shape.__init__(self)\n",
    "        self.length = l\n",
    "\n",
    "    def area(self):\n",
    "        return self.length*self.length\n",
    "\n",
    "a= Square(5)\n",
    "print(a.area())"
   ]
  },
  {
   "cell_type": "code",
   "execution_count": null,
   "id": "3d253c20-feba-4f7c-9f5a-a1c9e1117f75",
   "metadata": {},
   "outputs": [],
   "source": []
  }
 ],
 "metadata": {
  "kernelspec": {
   "display_name": "Python 3",
   "language": "python",
   "name": "python3"
  },
  "language_info": {
   "codemirror_mode": {
    "name": "ipython",
    "version": 3
   },
   "file_extension": ".py",
   "mimetype": "text/x-python",
   "name": "python",
   "nbconvert_exporter": "python",
   "pygments_lexer": "ipython3",
   "version": "3.8.5"
  }
 },
 "nbformat": 4,
 "nbformat_minor": 5
}
