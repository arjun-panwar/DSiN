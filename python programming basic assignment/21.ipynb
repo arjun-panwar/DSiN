{
 "cells": [
  {
   "cell_type": "markdown",
   "id": "7eba375f-e10a-4923-96e9-38628d022082",
   "metadata": {},
   "source": [
    "#### Question1\n",
    "Write a function that takes a list and a number as arguments. Add the number to the end of\n",
    "the list, then remove the first element of the list. The function should then return the updated\n",
    "list.\n",
    "\n",
    "Examples\n",
    "\n",
    "next_in_line([5, 6, 7, 8, 9], 1) ➞ [6, 7, 8, 9, 1]\n",
    "\n",
    "next_in_line([7, 6, 3, 23, 17], 10) ➞ [6, 3, 23, 17, 10]\n",
    "\n",
    "next_in_line([1, 10, 20, 42 ], 6) ➞ [10, 20, 42, 6]\n",
    "\n",
    "next_in_line([], 6) ➞ \"No list has been selected\""
   ]
  },
  {
   "cell_type": "code",
   "execution_count": 26,
   "id": "73df703b-0f28-4323-8793-2b5d64e4e5be",
   "metadata": {},
   "outputs": [],
   "source": [
    "def next_in_line(l,n):\n",
    "    if len(l)==0:\n",
    "        return \"No list has been selected\"\n",
    "    l.remove(l[0])\n",
    "    l.append(n)\n",
    "    return l"
   ]
  },
  {
   "cell_type": "code",
   "execution_count": 27,
   "id": "851ecb6c-3fad-4ded-b3ff-1f531cf60125",
   "metadata": {},
   "outputs": [
    {
     "data": {
      "text/plain": [
       "'No list has been selected'"
      ]
     },
     "execution_count": 27,
     "metadata": {},
     "output_type": "execute_result"
    }
   ],
   "source": [
    "next_in_line([], 6) "
   ]
  },
  {
   "cell_type": "code",
   "execution_count": 28,
   "id": "87ca070d-5bd2-4f1b-a847-71adab8735ed",
   "metadata": {},
   "outputs": [
    {
     "data": {
      "text/plain": [
       "[6, 3, 23, 17, 10]"
      ]
     },
     "execution_count": 28,
     "metadata": {},
     "output_type": "execute_result"
    }
   ],
   "source": [
    "next_in_line([7, 6, 3, 23, 17], 10) "
   ]
  },
  {
   "cell_type": "markdown",
   "id": "9c52ffd0-0942-4731-861e-f6a29eb2d5c1",
   "metadata": {},
   "source": [
    "#### Question2\n",
    "Create the function that takes a list of dictionaries and returns the sum of people's budgets.\n"
   ]
  },
  {
   "cell_type": "code",
   "execution_count": 31,
   "id": "dbc08596-4e1c-46b1-bc29-37b4705128a0",
   "metadata": {},
   "outputs": [],
   "source": [
    "def get_budgets(l):\n",
    "    s=0\n",
    "    for i in l:\n",
    "        s+=i[\"budget\"]\n",
    "    return s"
   ]
  },
  {
   "cell_type": "code",
   "execution_count": 32,
   "id": "1f7bd0f1-f430-46ad-8cbc-b33422a631a8",
   "metadata": {},
   "outputs": [
    {
     "data": {
      "text/plain": [
       "62600"
      ]
     },
     "execution_count": 32,
     "metadata": {},
     "output_type": "execute_result"
    }
   ],
   "source": [
    "get_budgets([\n",
    "{ \"name\":\"john\",\"age\": 21, \"budget\": 29000 },\n",
    "{ \"name\": \"steve\", \"age\": 32, \"budget\": 32000 },\n",
    "{ \"name\": \"martine\", \"age\": 16,\"budget\": 1600 }\n",
    "])"
   ]
  },
  {
   "cell_type": "markdown",
   "id": "d111e2ef-ff7b-497b-a258-3c4e0b24cf77",
   "metadata": {},
   "source": [
    "#### Question3\n",
    "Create a function that takes a string and returns a string with its letters in alphabetical order.\n",
    "\n",
    "Examples\n",
    "\n",
    "alphabet_soup(\"hello\") ➞ \"ehllo\";\n",
    "\n",
    "alphabet_soup(\"edabit\") ➞ \"abdeit\""
   ]
  },
  {
   "cell_type": "code",
   "execution_count": 38,
   "id": "318e409f-3f14-44ae-9e94-38b58b34d1c6",
   "metadata": {},
   "outputs": [],
   "source": [
    "def alphabet_soup(s):\n",
    "    return \"\".join(sorted(s))"
   ]
  },
  {
   "cell_type": "code",
   "execution_count": 39,
   "id": "f081d65f-fc5a-4e60-8878-22b34e41d25a",
   "metadata": {},
   "outputs": [
    {
     "data": {
      "text/plain": [
       "'ehllo'"
      ]
     },
     "execution_count": 39,
     "metadata": {},
     "output_type": "execute_result"
    }
   ],
   "source": [
    "alphabet_soup(\"hello\")"
   ]
  },
  {
   "cell_type": "markdown",
   "id": "7a88e7be-27f2-43db-ac11-2de6318047b3",
   "metadata": {},
   "source": [
    "#### Question4\n",
    "\n",
    "Suppose that you invest $10,000 for 10 years at an interest rate of 6% compounded monthly.\n",
    "What will be the value of your investment at the end of the 10 year period?\n",
    "Create a function that accepts the principal p, the term in years t, the interest rate r, and the\n",
    "number of compounding periods per year n. The function returns the value at the end of term\n",
    "rounded to the nearest cent.\n",
    "\n",
    "\n",
    "For the example above:\n",
    "\n",
    "compound_interest(10000, 10, 0.06, 12) ➞ 18193.97\n",
    "\n",
    "Note that the interest rate is given as a decimal and n=12 because with monthly compounding\n",
    "there are 12 periods per year. Compounding can also be done annually, quarterly, weekly, or\n",
    "daily."
   ]
  },
  {
   "cell_type": "code",
   "execution_count": 18,
   "id": "832c00f6-645f-4554-8399-eb49e8ff01bd",
   "metadata": {},
   "outputs": [],
   "source": [
    "def compound_interest(principle,time,rate,period):\n",
    "    return round(principle * (pow((1 + rate/period), time*period)),2)"
   ]
  },
  {
   "cell_type": "code",
   "execution_count": 19,
   "id": "656be8d0-83e8-46a7-b60c-89700f83a642",
   "metadata": {},
   "outputs": [
    {
     "data": {
      "text/plain": [
       "18193.97"
      ]
     },
     "execution_count": 19,
     "metadata": {},
     "output_type": "execute_result"
    }
   ],
   "source": [
    "compound_interest(10000, 10, 0.06, 12)"
   ]
  },
  {
   "cell_type": "code",
   "execution_count": 20,
   "id": "691fd3ea-7837-4fee-8f04-0b99340c86f2",
   "metadata": {},
   "outputs": [
    {
     "data": {
      "text/plain": [
       "105.0"
      ]
     },
     "execution_count": 20,
     "metadata": {},
     "output_type": "execute_result"
    }
   ],
   "source": [
    "compound_interest(100, 1, 0.05, 1)"
   ]
  },
  {
   "cell_type": "code",
   "execution_count": 21,
   "id": "94d0aad0-a3d5-4afc-8529-7dc7ead01f1d",
   "metadata": {},
   "outputs": [
    {
     "data": {
      "text/plain": [
       "2007316.26"
      ]
     },
     "execution_count": 21,
     "metadata": {},
     "output_type": "execute_result"
    }
   ],
   "source": [
    "compound_interest(100000, 20, 0.15, 365)"
   ]
  },
  {
   "cell_type": "markdown",
   "id": "1b6fe024-4f67-4925-a51f-5ec84d429793",
   "metadata": {},
   "source": [
    "#### Question5\n",
    "Write a function that takes a list of elements and returns only the integers.\n",
    "\n",
    "Examples\n",
    "\n",
    "return_only_integer([9, 2, \"space\", \"car\", \"lion\", 16]) ➞ [9, 2, 16]\n",
    "\n",
    "return_only_integer([\"hello\", 81, \"basketball\", 123, \"fox\"]) ➞ [81, 123]\n"
   ]
  },
  {
   "cell_type": "code",
   "execution_count": 22,
   "id": "88f94997-5fb5-46ec-8cd4-9141976f248a",
   "metadata": {},
   "outputs": [],
   "source": [
    "def return_only_integer(l):\n",
    "    r=[]\n",
    "    for i in l:\n",
    "        if type(i)==int:\n",
    "            r.append(i)\n",
    "    return r"
   ]
  },
  {
   "cell_type": "code",
   "execution_count": 23,
   "id": "85f3761a-1fa6-4c13-a05e-2facc0d4d5b7",
   "metadata": {},
   "outputs": [
    {
     "data": {
      "text/plain": [
       "[9, 2, 16]"
      ]
     },
     "execution_count": 23,
     "metadata": {},
     "output_type": "execute_result"
    }
   ],
   "source": [
    "return_only_integer([9, 2, \"space\", \"car\", \"lion\", 16])"
   ]
  },
  {
   "cell_type": "code",
   "execution_count": 25,
   "id": "e10d1e3c-c576-4d31-8c13-6538d42e025e",
   "metadata": {},
   "outputs": [
    {
     "data": {
      "text/plain": [
       "[81, 123]"
      ]
     },
     "execution_count": 25,
     "metadata": {},
     "output_type": "execute_result"
    }
   ],
   "source": [
    "return_only_integer([\"hello\",\"77\", 81, \"basketball\", 123, \"fox\"])"
   ]
  },
  {
   "cell_type": "code",
   "execution_count": null,
   "id": "a950a47c-f9ba-4bd5-b2bb-cea3b2b4ec45",
   "metadata": {},
   "outputs": [],
   "source": []
  }
 ],
 "metadata": {
  "kernelspec": {
   "display_name": "Python 3",
   "language": "python",
   "name": "python3"
  },
  "language_info": {
   "codemirror_mode": {
    "name": "ipython",
    "version": 3
   },
   "file_extension": ".py",
   "mimetype": "text/x-python",
   "name": "python",
   "nbconvert_exporter": "python",
   "pygments_lexer": "ipython3",
   "version": "3.8.5"
  }
 },
 "nbformat": 4,
 "nbformat_minor": 5
}
