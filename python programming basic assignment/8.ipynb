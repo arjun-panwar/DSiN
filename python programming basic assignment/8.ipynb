{
 "cells": [
  {
   "cell_type": "markdown",
   "metadata": {},
   "source": [
    "1. Write a Python Program to Add Two Matrices?\n"
   ]
  },
  {
   "cell_type": "code",
   "execution_count": 51,
   "metadata": {},
   "outputs": [
    {
     "name": "stdout",
     "output_type": "stream",
     "text": [
      "[12, 14, 16]\n",
      "[18, 20, 22]\n",
      "[24, 26, 28]\n"
     ]
    }
   ],
   "source": [
    "a=[[1,2,3],[4,5,6],[7,8,9]]\n",
    "b=[[11,12,13],[14,15,16],[17,18,19]]\n",
    "s=[]\n",
    "for i in range(len(a)):\n",
    "    s.append([a[i][j]+b[i][j] for j in range(len(a[i]))])\n",
    "for r in s:\n",
    "   print(r)"
   ]
  },
  {
   "cell_type": "markdown",
   "metadata": {},
   "source": [
    "2. Write a Python Program to Multiply Two Matrices?\n"
   ]
  },
  {
   "cell_type": "code",
   "execution_count": 50,
   "metadata": {},
   "outputs": [
    {
     "name": "stdout",
     "output_type": "stream",
     "text": [
      "[90, 96, 102]\n",
      "[216, 231, 246]\n",
      "[342, 366, 390]\n"
     ]
    }
   ],
   "source": [
    "a=[[1,2,3],[4,5,6],[7,8,9]]\n",
    "b=[[11,12,13],[14,15,16],[17,18,19]]\n",
    "m=[]\n",
    "\n",
    "for x in range(len(a)):\n",
    "    tm=[]\n",
    "    for i in range(len(a[x])):\n",
    "        t=0\n",
    "        for j in range(len(a[x])):\n",
    "            t+=a[x][j]*b[j][i]\n",
    "        tm.append(t)\n",
    "    m.append(tm)\n",
    "for r in m:\n",
    "   print(r)\n"
   ]
  },
  {
   "cell_type": "markdown",
   "metadata": {},
   "source": [
    "3. Write a Python Program to Transpose a Matrix?\n"
   ]
  },
  {
   "cell_type": "code",
   "execution_count": 60,
   "metadata": {},
   "outputs": [
    {
     "name": "stdout",
     "output_type": "stream",
     "text": [
      "Original\n",
      "[1, 2, 3]\n",
      "[4, 5, 6]\n",
      "[7, 8, 9]\n",
      "\n",
      "Transpose\n",
      "[1, 4, 7]\n",
      "[2, 5, 8]\n",
      "[3, 6, 9]\n"
     ]
    }
   ],
   "source": [
    "a=[[1,2,3],[4,5,6],[7,8,9]]\n",
    "t=[]\n",
    "for i in range(len(a)):\n",
    "    tm=[]   \n",
    "    for j in range(len(a[i])):\n",
    "            tm.append(a[j][i])\n",
    "    t.append(tm)\n",
    "print(\"Original\")\n",
    "for r in a:\n",
    "   print(r)\n",
    "print(\"\\nTranspose\")\n",
    "for r in t:\n",
    "   print(r)\n"
   ]
  },
  {
   "cell_type": "markdown",
   "metadata": {},
   "source": [
    "4. Write a Python Program to Sort Words in Alphabetic Order?\n"
   ]
  },
  {
   "cell_type": "code",
   "execution_count": 94,
   "metadata": {},
   "outputs": [
    {
     "name": "stdout",
     "output_type": "stream",
     "text": [
      "['Write', 'Python', 'Program', 'Sort', 'Words', 'Alphabetic', 'Order']\n",
      "['Alphabetic', 'Order', 'Sort', 'Program', 'Python', 'Words']\n"
     ]
    }
   ],
   "source": [
    "arr=['Write',  'Python', 'Program',  'Sort', 'Words', 'Alphabetic', 'Order']\n",
    "s=[]\n",
    "print(arr)\n",
    "t=\"\"\n",
    "for i in range(len(arr)-1):\n",
    "    \n",
    "    for j in range(len(arr)-1):\n",
    "        t=arr[j]\n",
    "        if t>arr[j+1]:\n",
    "            t=arr[j+1]\n",
    "    arr.remove(t)\n",
    "    \n",
    "    s.append(t)\n",
    "        \n",
    "    \n",
    "    \n",
    "print(s)"
   ]
  },
  {
   "cell_type": "markdown",
   "metadata": {},
   "source": [
    "5. Write a Python Program to Remove Punctuation From a String?"
   ]
  },
  {
   "cell_type": "code",
   "execution_count": 99,
   "metadata": {},
   "outputs": [
    {
     "name": "stdout",
     "output_type": "stream",
     "text": [
      "enter string : hey! how are u?\n",
      "hey how are u\n"
     ]
    }
   ],
   "source": [
    "punctuations = '''!()-[]{};:'\"\\,<>./?@#$%^&*_~'''\n",
    "\n",
    "s = input(\"enter string : \")\n",
    "\n",
    "new=\"\"\n",
    "for char in s:\n",
    "   if char not in punctuations:\n",
    "       new+= char\n",
    "\n",
    "\n",
    "print(new)"
   ]
  },
  {
   "cell_type": "code",
   "execution_count": null,
   "metadata": {},
   "outputs": [],
   "source": []
  }
 ],
 "metadata": {
  "kernelspec": {
   "display_name": "Python 3",
   "language": "python",
   "name": "python3"
  },
  "language_info": {
   "codemirror_mode": {
    "name": "ipython",
    "version": 3
   },
   "file_extension": ".py",
   "mimetype": "text/x-python",
   "name": "python",
   "nbconvert_exporter": "python",
   "pygments_lexer": "ipython3",
   "version": "3.7.3"
  }
 },
 "nbformat": 4,
 "nbformat_minor": 2
}
