{
 "cells": [
  {
   "cell_type": "markdown",
   "metadata": {},
   "source": [
    "Question 1:\n",
    "Write a program that calculates and prints the value according to the given formula:\n",
    "\n",
    "Q = Square root of [(2 * C * D)/H]\n",
    "\n",
    "Following are the fixed values of C and H:\n",
    "\n",
    "C is 50. H is 30.\n",
    "\n",
    "D is the variable whose values should be input to your program in a comma-separated sequence.\n",
    "\n",
    "Example\n",
    "\n",
    "Let us assume the following comma separated input sequence is given to the program:\n",
    "\n",
    "100,150,180\n",
    "\n",
    "The output of the program should be:\n",
    "\n",
    "18,22,24"
   ]
  },
  {
   "cell_type": "code",
   "execution_count": 15,
   "metadata": {},
   "outputs": [
    {
     "name": "stdout",
     "output_type": "stream",
     "text": [
      "Enter a number: 100,150,180\n",
      "Output:  18,22,24\n"
     ]
    }
   ],
   "source": [
    "C=50\n",
    "H=30\n",
    "D=input(\"Enter a number: \")\n",
    "out=\"\"\n",
    "for i in D.split(\",\"):   \n",
    "    Q=((2*C*int(i))/H)**.5\n",
    "    out+=str(round(Q))+\",\"\n",
    "print(\"Output: \",out[:-1])"
   ]
  },
  {
   "cell_type": "markdown",
   "metadata": {},
   "source": [
    "Question 2:\n",
    "Write a program which takes 2 digits, X,Y as input and generates a 2-dimensional array. The\n",
    "element value in the i-th row and j-th column of the array should be i*j.\n",
    "\n",
    "Note: i=0,1.., X-1; j=0,1,¡Y-1.\n",
    "\n",
    "Example\n",
    "\n",
    "Suppose the following inputs are given to the program:\n",
    "\n",
    "3,5\n",
    "\n",
    "Then, the output of the program should be:\n",
    "\n",
    "[[0, 0, 0, 0, 0], [0, 1, 2, 3, 4], [0, 2, 4, 6, 8]]"
   ]
  },
  {
   "cell_type": "code",
   "execution_count": 25,
   "metadata": {},
   "outputs": [
    {
     "name": "stdout",
     "output_type": "stream",
     "text": [
      "Enter x :3\n",
      "Enter y :5\n"
     ]
    },
    {
     "data": {
      "text/plain": [
       "[[0, 0, 0, 0, 0], [0, 1, 2, 3, 4], [0, 2, 4, 6, 8]]"
      ]
     },
     "execution_count": 25,
     "metadata": {},
     "output_type": "execute_result"
    }
   ],
   "source": [
    "x=int(input(\"Enter x :\"))\n",
    "y=int(input(\"Enter y :\"))\n",
    "arr=list\n",
    "[[i*j for j in range(y) ]for i in range(x)]"
   ]
  },
  {
   "cell_type": "markdown",
   "metadata": {},
   "source": [
    "Question 3:\n",
    "Write a program that accepts a comma separated sequence of words as input and prints the\n",
    "words in a comma-separated sequence after sorting them alphabetically.\n",
    "\n",
    "Suppose the following input is supplied to the program:\n",
    "\n",
    "without,hello,bag,world\n",
    "\n",
    "Then, the output should be:\n",
    "\n",
    "bag,hello,without,world\n"
   ]
  },
  {
   "cell_type": "code",
   "execution_count": 46,
   "metadata": {},
   "outputs": [
    {
     "name": "stdout",
     "output_type": "stream",
     "text": [
      "enter comma separated sequence of words as inputwithout,hello,bag,world\n",
      "bag,hello,without,world,"
     ]
    }
   ],
   "source": [
    "s=input(\"enter comma separated sequence of words as input\")\n",
    "a=s.split(\",\")\n",
    "a.sort()\n",
    "for word in a:  \n",
    "   print(word,end=\",\") "
   ]
  },
  {
   "cell_type": "markdown",
   "metadata": {},
   "source": [
    "Question 4:\n",
    "Write a program that accepts a sequence of whitespace separated words as input and prints\n",
    "the words after removing all duplicate words and sorting them alphanumerically.\n",
    "\n",
    "Suppose the following input is supplied to the program:\n",
    "\n",
    "hello world and practice makes perfect and hello world again\n",
    "\n",
    "Then, the output should be:\n",
    "\n",
    "again and hello makes perfect practice world"
   ]
  },
  {
   "cell_type": "code",
   "execution_count": 54,
   "metadata": {},
   "outputs": [
    {
     "name": "stdout",
     "output_type": "stream",
     "text": [
      "input:  hello world and practice makes perfect and hello world again\n",
      "again and hello makes perfect practice world "
     ]
    }
   ],
   "source": [
    "s=input(\"input: \")\n",
    "a=s.split()\n",
    "a.sort()\n",
    "l=[]\n",
    "for word in a:\n",
    "    if word not in l:        \n",
    "        print(word,end=\" \")\n",
    "    l.append(word)\n"
   ]
  },
  {
   "cell_type": "markdown",
   "metadata": {},
   "source": [
    "Question 5:\n",
    "Write a program that accepts a sentence and calculate the number of letters and digits.\n",
    "\n",
    "Suppose the following input is supplied to the program:\n",
    "\n",
    "hello world! 123\n",
    "\n",
    "Then, the output should be:\n",
    "\n",
    "LETTERS 10\n",
    "\n",
    "DIGITS 3"
   ]
  },
  {
   "cell_type": "code",
   "execution_count": 57,
   "metadata": {},
   "outputs": [
    {
     "name": "stdout",
     "output_type": "stream",
     "text": [
      "input: hello world! 123\n",
      "LETTERS  10\n",
      "DIGITS  3\n"
     ]
    }
   ],
   "source": [
    "s=input(\"input: \")\n",
    "d=0\n",
    "l=0\n",
    "for i in s:\n",
    "    if i.isdigit():\n",
    "        d+=1\n",
    "    if i.isalpha():\n",
    "        l+=1\n",
    "print(\"LETTERS \",l)\n",
    "print(\"DIGITS \",d)"
   ]
  },
  {
   "cell_type": "code",
   "execution_count": 56,
   "metadata": {},
   "outputs": [
    {
     "data": {
      "text/plain": [
       "3"
      ]
     },
     "execution_count": 56,
     "metadata": {},
     "output_type": "execute_result"
    }
   ],
   "source": [
    "d"
   ]
  },
  {
   "cell_type": "raw",
   "metadata": {},
   "source": [
    "Question 6:\n",
    "A website requires the users to input username and password to register. Write a program to\n",
    "check the validity of password input by users.\n",
    "\n",
    "Following are the criteria for checking the password:\n",
    "\n",
    "1. At least 1 letter between [a-z]\n",
    "2. At least 1 number between [0-9]\n",
    "3. At least 1 letter between [A-Z]\n",
    "4. At least 1 character from [$#@]\n",
    "5. Minimum length of transaction password: 6\n",
    "6. Maximum length of transaction password: 12\n",
    "Your program should accept a sequence of comma separated passwords and will check them\n",
    "according to the above criteria. Passwords that match the criteria are to be printed, each\n",
    "separated by a comma.\n",
    "Example\n",
    "If the following passwords are given as input to the program:\n",
    "ABd1234@1,a F1#,2w3E*,2We3345\n",
    "Then, the output of the program should be:\n",
    "ABd1234@1"
   ]
  },
  {
   "cell_type": "code",
   "execution_count": 75,
   "metadata": {},
   "outputs": [
    {
     "name": "stdout",
     "output_type": "stream",
     "text": [
      "input: ABd1234@1,a F1#,2w3E*,2We3345\n",
      "Output:  ABd1234@1\n"
     ]
    }
   ],
   "source": [
    "s=input(\"input: \")\n",
    "out=\"\"\n",
    "for i in s.split(\",\"):\n",
    "    if len(i)<6 or len(i)>12:\n",
    "        continue\n",
    "    c1=c2=c3=c4=False\n",
    "    for char in i:\n",
    "        if char.islower():\n",
    "            c1=True\n",
    "        if char.isupper():\n",
    "            c2=True\n",
    "        if char.isdigit():\n",
    "            c3=True\n",
    "        if char in [\"$\",\"#\",\"@\"]:\n",
    "            c4=True\n",
    "    if c1 == True and c2 == True and c3 == True and c4 == True:\n",
    "        out+=i+\",\"\n",
    "print(\"Output: \",out[:-1])    \n",
    "    "
   ]
  }
 ],
 "metadata": {
  "kernelspec": {
   "display_name": "Python 3",
   "language": "python",
   "name": "python3"
  },
  "language_info": {
   "codemirror_mode": {
    "name": "ipython",
    "version": 3
   },
   "file_extension": ".py",
   "mimetype": "text/x-python",
   "name": "python",
   "nbconvert_exporter": "python",
   "pygments_lexer": "ipython3",
   "version": "3.7.3"
  }
 },
 "nbformat": 4,
 "nbformat_minor": 2
}
