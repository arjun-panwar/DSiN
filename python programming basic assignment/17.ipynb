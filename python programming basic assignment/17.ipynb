{
 "cells": [
  {
   "cell_type": "raw",
   "id": "bffe3a43-41bb-4196-bd4f-28b89fb09b2d",
   "metadata": {},
   "source": [
    "Question1. Create a function that takes three arguments a, b, c and returns the sum of the numbers that are evenly divided by c from the range a, b inclusive.\n",
    "Examples\n",
    "evenly_divisible(1, 10, 20) ➞ 0\n",
    "# No number between 1 and 10 can be evenly divided by 20.\n",
    "evenly_divisible(1, 10, 2) ➞ 30\n",
    "# 2 + 4 + 6 + 8 + 10 = 30\n",
    "evenly_divisible(1, 10, 3) ➞ 18\n",
    "# 3 + 6 + 9 = 18"
   ]
  },
  {
   "cell_type": "code",
   "execution_count": 2,
   "id": "9e8c38c8-717a-457a-ac24-c7312da13a8b",
   "metadata": {},
   "outputs": [],
   "source": [
    "def evenly_divisible(a,b,c):\n",
    "    s=0\n",
    "    for i in range(a,b):\n",
    "        if i%c==0:\n",
    "            s+=i\n",
    "    if s==0:\n",
    "        return f\"No number between 1 and 10 can be evenly divided by {c}\"\n",
    "    else:\n",
    "        return s"
   ]
  },
  {
   "cell_type": "code",
   "execution_count": 3,
   "id": "5c36d970-cfe3-4a86-9106-71681001827d",
   "metadata": {},
   "outputs": [
    {
     "data": {
      "text/plain": [
       "'No number between 1 and 10 can be evenly divided by 20'"
      ]
     },
     "execution_count": 3,
     "metadata": {},
     "output_type": "execute_result"
    }
   ],
   "source": [
    "evenly_divisible(1, 10, 20)"
   ]
  },
  {
   "cell_type": "code",
   "execution_count": 4,
   "id": "8196df40-23d9-44bc-bdc0-2ebb4efb8801",
   "metadata": {},
   "outputs": [
    {
     "data": {
      "text/plain": [
       "20"
      ]
     },
     "execution_count": 4,
     "metadata": {},
     "output_type": "execute_result"
    }
   ],
   "source": [
    "evenly_divisible(1, 10, 2)"
   ]
  },
  {
   "cell_type": "code",
   "execution_count": 6,
   "id": "dae77086-465e-45f3-abf8-a81152e36ae1",
   "metadata": {},
   "outputs": [
    {
     "data": {
      "text/plain": [
       "18"
      ]
     },
     "execution_count": 6,
     "metadata": {},
     "output_type": "execute_result"
    }
   ],
   "source": [
    "evenly_divisible(1, 10, 3)"
   ]
  },
  {
   "cell_type": "raw",
   "id": "b0d922fd-c580-4e47-91cc-0de3291b4ce1",
   "metadata": {},
   "source": [
    "Question2. Create a function that returns True if a given inequality expression is correct and False otherwise.\n",
    "Examples\n",
    "correct_signs(\"3<7<11\") ➞ True\n",
    "correct_signs(\"13>44>33>1\") ➞ False\n",
    "correct_signs(\"1<2<6<9>3\") ➞ True"
   ]
  },
  {
   "cell_type": "code",
   "execution_count": 19,
   "id": "5c4950cd-8a91-42ce-8cc4-13a4c008c6ef",
   "metadata": {},
   "outputs": [],
   "source": [
    "def correct_signs(eq):\n",
    "    l=[[int(j) for j in i.split(\">\")] if i.find(\">\")>0 else int(i) for i in eq.split(\"<\") ]\n",
    "    result=False\n",
    "    for i in range(len(l)-1):\n",
    "        t1=t2=0\n",
    "        if type(l[i])==list:\n",
    "            for j in range(len(l[i])-1):\n",
    "                t1=l[i][j]\n",
    "                t2=l[i][j+1]\n",
    "                result=t1>t2\n",
    "\n",
    "\n",
    "        else:\n",
    "            t1=l[i]\n",
    "            if type(l[i+1])==list:\n",
    "                t2=l[i+1][0]\n",
    "            else:\n",
    "                t2=l[i+1]\n",
    "            result=t1<t2\n",
    "        if result ==False:\n",
    "            return result\n",
    "    return result"
   ]
  },
  {
   "cell_type": "code",
   "execution_count": 20,
   "id": "6ab5ea43-77d4-48b4-9422-ca63223ab230",
   "metadata": {},
   "outputs": [
    {
     "data": {
      "text/plain": [
       "True"
      ]
     },
     "execution_count": 20,
     "metadata": {},
     "output_type": "execute_result"
    }
   ],
   "source": [
    "correct_signs(\"3<7<11\")"
   ]
  },
  {
   "cell_type": "code",
   "execution_count": 23,
   "id": "73846814-2ecc-443b-818d-82f9383f9550",
   "metadata": {},
   "outputs": [
    {
     "data": {
      "text/plain": [
       "False"
      ]
     },
     "execution_count": 23,
     "metadata": {},
     "output_type": "execute_result"
    }
   ],
   "source": [
    "correct_signs(\"13>44>33>1\")"
   ]
  },
  {
   "cell_type": "code",
   "execution_count": 24,
   "id": "6b0267e1-4608-4a80-aac4-922fde6c82f3",
   "metadata": {},
   "outputs": [
    {
     "data": {
      "text/plain": [
       "True"
      ]
     },
     "execution_count": 24,
     "metadata": {},
     "output_type": "execute_result"
    }
   ],
   "source": [
    "correct_signs(\"1<2<6<9>3\")"
   ]
  },
  {
   "cell_type": "raw",
   "id": "016c62e7-17af-491b-83a3-6af95558a567",
   "metadata": {},
   "source": [
    "Question3. Create a function that replaces all the vowels in a string with a specified character.\n",
    "Examples\n",
    "replace_vowels(\"the aardvark\", \"#\") ➞ \";th# ##rdv#rk\";\n",
    "replace_vowels(\"minnie mouse\", \"?\") ➞ \";m?nn?? m??s?\";\n",
    "replace_vowels(\"shakespeare\", \"*\") ➞ \"sh*k*sp**r*\";"
   ]
  },
  {
   "cell_type": "code",
   "execution_count": 31,
   "id": "df0cf274-4d7e-470e-9ea2-c12a4d584b08",
   "metadata": {},
   "outputs": [],
   "source": [
    "def replace_vowels(s,r):\n",
    "    for i in ['a','e','i','o','u']:\n",
    "        s=s.replace(i,r)\n",
    "    return s"
   ]
  },
  {
   "cell_type": "code",
   "execution_count": 32,
   "id": "0467f872-5d30-443b-a85e-ba0790faa18c",
   "metadata": {},
   "outputs": [
    {
     "data": {
      "text/plain": [
       "'th# ##rdv#rk'"
      ]
     },
     "execution_count": 32,
     "metadata": {},
     "output_type": "execute_result"
    }
   ],
   "source": [
    "replace_vowels(\"the aardvark\", \"#\")"
   ]
  },
  {
   "cell_type": "code",
   "execution_count": 33,
   "id": "20e51da3-45bf-4894-a839-01fb75f489fb",
   "metadata": {},
   "outputs": [
    {
     "data": {
      "text/plain": [
       "'m?nn?? m??s?'"
      ]
     },
     "execution_count": 33,
     "metadata": {},
     "output_type": "execute_result"
    }
   ],
   "source": [
    "replace_vowels(\"minnie mouse\", \"?\") "
   ]
  },
  {
   "cell_type": "code",
   "execution_count": 34,
   "id": "65e69c85-131a-40cf-a043-a3df28cf588e",
   "metadata": {},
   "outputs": [
    {
     "data": {
      "text/plain": [
       "'sh*k*sp**r*'"
      ]
     },
     "execution_count": 34,
     "metadata": {},
     "output_type": "execute_result"
    }
   ],
   "source": [
    "replace_vowels(\"shakespeare\", \"*\")\n"
   ]
  },
  {
   "cell_type": "raw",
   "id": "7736b231-a5db-4683-ba02-d34c3dcd996c",
   "metadata": {},
   "source": [
    "Question4. Write a function that calculates the factorial of a number recursively.\n",
    "Examples\n",
    "factorial(5) ➞ 120\n",
    "factorial(3) ➞ 6\n",
    "factorial(1) ➞ 1\n",
    "factorial(0) ➞ 1"
   ]
  },
  {
   "cell_type": "code",
   "execution_count": 37,
   "id": "242b4ce3-fd5e-4680-93f9-bc02b9d8d7c2",
   "metadata": {},
   "outputs": [],
   "source": [
    "def factorial(n):\n",
    "    if n==1:\n",
    "        return 1\n",
    "    return n*factorial(n-1)"
   ]
  },
  {
   "cell_type": "code",
   "execution_count": 38,
   "id": "a0f577ea-1e66-43a8-8f54-28ac0d66ba47",
   "metadata": {},
   "outputs": [
    {
     "data": {
      "text/plain": [
       "120"
      ]
     },
     "execution_count": 38,
     "metadata": {},
     "output_type": "execute_result"
    }
   ],
   "source": [
    "factorial(5)"
   ]
  },
  {
   "cell_type": "code",
   "execution_count": 39,
   "id": "8e525613-7f16-4dc3-b795-6ea4f8c70e2c",
   "metadata": {},
   "outputs": [
    {
     "data": {
      "text/plain": [
       "6"
      ]
     },
     "execution_count": 39,
     "metadata": {},
     "output_type": "execute_result"
    }
   ],
   "source": [
    "factorial(3)"
   ]
  },
  {
   "cell_type": "raw",
   "id": "0a3a3832-36f8-4ca5-a43d-19ce16dea3bd",
   "metadata": {},
   "source": [
    "Question 5\n",
    "Hamming distance is the number of characters that differ between two strings.\n",
    "To illustrate:\n",
    "String1: \"abcbba\"\n",
    "String2: \"abcbda\"\n",
    "Hamming Distance: 1 - \"b\" vs. \"d\" is the only difference.\n",
    "Create a function that computes the hamming distance between two strings.\n",
    "Examples\n",
    "hamming_distance(\"abcde\", 'bcdef') ➞ 5\n",
    "hamming_distance(\"abcde\",'abcde') ➞ 0\n",
    "hamming_distance(\"strong\",'strung') ➞ 1"
   ]
  },
  {
   "cell_type": "code",
   "execution_count": 45,
   "id": "dac2b61c-8729-46da-a0fb-a836ff821465",
   "metadata": {},
   "outputs": [],
   "source": [
    "def hamming_distance(a,b):\n",
    "    h=0\n",
    "    for i in range(len(a)):\n",
    "        if a[i]!=b[i]:\n",
    "            h+=1\n",
    "    return h"
   ]
  },
  {
   "cell_type": "code",
   "execution_count": 46,
   "id": "e9335067-fc8a-42cf-881d-a8b6157c9c74",
   "metadata": {},
   "outputs": [
    {
     "data": {
      "text/plain": [
       "5"
      ]
     },
     "execution_count": 46,
     "metadata": {},
     "output_type": "execute_result"
    }
   ],
   "source": [
    "hamming_distance(\"abcde\", 'bcdef')"
   ]
  },
  {
   "cell_type": "code",
   "execution_count": 47,
   "id": "8acb3fb7-fa43-4422-82b2-53da3f6e7134",
   "metadata": {},
   "outputs": [
    {
     "data": {
      "text/plain": [
       "0"
      ]
     },
     "execution_count": 47,
     "metadata": {},
     "output_type": "execute_result"
    }
   ],
   "source": [
    "hamming_distance(\"abcde\",'abcde')"
   ]
  },
  {
   "cell_type": "code",
   "execution_count": 50,
   "id": "c5d757ed-7b51-496c-b28e-ca92ad20f34b",
   "metadata": {},
   "outputs": [
    {
     "data": {
      "text/plain": [
       "1"
      ]
     },
     "execution_count": 50,
     "metadata": {},
     "output_type": "execute_result"
    }
   ],
   "source": [
    "hamming_distance(\"strong\",'strung')"
   ]
  },
  {
   "cell_type": "code",
   "execution_count": null,
   "id": "4b2bfa62-17f8-40a2-a631-de70af6df462",
   "metadata": {},
   "outputs": [],
   "source": []
  }
 ],
 "metadata": {
  "kernelspec": {
   "display_name": "Python 3",
   "language": "python",
   "name": "python3"
  },
  "language_info": {
   "codemirror_mode": {
    "name": "ipython",
    "version": 3
   },
   "file_extension": ".py",
   "mimetype": "text/x-python",
   "name": "python",
   "nbconvert_exporter": "python",
   "pygments_lexer": "ipython3",
   "version": "3.8.5"
  }
 },
 "nbformat": 4,
 "nbformat_minor": 5
}
