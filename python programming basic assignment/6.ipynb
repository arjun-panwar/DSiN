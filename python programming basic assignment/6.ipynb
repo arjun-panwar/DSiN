{
 "cells": [
  {
   "cell_type": "markdown",
   "metadata": {},
   "source": [
    "1. Write a Python Program to Display Fibonacci Sequence Using Recursion?\n"
   ]
  },
  {
   "cell_type": "code",
   "execution_count": 32,
   "metadata": {},
   "outputs": [
    {
     "name": "stdout",
     "output_type": "stream",
     "text": [
      "Enter a number: 10\n",
      "0, 1, 1, 2, 3, 5, 8, 13, 21, 34, 55, 89"
     ]
    }
   ],
   "source": [
    "n=int(input(\"Enter a number: \"))\n",
    "\n",
    "def fibo(a,b,n):\n",
    "    if n==0:\n",
    "        return\n",
    "    print(\",\",a+b,end=\"\")\n",
    "    fibo(b,(a+b),(n-1))\n",
    "print(\"0, 1\",end=\"\")\n",
    "fibo(0,1,n)"
   ]
  },
  {
   "cell_type": "markdown",
   "metadata": {},
   "source": [
    "2. Write a Python Program to Find Factorial of Number Using Recursion?\n"
   ]
  },
  {
   "cell_type": "code",
   "execution_count": 36,
   "metadata": {},
   "outputs": [
    {
     "name": "stdout",
     "output_type": "stream",
     "text": [
      "Enter a number: 5\n",
      "Factorial of Number =  120"
     ]
    }
   ],
   "source": [
    "n=int(input(\"Enter a number: \"))\n",
    "\n",
    "def fac(n):\n",
    "    if n==1:\n",
    "        return  n\n",
    "    return n*fac(n-1)\n",
    "\n",
    "print(\"Factorial of Number = \",fac(n),end=\"\")\n"
   ]
  },
  {
   "cell_type": "markdown",
   "metadata": {},
   "source": [
    "3. Write a Python Program to calculate your Body Mass Index?\n"
   ]
  },
  {
   "cell_type": "code",
   "execution_count": 49,
   "metadata": {},
   "outputs": [
    {
     "name": "stdout",
     "output_type": "stream",
     "text": [
      "Enter weight in kilograms : 72\n",
      "Enter height in centimetres : 177\n",
      "BMI =  22.981901752370007\n"
     ]
    }
   ],
   "source": [
    "kg=int(input(\"Enter weight in kilograms : \"))\n",
    "m=int(input(\"Enter height in centimetres : \"))\n",
    "print(\"BMI = \", kg/((m/100)**2))"
   ]
  },
  {
   "cell_type": "markdown",
   "metadata": {},
   "source": [
    "\n",
    " 4. Write a Python Program to calculate the natural logarithm of any number?\n"
   ]
  },
  {
   "cell_type": "code",
   "execution_count": 52,
   "metadata": {},
   "outputs": [
    {
     "name": "stdout",
     "output_type": "stream",
     "text": [
      "Enter a number: 14\n",
      "Enter base: 5\n",
      "Logarithm base 5 of 14 is :  1.6397385131955606\n"
     ]
    }
   ],
   "source": [
    "import math\n",
    "n=int(input(\"Enter a number: \"))\n",
    "b=int(input(\"Enter base: \"))\n",
    "print (\"Logarithm base {} of {} is : \".format(b,n), math.log(n,b))"
   ]
  },
  {
   "cell_type": "markdown",
   "metadata": {},
   "source": [
    "5. Write a Python Program for cube sum of first n natural numbers?"
   ]
  },
  {
   "cell_type": "code",
   "execution_count": 53,
   "metadata": {},
   "outputs": [
    {
     "name": "stdout",
     "output_type": "stream",
     "text": [
      "Enter a number: 10\n",
      "cube sum of first 10 natural numbers is  3025\n"
     ]
    }
   ],
   "source": [
    "n=int(input(\"Enter a number: \"))\n",
    "s=0\n",
    "for i in range(1,n+1):\n",
    "   s+=i**3\n",
    "print(\"cube sum of first {} natural numbers is \".format(n),s)"
   ]
  }
 ],
 "metadata": {
  "kernelspec": {
   "display_name": "Python 3",
   "language": "python",
   "name": "python3"
  },
  "language_info": {
   "codemirror_mode": {
    "name": "ipython",
    "version": 3
   },
   "file_extension": ".py",
   "mimetype": "text/x-python",
   "name": "python",
   "nbconvert_exporter": "python",
   "pygments_lexer": "ipython3",
   "version": "3.7.3"
  }
 },
 "nbformat": 4,
 "nbformat_minor": 2
}
