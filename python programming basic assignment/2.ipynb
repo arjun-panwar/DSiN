{
 "cells": [
  {
   "cell_type": "markdown",
   "metadata": {},
   "source": [
    "1. Write a Python program to convert kilometers to miles?\n"
   ]
  },
  {
   "cell_type": "code",
   "execution_count": 4,
   "metadata": {},
   "outputs": [
    {
     "name": "stdout",
     "output_type": "stream",
     "text": [
      "enter distance in km: 1\n",
      "1 km in miles =  0.621371\n"
     ]
    }
   ],
   "source": [
    "km=int(input(\"enter distance in km: \"))\n",
    "print(km , \"km in miles = \",km* 0.621371)"
   ]
  },
  {
   "cell_type": "markdown",
   "metadata": {},
   "source": [
    "2. Write a Python program to convert Celsius to Fahrenheit?\n"
   ]
  },
  {
   "cell_type": "code",
   "execution_count": 7,
   "metadata": {},
   "outputs": [
    {
     "name": "stdout",
     "output_type": "stream",
     "text": [
      "enter temp in Celsius : 0\n",
      "0 Celsius to Fahrenheits =  32.0\n"
     ]
    }
   ],
   "source": [
    "C=int(input(\"enter temp in Celsius : \"))\n",
    "print(C , \"Celsius to Fahrenheits = \",(C*9/5) + 32)"
   ]
  },
  {
   "cell_type": "markdown",
   "metadata": {},
   "source": [
    "3. Write a Python program to display calendar?\n"
   ]
  },
  {
   "cell_type": "code",
   "execution_count": 8,
   "metadata": {},
   "outputs": [
    {
     "name": "stdout",
     "output_type": "stream",
     "text": [
      "year: 2021\n",
      "month: 3\n",
      "     March 2021\n",
      "Mo Tu We Th Fr Sa Su\n",
      " 1  2  3  4  5  6  7\n",
      " 8  9 10 11 12 13 14\n",
      "15 16 17 18 19 20 21\n",
      "22 23 24 25 26 27 28\n",
      "29 30 31\n",
      "\n"
     ]
    }
   ],
   "source": [
    "import calendar \n",
    "y=int(input(\"year: \"))    \n",
    "m=int(input(\"month: \"))    \n",
    "\n",
    "print(calendar.month(y, m)) "
   ]
  },
  {
   "cell_type": "markdown",
   "metadata": {},
   "source": [
    "4. Write a Python program to solve quadratic equation?\n"
   ]
  },
  {
   "cell_type": "code",
   "execution_count": 29,
   "metadata": {},
   "outputs": [
    {
     "name": "stdout",
     "output_type": "stream",
     "text": [
      "quadratic equation is in form: ax^2 + bx + c\n",
      "Enter a : 1\n",
      "Enter b : 5\n",
      "Enter c : 2\n",
      " roots:\n",
      "-0.4384471871911697\n",
      "-4.561552812808831\n"
     ]
    }
   ],
   "source": [
    "import math\n",
    "print(\"quadratic equation is in form: ax^2 + bx + c\")\n",
    "a=int(input(\"Enter a : \"))\n",
    "b=int(input(\"Enter b : \"))  \n",
    "c=int(input(\"Enter c : \"))\n",
    "  \n",
    "d = (b**2)-(4*a*c)\n",
    "\n",
    "print(' roots:')\n",
    "if d > 0:    \n",
    "    print(((-b) + math.sqrt(d))/(2*a))     \n",
    "    print (((-b) - math.sqrt(d))/(2*a))\n",
    "elif d == 0:   \n",
    "    print((-b) / 2*a)\n",
    "else:\n",
    "    print(\"not exists\")"
   ]
  },
  {
   "cell_type": "markdown",
   "metadata": {},
   "source": [
    "5. Write a Python program to swap two variables without temp variable?"
   ]
  },
  {
   "cell_type": "code",
   "execution_count": 30,
   "metadata": {},
   "outputs": [
    {
     "name": "stdout",
     "output_type": "stream",
     "text": [
      "Enter 1st no : 2\n",
      "Enter 2nd no : 3\n",
      "1st no :  3\n",
      "2nd no :  2\n"
     ]
    }
   ],
   "source": [
    "a=int(input(\"Enter 1st no : \"))\n",
    "b=int(input(\"Enter 2nd no : \"))\n",
    "a=a+b\n",
    "b=a-b\n",
    "a=a-b\n",
    "print(\"1st no : \",a)\n",
    "print(\"2nd no : \",b)"
   ]
  }
 ],
 "metadata": {
  "kernelspec": {
   "display_name": "Python 3",
   "language": "python",
   "name": "python3"
  },
  "language_info": {
   "codemirror_mode": {
    "name": "ipython",
    "version": 3
   },
   "file_extension": ".py",
   "mimetype": "text/x-python",
   "name": "python",
   "nbconvert_exporter": "python",
   "pygments_lexer": "ipython3",
   "version": "3.7.3"
  }
 },
 "nbformat": 4,
 "nbformat_minor": 2
}
