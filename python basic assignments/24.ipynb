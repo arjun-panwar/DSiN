{
 "cells": [
  {
   "cell_type": "markdown",
   "metadata": {},
   "source": [
    "# 1. What is the relationship between def statements and lambda expressions ?"
   ]
  },
  {
   "cell_type": "code",
   "execution_count": 9,
   "metadata": {},
   "outputs": [
    {
     "name": "stdout",
     "output_type": "stream",
     "text": [
      "lambda fun returns  9\n",
      "normal def function returns 9\n"
     ]
    }
   ],
   "source": [
    "def a(n):\n",
    "    return n*n\n",
    "\n",
    "x=lambda a:a*a\n",
    "print(\"lambda fun returns \",x(3))\n",
    "print(\"normal def function returns\",a(3))\n",
    "\n",
    "\n",
    "#lamda fun is an annonymous function there is not any control transfer b/n calling fun and called function we have to access \n",
    "# lambda function by means of the any variable but in normal fun we have t called from global so normal def function wll executes\n"
   ]
  },
  {
   "cell_type": "markdown",
   "metadata": {},
   "source": [
    "# 2. What is the benefit of lambda?"
   ]
  },
  {
   "cell_type": "code",
   "execution_count": null,
   "metadata": {},
   "outputs": [],
   "source": [
    "#lamda fun is an annonymous function there is not any control transfer b/n calling fun and called function we have to access \n",
    "# lambda function by means of the any variable but in normal fun we have t called from global so normal def function wll executes\n",
    "#in lambda function there is no cntrol transfers so execution time will reduce for wole program and also it wiill not accquire memory in the \n",
    "# program that much like a def fuunction."
   ]
  },
  {
   "cell_type": "markdown",
   "metadata": {},
   "source": [
    "# 3. Compare and contrast map, filter, and reduce."
   ]
  },
  {
   "cell_type": "code",
   "execution_count": 14,
   "metadata": {},
   "outputs": [
    {
     "data": {
      "text/plain": [
       "[16, 25, 36]"
      ]
     },
     "execution_count": 14,
     "metadata": {},
     "output_type": "execute_result"
    }
   ],
   "source": [
    "def a(n):\n",
    "    return n*n\n",
    "ls2=[4,5,6]\n",
    "z=map(a,ls2)\n",
    "list(z)"
   ]
  },
  {
   "cell_type": "code",
   "execution_count": 34,
   "metadata": {},
   "outputs": [
    {
     "data": {
      "text/plain": [
       "[2, 6, 8, 10]"
      ]
     },
     "execution_count": 34,
     "metadata": {},
     "output_type": "execute_result"
    }
   ],
   "source": [
    "list(filter(lambda A: A%2==0,[1,2,3,6,8,10]))"
   ]
  },
  {
   "cell_type": "code",
   "execution_count": 31,
   "metadata": {},
   "outputs": [
    {
     "data": {
      "text/plain": [
       "10"
      ]
     },
     "execution_count": 31,
     "metadata": {},
     "output_type": "execute_result"
    }
   ],
   "source": [
    "from functools import reduce\n",
    "reduce(lambda x,y:x+y,[1,2,3,4])"
   ]
  },
  {
   "cell_type": "code",
   "execution_count": null,
   "metadata": {},
   "outputs": [],
   "source": [
    "4. What are function annotations, and how are they used?"
   ]
  },
  {
   "cell_type": "code",
   "execution_count": 2,
   "metadata": {},
   "outputs": [
    {
     "data": {
      "text/plain": [
       "{'n': 'int', 'output': 'list', 'return': 'list'}"
      ]
     },
     "execution_count": 2,
     "metadata": {},
     "output_type": "execute_result"
    }
   ],
   "source": [
    "def temp(n:'int',output:'list'=[])->'list':\n",
    "    ls=[1,2,3]\n",
    "    return ls\n",
    "\n",
    "\n",
    "temp.__annotations__\n",
    "# temp(2)"
   ]
  },
  {
   "cell_type": "markdown",
   "metadata": {},
   "source": [
    "# 5. What are recursive functions, and how are they used?"
   ]
  },
  {
   "cell_type": "code",
   "execution_count": 1,
   "metadata": {},
   "outputs": [
    {
     "name": "stdout",
     "output_type": "stream",
     "text": [
      "0\n",
      "1\n",
      "2\n",
      "3\n",
      "4\n",
      "5\n",
      "6\n",
      "7\n",
      "8\n",
      "9\n",
      "10\n"
     ]
    }
   ],
   "source": [
    "def rec(n):\n",
    "    print(n)\n",
    "    if n!=10:\n",
    "        rec(n+1)\n",
    "    \n",
    "rec(0)\n",
    "\n",
    "#recursive function are recursivly callingto same function to got desired output.so we have to wite a function accorrding to that\n",
    "# way for any  function.In old days recursive functions are will have some more cons but later some sorting,searching techniiques \n",
    "# are possible to due to recursive functions in data structures."
   ]
  },
  {
   "cell_type": "markdown",
   "metadata": {},
   "source": [
    "# 6. What are some general design guidelines for coding functions?"
   ]
  },
  {
   "cell_type": "code",
   "execution_count": null,
   "metadata": {},
   "outputs": [],
   "source": [
    "# ==> Functions main purpose is reusablity and user driven so it is very much useful for us.It will also reduce line of code,m\n",
    "# memory and all.so always we have to think in that way like we can build our logic in functions or with the help of oops conceppts like in\n",
    "# classes,constructors,destructor,m.f and tostring method and all that is also very useful for person those are using our module or package and it is\n",
    "# also seems sequential mannaer."
   ]
  },
  {
   "cell_type": "markdown",
   "metadata": {},
   "source": [
    "# 7. Name three or more ways that functions can communicate results to a caller."
   ]
  },
  {
   "cell_type": "code",
   "execution_count": null,
   "metadata": {},
   "outputs": [],
   "source": [
    "# ===>1)  function can return anything so it is recived in the calling fun\n",
    "# 2) we can pass actual parameters and recieved to formal parameters in called functions body/signature.\n",
    "# 3)getter method in member functions body so we can recieve any private variable return outside the class.\n",
    "# 4) In python we can pass any number of actual parameters and we recieved it to formal parameters in form of *args,**kwargs form.."
   ]
  }
 ],
 "metadata": {
  "kernelspec": {
   "display_name": "Python 3",
   "language": "python",
   "name": "python3"
  },
  "language_info": {
   "codemirror_mode": {
    "name": "ipython",
    "version": 3
   },
   "file_extension": ".py",
   "mimetype": "text/x-python",
   "name": "python",
   "nbconvert_exporter": "python",
   "pygments_lexer": "ipython3",
   "version": "3.8.10"
  }
 },
 "nbformat": 4,
 "nbformat_minor": 4
}
