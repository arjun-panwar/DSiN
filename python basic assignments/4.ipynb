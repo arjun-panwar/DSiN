{
 "cells": [
  {
   "cell_type": "markdown",
   "id": "e5d2aa77-198e-4878-852d-9c0798108158",
   "metadata": {},
   "source": [
    "# 1. What exactly is []?\n",
    "list"
   ]
  },
  {
   "cell_type": "markdown",
   "id": "0137b5f3-d294-4f06-95b7-7c5fde68bee2",
   "metadata": {},
   "source": [
    "# 2. In a list of values stored in a variable called spam, how would you assign the value 'hello' as the third value? (Assume [2, 4, 6, 8, 10] are in spam.)"
   ]
  },
  {
   "cell_type": "code",
   "execution_count": 3,
   "id": "ad321173-9f22-4e57-a511-4733c7a1145d",
   "metadata": {},
   "outputs": [
    {
     "data": {
      "text/plain": [
       "[2, 4, 'hello', 6, 8, 10]"
      ]
     },
     "execution_count": 3,
     "metadata": {},
     "output_type": "execute_result"
    }
   ],
   "source": [
    "spam=[2, 4, 6, 8, 10]\n",
    "spam.insert(2,\"hello\")\n",
    "spam"
   ]
  },
  {
   "cell_type": "markdown",
   "id": "e1135969-c95a-4aaa-bf44-fe2bec606216",
   "metadata": {},
   "source": [
    "# 3. What is the value of spam[int(int('3'* 2) / 11)]?\n",
    "6"
   ]
  },
  {
   "cell_type": "markdown",
   "id": "268988d0-b9b9-4186-b642-c3873dc1c94d",
   "metadata": {},
   "source": [
    "# 4. What is the value of spam[-1]?\n",
    "10"
   ]
  },
  {
   "cell_type": "markdown",
   "id": "4ab53a21-73a6-4143-af2d-5e0f9f99b5ce",
   "metadata": {},
   "source": [
    "# 5. What is the value of spam[:2]?\n",
    "[2, 4]"
   ]
  },
  {
   "cell_type": "markdown",
   "id": "3e48d864-c4d2-4c44-b08a-4e19ce8eee2f",
   "metadata": {},
   "source": [
    "# Let's pretend bacon has the list [3.14,'cat',11, 'cat', True] for the next three questions.\n",
    "\n",
    "# 6. What is the value of bacon.index('cat')?\n",
    "1"
   ]
  },
  {
   "cell_type": "markdown",
   "id": "41195a5b-5a33-47ff-beb2-580ee07a1c91",
   "metadata": {},
   "source": [
    "# 7. How does bacon.append(99) change the look of the list value in bacon?\n",
    "it will append 99 in the last of list\n",
    "\n",
    " [3.14,'cat',11, 'cat', True,99]"
   ]
  },
  {
   "cell_type": "markdown",
   "id": "86879445-76a1-4843-989b-267e8cc99ac1",
   "metadata": {},
   "source": [
    "# 8. How does bacon.remove('cat') change the look of the list in bacon?\n",
    "it will remove first occurance of 'cat' in the list\n",
    "\n",
    "[3.14,11, 'cat', True,99]"
   ]
  },
  {
   "cell_type": "markdown",
   "id": "7b8cc19a-7994-4310-a8d5-5e09d5512f7c",
   "metadata": {},
   "source": [
    "# 9. What are the list concatenation and list replication operators?\n",
    "Concatenation +\n",
    "\n",
    "Repetition *"
   ]
  },
  {
   "cell_type": "markdown",
   "id": "f4e4d90f-e243-47c8-8c4c-eccb08ae487e",
   "metadata": {},
   "source": [
    "# 10. What is difference between the list methods append() and insert()?\n",
    "append() will append element at the last of list\n",
    "\n",
    "insert() will insert element at any position you want in the list"
   ]
  },
  {
   "cell_type": "markdown",
   "id": "bb5f6f0b-dc26-4a9e-b81d-8f88095cf8ef",
   "metadata": {},
   "source": [
    "# 11. What are the two methods for removing items from a list?\n",
    "remove() and pop()"
   ]
  },
  {
   "cell_type": "markdown",
   "id": "08d23291-9581-45dd-80cb-d972529c2c94",
   "metadata": {},
   "source": [
    "# 12. Describe how list values and string values are identical.\n",
    "both of them are subscriptable "
   ]
  },
  {
   "cell_type": "markdown",
   "id": "ec579e06-4332-4208-9d6a-7ddcc14ef11b",
   "metadata": {},
   "source": [
    "# 13. What's the difference between tuples and lists?\n",
    "lists are mutable while tuples are immutable"
   ]
  },
  {
   "cell_type": "code",
   "execution_count": null,
   "id": "431b86a6-e9fb-4ce0-a6de-24e66795cc04",
   "metadata": {},
   "outputs": [],
   "source": []
  }
 ],
 "metadata": {
  "kernelspec": {
   "display_name": "Python 3",
   "language": "python",
   "name": "python3"
  },
  "language_info": {
   "codemirror_mode": {
    "name": "ipython",
    "version": 3
   },
   "file_extension": ".py",
   "mimetype": "text/x-python",
   "name": "python",
   "nbconvert_exporter": "python",
   "pygments_lexer": "ipython3",
   "version": "3.8.5"
  }
 },
 "nbformat": 4,
 "nbformat_minor": 5
}
