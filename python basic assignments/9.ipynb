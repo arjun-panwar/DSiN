{
 "cells": [
  {
   "cell_type": "markdown",
   "id": "b79aeff3-c519-49ca-aa2e-e871e849fe23",
   "metadata": {},
   "source": [
    "1. To what does a relative path refer?\n"
   ]
  },
  {
   "cell_type": "raw",
   "id": "aa85d202-b91e-43a5-882a-af745421c8d9",
   "metadata": {},
   "source": [
    "The relative path is the path to some file with respect to your current working directory (PWD)"
   ]
  },
  {
   "cell_type": "markdown",
   "id": "ccfba34e-273f-451a-af27-23027cb39836",
   "metadata": {},
   "source": [
    "2. What does an absolute path start with your operating system?\n"
   ]
  },
  {
   "cell_type": "raw",
   "id": "6f3e2469-5f2b-4db9-979b-b8df8d478852",
   "metadata": {},
   "source": [
    " root directory(/)"
   ]
  },
  {
   "cell_type": "markdown",
   "id": "4ad99d52-bb33-4618-835e-c9788dad000a",
   "metadata": {},
   "source": [
    "3. What do the functions os.getcwd() and os.chdir() do?\n"
   ]
  },
  {
   "cell_type": "code",
   "execution_count": null,
   "id": "6d0f1d23-9442-4b4d-95ae-f7bd481256cd",
   "metadata": {},
   "outputs": [],
   "source": [
    "os.getcwd()=gives current working directory \n",
    "os.chdir() = change directory"
   ]
  },
  {
   "cell_type": "markdown",
   "id": "61622555-6e0f-41c7-95bc-9c2aa576d9c4",
   "metadata": {},
   "source": [
    "4. What are the . and .. folders?\n"
   ]
  },
  {
   "cell_type": "raw",
   "id": "f4a5c472-54fc-4f7c-b98e-d38d606d0b3c",
   "metadata": {},
   "source": [
    " . (current directory) and .. (parent directory)."
   ]
  },
  {
   "cell_type": "markdown",
   "id": "f6f25e33-9dfd-4943-99fe-e468ba6a4601",
   "metadata": {},
   "source": [
    "5. In C:\\bacon\\eggs\\spam.txt, which part is the dir name, and which part is the base name?\n"
   ]
  },
  {
   "cell_type": "raw",
   "id": "044c6993-4c4e-4270-8a43-ec9c210801c2",
   "metadata": {},
   "source": [
    "dir=C:\\bacon\\eggs\\\n",
    "base=spam.txt"
   ]
  },
  {
   "cell_type": "markdown",
   "id": "45aa2b7f-833c-4190-b403-b3b7b3e307e0",
   "metadata": {},
   "source": [
    "6. What are the three “mode” arguments that can be passed to the open() function?\n"
   ]
  },
  {
   "cell_type": "code",
   "execution_count": null,
   "id": "3da9ef7f-1270-42f1-97ac-2d11d0aa9bcb",
   "metadata": {},
   "outputs": [],
   "source": [
    "r,w,a"
   ]
  },
  {
   "cell_type": "markdown",
   "id": "8546e03a-a8d6-489a-a671-054c1586fd31",
   "metadata": {},
   "source": [
    "7. What happens if an existing file is opened in write mode?\n"
   ]
  },
  {
   "cell_type": "code",
   "execution_count": null,
   "id": "f610866a-3079-4aa1-9529-446cb308a14b",
   "metadata": {},
   "outputs": [],
   "source": [
    "deletes "
   ]
  },
  {
   "cell_type": "markdown",
   "id": "54d9218c-e3d0-490e-8503-5287f3b4d091",
   "metadata": {},
   "source": [
    "8. How do you tell the difference between read() and readlines()?\n"
   ]
  },
  {
   "cell_type": "code",
   "execution_count": null,
   "id": "453d11f1-ba6e-43c2-9811-2cb9db9b89e8",
   "metadata": {},
   "outputs": [],
   "source": []
  },
  {
   "cell_type": "markdown",
   "id": "cc4ecbf4-6188-4296-88e1-cc29b09bb913",
   "metadata": {},
   "source": [
    "9. What data structure does a shelf value resemble?"
   ]
  },
  {
   "cell_type": "code",
   "execution_count": null,
   "id": "5dbcaa6b-2ef4-4585-9415-c086f90ae933",
   "metadata": {},
   "outputs": [],
   "source": []
  }
 ],
 "metadata": {
  "kernelspec": {
   "display_name": "Python 3",
   "language": "python",
   "name": "python3"
  },
  "language_info": {
   "codemirror_mode": {
    "name": "ipython",
    "version": 3
   },
   "file_extension": ".py",
   "mimetype": "text/x-python",
   "name": "python",
   "nbconvert_exporter": "python",
   "pygments_lexer": "ipython3",
   "version": "3.8.10"
  }
 },
 "nbformat": 4,
 "nbformat_minor": 5
}
