{
 "cells": [
  {
   "cell_type": "markdown",
   "id": "e058f40f-49aa-4e7a-ae39-1b3772ad3e35",
   "metadata": {},
   "source": [
    "# 1. What is the name of the feature responsible for generating Regex objects?\n"
   ]
  },
  {
   "cell_type": "markdown",
   "id": "46a2592c-4541-49fd-820a-fe587b580e87",
   "metadata": {},
   "source": [
    "re"
   ]
  },
  {
   "cell_type": "markdown",
   "id": "3ce32bf0-2af8-4e6a-b918-7b9d7572d1bf",
   "metadata": {},
   "source": [
    "# 2. Why do raw strings often appear in Regex objects?\n"
   ]
  },
  {
   "cell_type": "markdown",
   "id": "dec4ca0d-80d1-4185-a63a-23758a2744af",
   "metadata": {},
   "source": [
    " so that backslashes do not have to be escaped."
   ]
  },
  {
   "cell_type": "markdown",
   "id": "bee35cf2-00de-4c6a-9712-4ec471b795c8",
   "metadata": {},
   "source": [
    "\n",
    "# 3. What is the return value of the search() method?"
   ]
  },
  {
   "cell_type": "markdown",
   "id": "630f7f12-91b6-4a29-baaa-fcd5bc860a04",
   "metadata": {},
   "source": [
    "re.Match object"
   ]
  },
  {
   "cell_type": "markdown",
   "id": "4faff95c-c92a-4dfc-a1c1-6f4b174dc9d4",
   "metadata": {},
   "source": [
    "# 4. From a Match item, how do you get the actual strings that match the pattern?\n"
   ]
  },
  {
   "cell_type": "markdown",
   "id": "3489e2bf-ff58-4ce2-a80b-84cbec60caa2",
   "metadata": {},
   "source": [
    "using group()"
   ]
  },
  {
   "cell_type": "markdown",
   "id": "18f6a9c9-3a5b-488b-b2af-689ecfbdf3c0",
   "metadata": {},
   "source": [
    "# 5. In the regex which created from the r&#39;(\\d\\d\\d)-(\\d\\d\\d-\\d\\d\\d\\d)&#39;, what does group zero cover? Group 2? Group 1?\n"
   ]
  },
  {
   "cell_type": "markdown",
   "id": "94236350-80df-4eca-a10d-4bccf2bdd354",
   "metadata": {},
   "source": [
    "Group 0 is the entire match, group 1 covers the first set of parentheses, and group 2 covers the second set of parentheses."
   ]
  },
  {
   "cell_type": "markdown",
   "id": "da31dd94-ba84-4742-baa6-d02616a235c8",
   "metadata": {},
   "source": [
    "# 6. In standard expression syntax, parentheses and intervals have distinct meanings. How can you tell a regex that you want it to fit real parentheses and periods?\n"
   ]
  },
  {
   "cell_type": "raw",
   "id": "f2c4ebe8-cd09-4f35-b52e-c09e5d052f58",
   "metadata": {},
   "source": [
    "using backslash \\., \\(, and \\)"
   ]
  },
  {
   "cell_type": "markdown",
   "id": "dc1611ca-06e2-49af-a2f2-baee1516c7c8",
   "metadata": {},
   "source": [
    "# 7. The findall() method returns a string list or a list of string tuples. What causes it to return one of the two options?\n"
   ]
  },
  {
   "cell_type": "markdown",
   "id": "da3ce96c-5741-46fa-9d89-af49055e6a9c",
   "metadata": {},
   "source": [
    "If the regex has no groups, a list of strings is returned.\n",
    "\n",
    "If the regex has groups, a list of tuples of strings is returned."
   ]
  },
  {
   "cell_type": "markdown",
   "id": "afb6d7d5-54ea-4a5b-aac2-64b82ee51005",
   "metadata": {},
   "source": [
    "# 8. In standard expressions, what does the | character mean?\n"
   ]
  },
  {
   "cell_type": "markdown",
   "id": "0310e8bc-05a3-4301-9ae5-f0d32faede05",
   "metadata": {},
   "source": [
    "matching \"either, or\" between two groups"
   ]
  },
  {
   "cell_type": "markdown",
   "id": "a902ff50-81e1-4ba2-8fbf-462c6659f4f7",
   "metadata": {},
   "source": [
    "# 9. In regular expressions, what does the character stand for?"
   ]
  },
  {
   "cell_type": "markdown",
   "id": "614c4b91-308d-4a0f-a7c8-7c132a154779",
   "metadata": {},
   "source": [
    "match zero or one of the preceding group\n"
   ]
  },
  {
   "cell_type": "markdown",
   "id": "e1f20cae-eda8-4382-a4c2-66310512fc87",
   "metadata": {},
   "source": [
    "# 10.In regular expressions, what is the difference between the + and * characters?\n"
   ]
  },
  {
   "cell_type": "raw",
   "id": "98754d60-29ae-4b6e-924e-3978802d93a0",
   "metadata": {},
   "source": [
    "+ matches one or more\n",
    "* matches zero or more."
   ]
  },
  {
   "cell_type": "markdown",
   "id": "e9c4cac2-d010-4c57-bb13-54d678945175",
   "metadata": {},
   "source": [
    "# 11. What is the difference between {4} and {4,5} in regular expression?\n"
   ]
  },
  {
   "cell_type": "markdown",
   "id": "2c987e7e-048f-4187-bfa4-f0403a688ad8",
   "metadata": {},
   "source": [
    " {4} matches exactly four instances of the preceding group. The {4,5} matches between four and five instances."
   ]
  },
  {
   "cell_type": "markdown",
   "id": "e5c83df6-0351-4223-8851-8ba497989862",
   "metadata": {},
   "source": [
    "# 12. What do you mean by the \\d, \\w, and \\s shorthand character classes signify in regularexpressions?\n"
   ]
  },
  {
   "cell_type": "markdown",
   "id": "ecfe26e1-49b4-4103-b8e1-2d8257a1618b",
   "metadata": {},
   "source": [
    "\\d match a single digit,\n",
    "\n",
    "\\w match a word\n",
    "\n",
    "\\s match a space character"
   ]
  },
  {
   "cell_type": "markdown",
   "id": "beadfefb-610b-4c28-8856-13dc34cd5dfb",
   "metadata": {},
   "source": [
    "# 13. What do means by \\D, \\W, and \\S shorthand character classes signify in regular expressions?\n"
   ]
  },
  {
   "cell_type": "markdown",
   "id": "fca36457-906c-42c8-b2d8-72292dab74d1",
   "metadata": {},
   "source": [
    "\\D match not a digit,\n",
    "\n",
    "\\W match not a word\n",
    "\n",
    "\\S match not a space character"
   ]
  },
  {
   "cell_type": "markdown",
   "id": "a09767cb-b71b-46db-bd7c-9a4090fdf9b9",
   "metadata": {},
   "source": [
    "# 14. What is the difference between .\\*? and .\\*?\n"
   ]
  },
  {
   "cell_type": "markdown",
   "id": "a7cfd67b-66eb-4f15-b76a-fcd2367ccef7",
   "metadata": {},
   "source": [
    "The .*? performs a nongreedy match, and the .* performs a greedy match."
   ]
  },
  {
   "cell_type": "markdown",
   "id": "fb62da21-fac9-422b-aba6-ff69484fc171",
   "metadata": {},
   "source": [
    "# 15. What is the syntax for matching both numbers and lowercase letters with a character class?\n"
   ]
  },
  {
   "cell_type": "markdown",
   "id": "919909a3-4553-4d97-9ddb-70eb46d50864",
   "metadata": {},
   "source": [
    " [0-9a-z] "
   ]
  },
  {
   "cell_type": "markdown",
   "id": "90cbb8c9-fa99-4fd6-8584-190aeccf6a8b",
   "metadata": {},
   "source": [
    "# 16. What is the procedure for making a normal expression in regax case insensitive?\n"
   ]
  },
  {
   "cell_type": "markdown",
   "id": "e291855d-b172-47b9-b9c0-87c94b5ae93f",
   "metadata": {},
   "source": [
    "use re.IGNORECASE"
   ]
  },
  {
   "cell_type": "markdown",
   "id": "5175aa34-b340-466b-a3bf-0c0ff6521be2",
   "metadata": {},
   "source": [
    "# 17. What does the . character normally match? What does it match if re.DOTALL is passed as 2nd argument in re.compile()?\n"
   ]
  },
  {
   "cell_type": "markdown",
   "id": "ea4767c1-1c1d-4514-9242-f98fe637b5a4",
   "metadata": {},
   "source": [
    "The . character normally matches any character except the newline character. If re.DOTALL is passed as the second argument to re.compile(), then the dot will also match newline characters."
   ]
  },
  {
   "cell_type": "markdown",
   "id": "3d5f5a7b-2826-4da3-95f3-a9acf13fb30a",
   "metadata": {},
   "source": [
    "# 18. If numReg = re.compile(r&#39;\\d+&#39;), what will numRegex.sub(&#39;X&#39;, &#39;11 drummers, 10 pipers, five rings, 4 hen&#39;) return?"
   ]
  },
  {
   "cell_type": "markdown",
   "id": "97c9f94c-a118-44fd-886d-02a1a5bdb6c4",
   "metadata": {},
   "source": [
    "X drummers, X pipers, five rings, X hens"
   ]
  },
  {
   "cell_type": "markdown",
   "id": "e2715277-7aff-442b-a05c-eda3cf977359",
   "metadata": {},
   "source": [
    "# 19. What does passing re.VERBOSE as the 2nd argument to re.compile() allow to do?\n"
   ]
  },
  {
   "cell_type": "markdown",
   "id": "e0019337-1945-4645-88e3-e5946d2f40a0",
   "metadata": {},
   "source": [
    "add whitespace and comments to the string passed to re.compile()"
   ]
  },
  {
   "cell_type": "markdown",
   "id": "d1813ded-a091-4e49-86af-5077c8fc28e5",
   "metadata": {},
   "source": [
    "# 20. How would you write a regex that match a number with comma for every three digits? It must match the given following:\n",
    "&#39;42&#39;\n",
    "\n",
    "&#39;1,234&#39;\n",
    "\n",
    "&#39;6,368,745&#39;\n",
    " \n",
    "but not the following:\n",
    "\n",
    "&#39;12,34,567&#39; (which has only two digits between the commas)\n",
    "\n",
    "&#39;1234&#39; (which lacks commas)"
   ]
  },
  {
   "cell_type": "raw",
   "id": "8006ba2e-12f6-4487-b103-d95381b7aec2",
   "metadata": {},
   "source": [
    "re.compile(r'^\\d{1,3}(,\\d{3})*$') will create this regex, but other regex strings can produce a similar regular expression."
   ]
  },
  {
   "cell_type": "markdown",
   "id": "910a0974-45c6-4cc1-a051-8b83500ac2e8",
   "metadata": {},
   "source": [
    "# How would you write a regex that matches the full name of someone whose last name is Nakamoto? You can assume that the first name that comes before it will always be one word that begins with a capital letter. The regex must match the following:\n",
    "\n",
    "'Satoshi Nakamoto'\n",
    "\n",
    "'Alice Nakamoto'\n",
    "\n",
    "'Robocop Nakamoto'\n",
    "\n",
    "but not the following:\n",
    "\n",
    "&#39;haruto Watanabe&#39; (where the first name is not capitalized)\n",
    "\n",
    "&#39;Mr. Watanabe&#39; (where the preceding word has a nonletter character)\n",
    "\n",
    "&#39;Watanabe&#39; (which has no first name)\n",
    "\n",
    "&#39;Haruto watanabe&#39; (where Watanabe is not capitalized)"
   ]
  },
  {
   "cell_type": "raw",
   "id": "82db08cd-72eb-4f49-9c02-60e3bade833f",
   "metadata": {},
   "source": [
    "re.compile(r'[A-Z][a-z]*\\sNakamoto')"
   ]
  },
  {
   "cell_type": "markdown",
   "id": "6b85b618-9335-4e25-aaef-8c966bca4415",
   "metadata": {},
   "source": [
    "# How would you write a regex that matches a sentence where the first word is either Alice, Bob, or Carol; the second word is either eats, pets, or throws; the third word is apples, cats, or baseballs; and the sentence ends with a period? This regex should be case-insensitive. It must match the following:\n",
    "\n",
    "'Alice eats apples.'\n",
    "\n",
    "'Bob pets cats.'\n",
    "\n",
    "'Carol throws baseballs.'\n",
    "\n",
    "'Alice throws Apples.'\n",
    "\n",
    "'BOB EATS CATS.'\n",
    "\n",
    "but not the following:\n",
    "\n",
    "'Robocop eats apples.'\n",
    "\n",
    "'ALICE THROWS FOOTBALLS.'\n",
    "\n",
    "'Carol eats 7 cats.'"
   ]
  },
  {
   "cell_type": "raw",
   "id": "162686bc-48bf-493d-9ae0-1a812b9c22c0",
   "metadata": {},
   "source": [
    "re.compile(r'(Alice|Bob|Carol)\\s(eats|pets|throws)\\s(apples|cats|baseballs)\\.', re.IGNORECASE)"
   ]
  },
  {
   "cell_type": "code",
   "execution_count": null,
   "id": "ad36ecbb-4eff-4eb5-846d-e3541d1aae99",
   "metadata": {},
   "outputs": [],
   "source": []
  }
 ],
 "metadata": {
  "kernelspec": {
   "display_name": "Python 3",
   "language": "python",
   "name": "python3"
  },
  "language_info": {
   "codemirror_mode": {
    "name": "ipython",
    "version": 3
   },
   "file_extension": ".py",
   "mimetype": "text/x-python",
   "name": "python",
   "nbconvert_exporter": "python",
   "pygments_lexer": "ipython3",
   "version": "3.8.5"
  }
 },
 "nbformat": 4,
 "nbformat_minor": 5
}
