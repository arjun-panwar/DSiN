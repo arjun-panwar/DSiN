{
 "cells": [
  {
   "cell_type": "markdown",
   "id": "e6bcfd0c-677f-4d2b-bbe2-3285355c2b5e",
   "metadata": {},
   "source": [
    "1. Create an assert statement that throws an AssertionError if the variable spam is a negative integer.\n"
   ]
  },
  {
   "cell_type": "code",
   "execution_count": null,
   "id": "427664df-3a27-47cd-8258-ff089d1b2585",
   "metadata": {},
   "outputs": [],
   "source": [
    "assert spam > 0"
   ]
  },
  {
   "cell_type": "markdown",
   "id": "21eecdcf-cfa8-42b1-ac9f-a29f85862443",
   "metadata": {},
   "source": [
    "2. Write an assert statement that triggers an AssertionError if the variables eggs and bacon contain\n",
    "strings that are the same as each other, even if their cases are different (that is, &#39;hello&#39; and &#39;hello&#39; are\n",
    "considered the same, and &#39;goodbye&#39; and &#39;GOODbye&#39; are also considered the same).\n"
   ]
  },
  {
   "cell_type": "code",
   "execution_count": null,
   "id": "1f15f359-d898-4ad1-9d33-538eebbb0ce8",
   "metadata": {},
   "outputs": [],
   "source": [
    "assert eggs.lower() != bacon.lower(), 'The eggs and bacon variables are the same!' or assert eggs.upper() != bacon.upper(), 'The eggs and bacon variables are the same!'"
   ]
  },
  {
   "cell_type": "markdown",
   "id": "a200d55f-6715-432d-9a00-aa7d8f2e88b2",
   "metadata": {},
   "source": [
    "3. Create an assert statement that throws an AssertionError every time.\n"
   ]
  },
  {
   "cell_type": "code",
   "execution_count": null,
   "id": "21d318ac-8510-45ae-9dfa-768325c49799",
   "metadata": {},
   "outputs": [],
   "source": [
    "assert False, 'The assertion always triggers.'"
   ]
  },
  {
   "cell_type": "markdown",
   "id": "ebfccf09-2630-4f90-8c5a-6cd833bc2da0",
   "metadata": {},
   "source": [
    "4. What are the two lines that must be present in your software in order to call logging.debug()?\n"
   ]
  },
  {
   "cell_type": "code",
   "execution_count": null,
   "id": "e154f738-b15b-40ce-bd96-f7e295df37cc",
   "metadata": {},
   "outputs": [],
   "source": [
    "import logging\n",
    "logging.basicConfig(level=logging.DEBUG, format=' %(asctime)s-%(levelname)s - %(message)s')"
   ]
  },
  {
   "cell_type": "markdown",
   "id": "855422d4-8b7c-4620-8189-529e2fc1d820",
   "metadata": {},
   "source": [
    "5. What are the two lines that your program must have in order to have logging.debug() send a\n",
    "logging message to a file named programLog.txt?\n"
   ]
  },
  {
   "cell_type": "code",
   "execution_count": null,
   "id": "bac35df9-df97-4fcc-a51f-f47551c18f02",
   "metadata": {},
   "outputs": [],
   "source": [
    "import logging\n",
    "logging.basicConfig(filename='programLog.txt', level=logging.DEBUG,format=' %(asctime)s - %(levelname)s - %(message)s')"
   ]
  },
  {
   "cell_type": "markdown",
   "id": "a228948d-448e-434a-b059-b0449aae24c0",
   "metadata": {},
   "source": [
    "6. What are the five levels of logging?\n"
   ]
  },
  {
   "cell_type": "code",
   "execution_count": null,
   "id": "3d5df8e1-4964-4010-8a13-5b6d1e87d313",
   "metadata": {},
   "outputs": [],
   "source": [
    "DEBUG, INFO, WARNING, ERROR, and CRITICAL"
   ]
  },
  {
   "cell_type": "markdown",
   "id": "89d59ad7-5b45-4a58-a8aa-02bf35cc1d8f",
   "metadata": {},
   "source": [
    "7. What line of code would you add to your software to disable all logging messages?\n"
   ]
  },
  {
   "cell_type": "code",
   "execution_count": null,
   "id": "4f482c17-7900-4205-94ca-86bcd6ad6bb3",
   "metadata": {},
   "outputs": [],
   "source": [
    "logging.disable(logging.CRITICAL)"
   ]
  },
  {
   "cell_type": "markdown",
   "id": "5824dffe-1906-4262-b917-4381bfe42dce",
   "metadata": {},
   "source": [
    "8.Why is using logging messages better than using print() to display the same message?\n"
   ]
  },
  {
   "cell_type": "raw",
   "id": "92c7b8fa-7674-49f4-9c9d-3c0a7dae738d",
   "metadata": {},
   "source": [
    "logging messages are Saved in file\n",
    "You can disable logging messages without removing the logging function calls. \n",
    "You can selectively disable lower-level logging messages.\n",
    "You can create logging messages. \n",
    "Logging messages provides a timestamp."
   ]
  },
  {
   "cell_type": "markdown",
   "id": "466df22b-7768-49d8-a78b-d2b939b518b8",
   "metadata": {},
   "source": [
    "9. What are the differences between the Step Over, Step In, and Step Out buttons in the debugger?\n"
   ]
  },
  {
   "cell_type": "raw",
   "id": "8d14d4df-cbb7-49e5-aa34-b8e903c73d00",
   "metadata": {},
   "source": [
    "The Step button will move the debugger into a function call. The Over button will quickly execute the function call without stepping into it. The Out button will quickly execute the rest of the code until it steps out of the function it currently is in."
   ]
  },
  {
   "cell_type": "markdown",
   "id": "cb91c2a3-de5c-4cd4-be89-4f05144168e0",
   "metadata": {},
   "source": [
    "10.After you click Continue, when will the debugger stop ?\n"
   ]
  },
  {
   "cell_type": "raw",
   "id": "412a7ef5-2d3b-4be1-9f3f-8c15af718e79",
   "metadata": {},
   "source": [
    "After you click Go, the debugger will stop when it has reached the end of the program or a line with a breakpoint."
   ]
  },
  {
   "cell_type": "markdown",
   "id": "2523b143-b0b2-420b-97dd-7e846449e702",
   "metadata": {},
   "source": [
    "11. What is the concept of a breakpoint?"
   ]
  },
  {
   "cell_type": "code",
   "execution_count": null,
   "id": "4fef1c1b-34a7-438f-852b-de564135c046",
   "metadata": {},
   "outputs": [],
   "source": [
    "A breakpoint is a setting on a line of code that causes the debugger to pause when the program execution reaches the line."
   ]
  },
  {
   "cell_type": "code",
   "execution_count": null,
   "id": "e18ee7da-d327-4634-990e-f2c9b74e3b01",
   "metadata": {},
   "outputs": [],
   "source": []
  }
 ],
 "metadata": {
  "kernelspec": {
   "display_name": "Python 3",
   "language": "python",
   "name": "python3"
  },
  "language_info": {
   "codemirror_mode": {
    "name": "ipython",
    "version": 3
   },
   "file_extension": ".py",
   "mimetype": "text/x-python",
   "name": "python",
   "nbconvert_exporter": "python",
   "pygments_lexer": "ipython3",
   "version": "3.8.10"
  }
 },
 "nbformat": 4,
 "nbformat_minor": 5
}
