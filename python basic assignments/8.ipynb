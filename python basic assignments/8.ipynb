{
 "cells": [
  {
   "cell_type": "markdown",
   "id": "96bdc96f-0ea6-4418-a896-698acf8061e3",
   "metadata": {},
   "source": [
    "# 1. Is the Python Standard Library included with PyInputPlus?\n"
   ]
  },
  {
   "cell_type": "markdown",
   "id": "572fffb0-73bc-43d4-a17d-bb32300cae73",
   "metadata": {},
   "source": [
    "no"
   ]
  },
  {
   "cell_type": "markdown",
   "id": "12ff4beb-2e1d-414c-ac54-9a5fba77918d",
   "metadata": {},
   "source": [
    "# 2. Why is PyInputPlus commonly imported with import pyinputplus as pypi?\n"
   ]
  },
  {
   "cell_type": "markdown",
   "id": "f668bdc4-fcbe-4c4f-a659-00105578a3a5",
   "metadata": {},
   "source": [
    "so that we can use it with pypi reference"
   ]
  },
  {
   "cell_type": "markdown",
   "id": "dc73df45-87d4-4929-97ab-ec59476e5720",
   "metadata": {},
   "source": [
    "# 3. How do you distinguish between inputInt() and inputFloat()?\n"
   ]
  },
  {
   "cell_type": "markdown",
   "id": "c85c0f26-0cc5-48d7-aaed-3a0f469747d1",
   "metadata": {},
   "source": [
    "inputInt() take integer as input\n",
    "\n",
    "inputFloat() take float as input"
   ]
  },
  {
   "cell_type": "markdown",
   "id": "f582e8af-af50-49c4-b2a0-b38669d39c01",
   "metadata": {},
   "source": [
    "# 4. Using PyInputPlus, how do you ensure that the user enters a whole number between 0 and 99?\n"
   ]
  },
  {
   "cell_type": "raw",
   "id": "4a3007d3-2107-4a70-aaa2-cb0fdd5ab480",
   "metadata": {},
   "source": [
    "pyip.inputNum(min=0, max=99)"
   ]
  },
  {
   "cell_type": "markdown",
   "id": "5c310408-12f3-4063-bb36-a3a9244c9f76",
   "metadata": {},
   "source": [
    "# 5. What is transferred to the keyword arguments allowRegexes and blockRegexes?\n"
   ]
  },
  {
   "cell_type": "raw",
   "id": "9bdb39d9-51cf-4810-b857-94640b1ae5b8",
   "metadata": {},
   "source": [
    "pyip.inputNum(blockRegexes=[r'[02468]$'])\n",
    "pyip.inputNum(allowRegexes=[r'[02468]$'])\n"
   ]
  },
  {
   "cell_type": "markdown",
   "id": "56872853-ad73-446e-b17f-8ab9dba53641",
   "metadata": {},
   "source": [
    "# 6. If a blank input is entered three times, what does inputStr(limit=3) do?\n"
   ]
  },
  {
   "cell_type": "raw",
   "id": "1c5a0f6b-aafd-4a7c-aadd-1c7e6303b46b",
   "metadata": {},
   "source": [
    "Error RetryLimitException"
   ]
  },
  {
   "cell_type": "markdown",
   "id": "9a889d1d-6d5e-4e7a-a191-e9f69a68cbb4",
   "metadata": {},
   "source": [
    "# 7. If blank input is entered three times, what does inputStr(limit=3, default=&#39;hello&#39;) do?"
   ]
  },
  {
   "cell_type": "raw",
   "id": "0c2086bd-c719-4dc3-83cf-66ae187395d2",
   "metadata": {},
   "source": [
    "assign \"hello\" as it is default value"
   ]
  },
  {
   "cell_type": "code",
   "execution_count": null,
   "id": "f217e9ac-9937-49d4-8208-23951bd60d60",
   "metadata": {},
   "outputs": [],
   "source": []
  }
 ],
 "metadata": {
  "kernelspec": {
   "display_name": "Python 3",
   "language": "python",
   "name": "python3"
  },
  "language_info": {
   "codemirror_mode": {
    "name": "ipython",
    "version": 3
   },
   "file_extension": ".py",
   "mimetype": "text/x-python",
   "name": "python",
   "nbconvert_exporter": "python",
   "pygments_lexer": "ipython3",
   "version": "3.8.10"
  }
 },
 "nbformat": 4,
 "nbformat_minor": 5
}
