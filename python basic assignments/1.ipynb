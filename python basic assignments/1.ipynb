{
 "cells": [
  {
   "cell_type": "markdown",
   "metadata": {},
   "source": [
    "# 1.What are the differences between operators and values in the following?\n"
   ]
  },
  {
   "cell_type": "raw",
   "metadata": {},
   "source": [
    "*\n",
    "'hello'\n",
    "-87.6\n",
    "-\n",
    "/\n",
    "+\n",
    "6"
   ]
  },
  {
   "cell_type": "markdown",
   "metadata": {},
   "source": [
    "*-/+ arre called as operators and which are used to perform mathematical operations\n",
    "\n",
    "and 'hello' -87.8 and 6 are values\n"
   ]
  },
  {
   "cell_type": "markdown",
   "metadata": {},
   "source": [
    "# 2. What is the difference between string and variable?\n",
    "spam\n",
    "\n",
    "\"spam\"\n",
    "\n",
    "\n",
    "# Answer: \n",
    "\n",
    "\"spam\" - String is a combination of characters enclosed by \"\". It is treated as array.\n",
    "\n",
    "spam - variable is a memory location name, in which we can store our values,which can be string,integer,float or boolean "
   ]
  },
  {
   "cell_type": "markdown",
   "metadata": {},
   "source": [
    "# 3.Describe three different data forms.\n",
    "\n",
    "\n",
    " \n",
    "1.Integer - this data type contain all the mathematical integers \n",
    "\n",
    "2.Float-this data type contains decimal numbers\n",
    "\n",
    "3.Strings- this data type contain combination of characters enclosed by \"\". It is treated as array.\n",
    "\n",
    "4.Boolean -  this data type contains 2 values True or False "
   ]
  },
  {
   "cell_type": "markdown",
   "metadata": {},
   "source": [
    "# 4.What makes up an expression? What are the functions of all expressions?\n",
    "\n",
    "Expesssion is the combination of variables, constants and operators. \n",
    "\n",
    "\n",
    "An expression is a representation of values, which depends on values of variable, constants and operators . After evaluation it give us a value."
   ]
  },
  {
   "cell_type": "markdown",
   "metadata": {},
   "source": [
    "# 5.In this chapter, assignment statements such as spam = 10 were added. What's the difference between a declaration and an expression?\n",
    "Declaration is when we give a variable, a constant value, which can be later changed.It is independent of any other variable.\n",
    "\n",
    "Expression is the combination of variables, constants and operators. It's value depends on the variables present in it. "
   ]
  },
  {
   "cell_type": "markdown",
   "metadata": {},
   "source": [
    "# 6. After running the following code, what does the variable bacon contain?\n",
    "bacon = 22\n",
    "\n",
    "bacon + 1\n",
    "\n",
    "\n",
    "### Answer\n",
    "bacon = 22\n",
    "\n",
    "as + 1 is not stored in bacon, its value remain same."
   ]
  },
  {
   "cell_type": "markdown",
   "metadata": {},
   "source": [
    "# 7. What should the values of the following two terms be?\n",
    "\n",
    "'spam'+ 'spamspam' ='spamspamspam'\n",
    "\n",
    "'spam' * 3 = 'spamspamspam'"
   ]
  },
  {
   "cell_type": "markdown",
   "metadata": {},
   "source": [
    "# 8.Why is it that eggs is a true variable name but 100 is not?\n",
    "\n",
    "variable name must start with string, so eggs is a true variable name and 100 is a literal and we can't assign to literal"
   ]
  },
  {
   "cell_type": "markdown",
   "metadata": {},
   "source": [
    "# 9. Which of the following three functions may be used to convert a value to an integer, a floating-point number, or a string?"
   ]
  },
  {
   "cell_type": "code",
   "execution_count": 12,
   "metadata": {},
   "outputs": [
    {
     "data": {
      "text/plain": [
       "1"
      ]
     },
     "execution_count": 12,
     "metadata": {},
     "output_type": "execute_result"
    }
   ],
   "source": [
    "int(1.0)    #to intezer"
   ]
  },
  {
   "cell_type": "code",
   "execution_count": 11,
   "metadata": {},
   "outputs": [
    {
     "data": {
      "text/plain": [
       "1.0"
      ]
     },
     "execution_count": 11,
     "metadata": {},
     "output_type": "execute_result"
    }
   ],
   "source": [
    "float(1)  #to float\n"
   ]
  },
  {
   "cell_type": "code",
   "execution_count": 13,
   "metadata": {},
   "outputs": [
    {
     "data": {
      "text/plain": [
       "'1'"
      ]
     },
     "execution_count": 13,
     "metadata": {},
     "output_type": "execute_result"
    }
   ],
   "source": [
    "str(1)    #to string"
   ]
  },
  {
   "cell_type": "markdown",
   "metadata": {},
   "source": [
    "# 10.What is the error caused by this expression? What would you do about it?\n",
    "## 'I have eaten' + 99 + 'burritos' \n",
    "\n",
    "### Answer\n",
    "It will give us Type error as we cant concatenate integer and string so we have to convert this integer to string"
   ]
  },
  {
   "cell_type": "code",
   "execution_count": 16,
   "metadata": {},
   "outputs": [
    {
     "data": {
      "text/plain": [
       "'I have eaten99burritos'"
      ]
     },
     "execution_count": 16,
     "metadata": {},
     "output_type": "execute_result"
    }
   ],
   "source": [
    "'I have eaten' + str(99) + 'burritos' "
   ]
  },
  {
   "cell_type": "code",
   "execution_count": null,
   "metadata": {},
   "outputs": [],
   "source": []
  }
 ],
 "metadata": {
  "kernelspec": {
   "display_name": "Python 3",
   "language": "python",
   "name": "python3"
  },
  "language_info": {
   "codemirror_mode": {
    "name": "ipython",
    "version": 3
   },
   "file_extension": ".py",
   "mimetype": "text/x-python",
   "name": "python",
   "nbconvert_exporter": "python",
   "pygments_lexer": "ipython3",
   "version": "3.7.3"
  }
 },
 "nbformat": 4,
 "nbformat_minor": 2
}
