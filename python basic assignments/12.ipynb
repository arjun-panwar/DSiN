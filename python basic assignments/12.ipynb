{
 "cells": [
  {
   "cell_type": "markdown",
   "id": "6c01cdc1-0da9-4cf4-8608-af75f50003d2",
   "metadata": {},
   "source": [
    "1. In what modes should the PdfFileReader() and PdfFileWriter() File objects will be opened?\n"
   ]
  },
  {
   "cell_type": "code",
   "execution_count": null,
   "id": "099ba313-9a10-413c-8b4f-28860450d1bf",
   "metadata": {},
   "outputs": [],
   "source": [
    "PdfFileReader() = 'rb'\n",
    "PdfFileWriter() = 'wb'"
   ]
  },
  {
   "cell_type": "markdown",
   "id": "cdb13a37-74e3-40e1-b98f-9bffedb257c0",
   "metadata": {},
   "source": [
    "2. From a PdfFileReader object, how do you get a Page object for page 5?\n"
   ]
  },
  {
   "cell_type": "raw",
   "id": "c8ad7c49-7f14-449f-b10b-6918d558079b",
   "metadata": {},
   "source": [
    " by calling the getPage() method "
   ]
  },
  {
   "cell_type": "markdown",
   "id": "26a52c2a-e85a-4cd7-a208-8ba617d177cf",
   "metadata": {},
   "source": [
    "3. What PdfFileReader variable stores the number of pages in the PDF document?\n"
   ]
  },
  {
   "cell_type": "raw",
   "id": "907aa3d2-f1b1-4fc7-b8e5-068cc737cd87",
   "metadata": {},
   "source": [
    " numPages"
   ]
  },
  {
   "cell_type": "markdown",
   "id": "fef37fab-8216-4465-aee3-47411394ad8a",
   "metadata": {},
   "source": [
    "4. If a PdfFileReader object’s PDF is encrypted with the password swordfish, what must you do\n",
    "before you can obtain Page objects from it?\n"
   ]
  },
  {
   "cell_type": "raw",
   "id": "afa6ad18-8943-4ec3-90cd-6e968961a0bf",
   "metadata": {},
   "source": [
    "file.decrypt(password)"
   ]
  },
  {
   "cell_type": "markdown",
   "id": "332e986e-ad59-4321-8e91-d0c3196c7e0a",
   "metadata": {},
   "source": [
    "5. What methods do you use to rotate a page?\n"
   ]
  },
  {
   "cell_type": "raw",
   "id": "e458e977-29f7-44c5-b1a5-971851513bf5",
   "metadata": {},
   "source": [
    "rotateClockwise(90)"
   ]
  },
  {
   "cell_type": "markdown",
   "id": "a09ecec6-ff4b-4af4-a757-9eb3eae43faf",
   "metadata": {},
   "source": [
    "6. What is the difference between a Run object and a Paragraph object?\n"
   ]
  },
  {
   "cell_type": "raw",
   "id": "af3dadf7-58e4-4202-9cbf-eb30cd20bd48",
   "metadata": {},
   "source": [
    "Run objects also have a text attribute, containing just the text in that particular run.\n",
    "\n",
    "Paragraph objects has a text attribute that contains a string of the text in that paragraph "
   ]
  },
  {
   "cell_type": "markdown",
   "id": "8fad9173-7544-4b3b-9524-90f61784ef2b",
   "metadata": {},
   "source": [
    "7. How do you obtain a list of Paragraph objects for a Document object that’s stored in a variable\n",
    "named doc?\n"
   ]
  },
  {
   "cell_type": "raw",
   "id": "cfe897e2-17a1-43e2-bcbd-34ccfc92bd2c",
   "metadata": {},
   "source": [
    "Use doc.paragraphs."
   ]
  },
  {
   "cell_type": "markdown",
   "id": "d4adff9e-2921-4da2-84a6-d1b82d06b091",
   "metadata": {},
   "source": [
    "8. What type of object has bold, underline, italic, strike, and outline variables?\n"
   ]
  },
  {
   "cell_type": "raw",
   "id": "a06c67c3-c588-4fb7-b142-d4987948632e",
   "metadata": {},
   "source": [
    "A Run object has these variables (not a paragraph)"
   ]
  },
  {
   "cell_type": "markdown",
   "id": "ba235e27-0590-47b8-adb5-578d31ce386a",
   "metadata": {},
   "source": [
    "9. What is the difference between False, True, and None for the bold variable?\n"
   ]
  },
  {
   "cell_type": "raw",
   "id": "b105a7db-5676-42a1-a321-ee8ab4949993",
   "metadata": {},
   "source": [
    "True always makes the Run object bolded and False makes it always not bolded, no matter what the style's bold setting is. None will make the Run object just use the style's bold setting."
   ]
  },
  {
   "cell_type": "markdown",
   "id": "ffbdc845-4643-4180-a44e-93ed83f58b11",
   "metadata": {},
   "source": [
    "10. How do you create a Document object for a new Word document?\n"
   ]
  },
  {
   "cell_type": "raw",
   "id": "d2c9c6af-6522-4da5-962d-e28e29328c79",
   "metadata": {},
   "source": [
    "Call the docx.Document() function"
   ]
  },
  {
   "cell_type": "markdown",
   "id": "df6545c6-4643-42ff-9ae2-b19faff16b64",
   "metadata": {},
   "source": [
    "11. How do you add a paragraph with the text &#39;Hello, there!&#39; to a Document object stored in a\n",
    "variable named doc?\n"
   ]
  },
  {
   "cell_type": "raw",
   "id": "36f0e8a4-6921-40ae-9ae0-4c849a6cd16f",
   "metadata": {},
   "source": [
    "doc.add_paragraph('Hello there!')"
   ]
  },
  {
   "cell_type": "markdown",
   "id": "2cd9bfe4-999d-42f3-a0f8-2f33d2a7cdae",
   "metadata": {},
   "source": [
    "12. What integers represent the levels of headings available in Word documents?"
   ]
  },
  {
   "cell_type": "code",
   "execution_count": null,
   "id": "2b6591e5-ad91-4200-8551-c633b5c004b6",
   "metadata": {},
   "outputs": [],
   "source": [
    "The integers 0,1,2,3, and 4"
   ]
  }
 ],
 "metadata": {
  "kernelspec": {
   "display_name": "Python 3",
   "language": "python",
   "name": "python3"
  },
  "language_info": {
   "codemirror_mode": {
    "name": "ipython",
    "version": 3
   },
   "file_extension": ".py",
   "mimetype": "text/x-python",
   "name": "python",
   "nbconvert_exporter": "python",
   "pygments_lexer": "ipython3",
   "version": "3.8.10"
  }
 },
 "nbformat": 4,
 "nbformat_minor": 5
}
