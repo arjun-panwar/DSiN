{
 "cells": [
  {
   "cell_type": "markdown",
   "id": "fb60ccb6-9bcd-4a19-af0d-ce4ac4c87259",
   "metadata": {},
   "source": [
    "# 1. What does an empty dictionary's code look like?\n",
    "{}"
   ]
  },
  {
   "cell_type": "markdown",
   "id": "057c697f-5d98-4d8a-82c1-91f922453083",
   "metadata": {},
   "source": [
    "# 2. What is the value of a dictionary value with the key 'foo' and the value 42?\n",
    "{\"foo\":42}"
   ]
  },
  {
   "cell_type": "markdown",
   "id": "59e5c45c-cc91-41f2-98d7-b989dda721b2",
   "metadata": {},
   "source": [
    "# 3. What is the most significant distinction between a dictionary and a list?\n",
    "dictionary is unordered and subscripted by its key\n",
    "\n",
    "list is ordered and subscripted by index no."
   ]
  },
  {
   "cell_type": "markdown",
   "id": "90f6feeb-3164-4ebc-af4d-051899c20135",
   "metadata": {},
   "source": [
    "# 4. What happens if you try to access spam['foo'] if spam is {'bar': 100}?\n",
    "key error"
   ]
  },
  {
   "cell_type": "markdown",
   "id": "06621df4-45d2-4920-9095-168778643501",
   "metadata": {},
   "source": [
    "# 5. If a dictionary is stored in spam, what is the difference between the expressions 'cat' in spam and 'cat' in spam.keys()?\n",
    "NO difference, both will check weather key \"cat\" exits in dict spam or not"
   ]
  },
  {
   "cell_type": "markdown",
   "id": "31d3ef63-3ff2-4e42-82d1-a2c1cdefc6da",
   "metadata": {},
   "source": [
    "# 6. If a dictionary is stored in spam, what is the difference between the expressions 'cat' in spam and 'cat' in spam.values()?\n",
    "\n",
    "'cat' in spam  will check weather key \"cat\" exits in dict spam or not\n",
    "\n",
    "'cat' in spam.values() will check weather any value matches with \"cat\" in dict spam or not"
   ]
  },
  {
   "cell_type": "markdown",
   "id": "3c8fb255-c0fe-4e5f-a2ae-1ffb82becb31",
   "metadata": {},
   "source": [
    "# 7. What is a shortcut for the following code?\n"
   ]
  },
  {
   "cell_type": "raw",
   "id": "f8e7301e-d588-4652-9850-ebbd8607e27c",
   "metadata": {},
   "source": [
    "if 'color' not in spam:\n",
    "    spam['color'] = 'black'"
   ]
  },
  {
   "cell_type": "markdown",
   "id": "3451a9b4-5344-4be5-8ad9-6e00b08174ca",
   "metadata": {},
   "source": [
    "spam['color'] = 'black'"
   ]
  },
  {
   "cell_type": "markdown",
   "id": "d5b527b6-6f69-4d4d-ba56-58ffc65a9d89",
   "metadata": {},
   "source": [
    "# 8. How do you \"pretty print\" dictionary values using which module and function?"
   ]
  },
  {
   "cell_type": "markdown",
   "id": "a5510662-b368-4b45-9988-66835bb0c8bf",
   "metadata": {},
   "source": [
    "pprint.print()"
   ]
  },
  {
   "cell_type": "code",
   "execution_count": null,
   "id": "f2e02a38-b098-4c1b-bed6-a4ee5fc7b990",
   "metadata": {},
   "outputs": [],
   "source": []
  }
 ],
 "metadata": {
  "kernelspec": {
   "display_name": "Python 3",
   "language": "python",
   "name": "python3"
  },
  "language_info": {
   "codemirror_mode": {
    "name": "ipython",
    "version": 3
   },
   "file_extension": ".py",
   "mimetype": "text/x-python",
   "name": "python",
   "nbconvert_exporter": "python",
   "pygments_lexer": "ipython3",
   "version": "3.8.5"
  }
 },
 "nbformat": 4,
 "nbformat_minor": 5
}
