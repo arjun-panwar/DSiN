{
 "cells": [
  {
   "cell_type": "markdown",
   "metadata": {},
   "source": [
    "# 1. Add the current date to the text file today.txt as a string."
   ]
  },
  {
   "cell_type": "code",
   "execution_count": 32,
   "metadata": {},
   "outputs": [],
   "source": [
    "import datetime\n",
    "date=datetime.date.today()\n",
    "with open('today.txt','w+') as a:\n",
    "    a.writelines(str(date))\n",
    "    a.close()\n",
    "\n"
   ]
  },
  {
   "cell_type": "markdown",
   "metadata": {},
   "source": [
    "# 2. Read the text file today.txt into the string today_string"
   ]
  },
  {
   "cell_type": "code",
   "execution_count": 33,
   "metadata": {},
   "outputs": [],
   "source": [
    "with open('today.txt','r+') as a:\n",
    "    today_string=a.readline()\n",
    "    a.close()\n",
    "    "
   ]
  },
  {
   "cell_type": "code",
   "execution_count": 34,
   "metadata": {},
   "outputs": [
    {
     "data": {
      "text/plain": [
       "'2021-05-09'"
      ]
     },
     "execution_count": 34,
     "metadata": {},
     "output_type": "execute_result"
    }
   ],
   "source": [
    "today_string"
   ]
  },
  {
   "cell_type": "markdown",
   "metadata": {},
   "source": [
    "# 3. Parse the date from today_string."
   ]
  },
  {
   "cell_type": "code",
   "execution_count": 54,
   "metadata": {},
   "outputs": [
    {
     "data": {
      "text/plain": [
       "'05'"
      ]
     },
     "execution_count": 54,
     "metadata": {},
     "output_type": "execute_result"
    }
   ],
   "source": [
    "today_string[-5:-3]"
   ]
  },
  {
   "cell_type": "markdown",
   "metadata": {},
   "source": [
    "# 4. List the files in your current directory"
   ]
  },
  {
   "cell_type": "code",
   "execution_count": 55,
   "metadata": {},
   "outputs": [
    {
     "data": {
      "text/plain": [
       "['.ipynb_checkpoints',\n",
       " 'abc.csv',\n",
       " 'Assignment 18',\n",
       " 'Assignment-1.ipynb',\n",
       " 'Assignment-2.ipynb',\n",
       " 'Assignment-3.ipynb',\n",
       " 'Assignment_11.ipynb',\n",
       " 'Assignmnt-20',\n",
       " 'Basic python Assignment 13.ipynb',\n",
       " 'Basic Python Assignment 14.ipynb',\n",
       " 'Basic Python Assignment 15.ipynb',\n",
       " 'Basic Python Assignment 16.ipynb',\n",
       " 'basic python assignment 7.ipynb',\n",
       " 'basic Python Assignment-4.ipynb',\n",
       " 'Basic python assignment-5.ipynb',\n",
       " 'Basic python assignment-6.ipynb',\n",
       " 'drawings.png',\n",
       " 'pil.jpg',\n",
       " 'python basic Assignment -8.ipynb',\n",
       " 'python basic assignment -9.ipynb',\n",
       " 'python basic Assignment 10.ipynb',\n",
       " 'Python basic Assignment 12.ipynb',\n",
       " 'python basic Assignment 17.ipynb',\n",
       " 'python basic assignment 19.ipynb',\n",
       " 'python basic assignment 21.ipynb',\n",
       " 'test.txt',\n",
       " 'today.txt',\n",
       " 'Untitled.ipynb']"
      ]
     },
     "execution_count": 55,
     "metadata": {},
     "output_type": "execute_result"
    }
   ],
   "source": [
    "import os\n",
    "os.listdir()"
   ]
  },
  {
   "cell_type": "markdown",
   "metadata": {},
   "source": [
    "# 5. Create a list of all of the files in your parent directory (minimum five files should be available)."
   ]
  },
  {
   "cell_type": "code",
   "execution_count": 59,
   "metadata": {},
   "outputs": [
    {
     "data": {
      "text/plain": [
       "['$Recycle.Bin',\n",
       " '$WINDOWS.~BT',\n",
       " '$Windows.~WS',\n",
       " '$WinREAgent',\n",
       " 'clnuninst.ini',\n",
       " 'Config.Msi',\n",
       " 'Documents and Settings',\n",
       " 'drivers',\n",
       " 'DumpStack.log.tmp',\n",
       " 'hiberfil.sys',\n",
       " 'Intel',\n",
       " 'LastBak.ini',\n",
       " 'MSOCache',\n",
       " 'NPAVSCN.DAT',\n",
       " 'NPKey.txt',\n",
       " 'NVIDIA',\n",
       " 'OneDriveTemp',\n",
       " 'pagefile.sys',\n",
       " 'PerfLogs',\n",
       " 'Program Files',\n",
       " 'Program Files (x86)',\n",
       " 'ProgramData',\n",
       " 'Recovery',\n",
       " 'swapfile.sys',\n",
       " 'SYSTAG.BIN',\n",
       " 'System Volume Information',\n",
       " 'TurboC++',\n",
       " 'Users',\n",
       " 'Windows',\n",
       " 'ZVDefs']"
      ]
     },
     "execution_count": 59,
     "metadata": {},
     "output_type": "execute_result"
    }
   ],
   "source": [
    "# pwd()\n",
    "os.chdir(r\"C:/\")\n",
    "os.listdir()"
   ]
  },
  {
   "cell_type": "markdown",
   "metadata": {},
   "source": [
    "# 6. Use multiprocessing to create three separate processes. Make each one wait a random number of seconds between one and five, print the current time, and then exit.\n"
   ]
  },
  {
   "cell_type": "code",
   "execution_count": 124,
   "metadata": {},
   "outputs": [
    {
     "name": "stdout",
     "output_type": "stream",
     "text": [
      "from method 1 seconds 50 1620581450.304162from method 2 seconds 50 1620581453.323266\n",
      "\n",
      "from method 3 seconds 50 1620581454.310206\n"
     ]
    }
   ],
   "source": [
    "import threading\n",
    "import random\n",
    "import time\n",
    "\n",
    "def p1():\n",
    "    a=time.time()\n",
    "    ran=random.randrange(1,6)\n",
    "    b=time.localtime().tm_sec\n",
    "    time.sleep(ran)\n",
    "    print(f\"from method 1 seconds {b} %f\"%(a))\n",
    "    \n",
    "   \n",
    "def p2():\n",
    "    b=time.localtime().tm_sec\n",
    "    ran=random.randrange(1,6)\n",
    "    time.sleep(ran)\n",
    "    a=time.time()\n",
    "    print(f\"from method 2 seconds {b} %f\"%(a))\n",
    "    \n",
    "def p3():\n",
    "    b=time.localtime().tm_sec\n",
    "    ran=random.randrange(1,6)\n",
    "    time.sleep(ran)\n",
    "    a=time.time()\n",
    "    print(f\"from method 3 seconds {b} %f\"%(a))\n",
    "    \n",
    "    time.sleep(2.4)\n",
    "t1=threading.Thread(target=p1)\n",
    "t2=threading.Thread(target=p2)\n",
    "t3=threading.Thread(target=p3)\n",
    "\n",
    "t1.start()\n",
    "t2.start()\n",
    "t3.start()"
   ]
  },
  {
   "cell_type": "markdown",
   "metadata": {},
   "source": [
    "# 7. Create a date object of your day of birth."
   ]
  },
  {
   "cell_type": "code",
   "execution_count": 131,
   "metadata": {},
   "outputs": [
    {
     "data": {
      "text/plain": [
       "16"
      ]
     },
     "execution_count": 131,
     "metadata": {},
     "output_type": "execute_result"
    }
   ],
   "source": [
    "date=datetime.datetime(2000,9,16)\n",
    "date.day"
   ]
  },
  {
   "cell_type": "markdown",
   "metadata": {},
   "source": [
    "# 8. What day of the week was your day of birth?"
   ]
  },
  {
   "cell_type": "code",
   "execution_count": 136,
   "metadata": {},
   "outputs": [
    {
     "data": {
      "text/plain": [
       "5"
      ]
     },
     "execution_count": 136,
     "metadata": {},
     "output_type": "execute_result"
    }
   ],
   "source": [
    "date.weekday()"
   ]
  },
  {
   "cell_type": "markdown",
   "metadata": {},
   "source": [
    "# 9. When will you be (or when were you) 10,000 days old?"
   ]
  },
  {
   "cell_type": "code",
   "execution_count": 137,
   "metadata": {},
   "outputs": [],
   "source": [
    "import pandas as pd\n",
    "startdate = \"16/09/2000\"\n",
    "enddate = pd.to_datetime(startdate) + pd.DateOffset(days=10000)"
   ]
  },
  {
   "cell_type": "code",
   "execution_count": 138,
   "metadata": {},
   "outputs": [
    {
     "data": {
      "text/plain": [
       "Timestamp('2028-02-02 00:00:00')"
      ]
     },
     "execution_count": 138,
     "metadata": {},
     "output_type": "execute_result"
    }
   ],
   "source": [
    "enddate"
   ]
  },
  {
   "cell_type": "code",
   "execution_count": null,
   "metadata": {},
   "outputs": [],
   "source": []
  }
 ],
 "metadata": {
  "kernelspec": {
   "display_name": "Python 3",
   "language": "python",
   "name": "python3"
  },
  "language_info": {
   "codemirror_mode": {
    "name": "ipython",
    "version": 3
   },
   "file_extension": ".py",
   "mimetype": "text/x-python",
   "name": "python",
   "nbconvert_exporter": "python",
   "pygments_lexer": "ipython3",
   "version": "3.8.10"
  }
 },
 "nbformat": 4,
 "nbformat_minor": 4
}
