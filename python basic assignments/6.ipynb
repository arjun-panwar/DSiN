{
 "cells": [
  {
   "cell_type": "markdown",
   "id": "b2b11f4d-ab0f-4f1d-89fa-641a8ab83d4c",
   "metadata": {},
   "source": [
    "## 1. What are escape characters, and how do you use them?\n"
   ]
  },
  {
   "cell_type": "markdown",
   "id": "5a352f39-0fe6-4eef-88b9-3bceb5cb634e",
   "metadata": {},
   "source": [
    "Escape characters are used in strings when we wanna use some predefiend python characters in our string. WE use  backslash \\ followed by the character to use them in string`"
   ]
  },
  {
   "cell_type": "markdown",
   "id": "a8b2f467-879d-4aab-8aba-d411e0f03fc3",
   "metadata": {},
   "source": [
    "## 2. What do the escape characters n and t stand for?\n"
   ]
  },
  {
   "cell_type": "markdown",
   "id": "38881810-fff4-4ff4-b58d-78453c5036e4",
   "metadata": {},
   "source": [
    "n is for next line \n",
    "\n",
    "t is for tab"
   ]
  },
  {
   "cell_type": "markdown",
   "id": "0d886a55-9aef-4ace-bc94-d8f2183005c0",
   "metadata": {},
   "source": [
    "## 3. What is the way to include backslash characters in a string?\n"
   ]
  },
  {
   "cell_type": "markdown",
   "id": "1b6c6261-a297-43fc-97ee-8f282dd8cbc4",
   "metadata": {},
   "source": [
    "use to backslash"
   ]
  },
  {
   "cell_type": "code",
   "execution_count": 7,
   "id": "80f97c22-2510-472b-9b17-a276a9094acf",
   "metadata": {},
   "outputs": [
    {
     "name": "stdout",
     "output_type": "stream",
     "text": [
      "\\\n"
     ]
    }
   ],
   "source": [
    "print(\"\\\\\")"
   ]
  },
  {
   "cell_type": "markdown",
   "id": "8ae9505e-0166-4af0-925d-3d06663c9c27",
   "metadata": {},
   "source": [
    "## 4. The string &quot;Howl&#39;s Moving Castle&quot; is a correct value. Why isn't the single quote character in the word Howl's not escaped a problem?\n"
   ]
  },
  {
   "cell_type": "markdown",
   "id": "01127035-8a65-45eb-9a21-4565a492e568",
   "metadata": {},
   "source": [
    "Because we have used double quotes"
   ]
  },
  {
   "cell_type": "markdown",
   "id": "6107ab9b-8725-41a0-82b5-f059ead577c3",
   "metadata": {},
   "source": [
    "## 5. How do you write a string of newlines if you don&#39;t want to use the n character?"
   ]
  },
  {
   "cell_type": "markdown",
   "id": "5c35026c-7d81-43f3-ac6e-187a207ce0a1",
   "metadata": {},
   "source": [
    "by using triple qoute ''' text '''"
   ]
  },
  {
   "cell_type": "code",
   "execution_count": 9,
   "id": "ae50868e-fd27-47f4-bcfa-1e4911521b88",
   "metadata": {},
   "outputs": [
    {
     "name": "stdout",
     "output_type": "stream",
     "text": [
      "\n",
      "hello world\n",
      "My name is Arjun\n",
      "\n"
     ]
    }
   ],
   "source": [
    "print('''\n",
    "hello world\n",
    "My name is Arjun\n",
    "''')"
   ]
  },
  {
   "cell_type": "markdown",
   "id": "82f14d4d-464f-4747-ac9f-66521b5c19e3",
   "metadata": {},
   "source": [
    "## 6. What are the values of the given expressions?\n"
   ]
  },
  {
   "cell_type": "raw",
   "id": "c80adefc-14db-45e2-8bdf-8e47318a784d",
   "metadata": {},
   "source": [
    "'Hello, world!'[1] = 'e'\n",
    "'Hello, world!'[0:5] ='Hello'\n",
    "'Hello, world!'[:5] = 'Hello'\n",
    "'Hello, world!'[3:] = 'lo, world!'"
   ]
  },
  {
   "cell_type": "markdown",
   "id": "08909b76-ae2e-4c52-aa81-c43fba097741",
   "metadata": {},
   "source": [
    "## 7. What are the values of the following expressions?"
   ]
  },
  {
   "cell_type": "raw",
   "id": "af7ac3f5-a82f-45d2-931b-b8a88f9ea6a5",
   "metadata": {},
   "source": [
    "'Hello'.upper() = \"HELLO\"\n",
    "'Hello'.upper().isupper() = True\n",
    "'Hello'.upper().lower() = \"hello\""
   ]
  },
  {
   "cell_type": "markdown",
   "id": "bded7cb3-300f-4c41-8070-1347f6e5a2a5",
   "metadata": {},
   "source": [
    "## 8. What are the values of the following expressions?"
   ]
  },
  {
   "cell_type": "markdown",
   "id": "455a7633-3d23-4455-86c8-67f86acbf6a6",
   "metadata": {},
   "source": [
    "#### 'Remember, remember, the fifth of July.'.split()\n",
    "['Remember,', 'remember,', 'the', 'fifth', 'of', 'July.']"
   ]
  },
  {
   "cell_type": "markdown",
   "id": "4f11e22f-7ffe-4d0b-a829-d885c1deb23c",
   "metadata": {},
   "source": [
    "#### '-'.join('There can only one.'.split())\n",
    "'There-can-only-one.'"
   ]
  },
  {
   "cell_type": "markdown",
   "id": "fe5787a9-07fd-458c-a2c0-9cf6e1d9ee97",
   "metadata": {},
   "source": [
    "## 9. What are the methods for right-justifying, left-justifying, and centering a string?\n"
   ]
  },
  {
   "cell_type": "raw",
   "id": "7323eebc-1eaa-411d-aa83-97014f2971eb",
   "metadata": {},
   "source": [
    "left-justifying = ljust(), \n",
    "right-justifying = rjust()\n",
    "centering = center()"
   ]
  },
  {
   "cell_type": "markdown",
   "id": "3dba6fa0-0802-4b7b-92bd-a30ec47977a9",
   "metadata": {},
   "source": [
    "## 10. What is the best way to remove whitespace characters from the start or end?"
   ]
  },
  {
   "cell_type": "code",
   "execution_count": 17,
   "id": "7cb85652-e63d-4038-a5b4-a79b61573ee4",
   "metadata": {},
   "outputs": [
    {
     "data": {
      "text/plain": [
       "'Whatisthebestwaytoremovewhitespacecharactersfromthestartorend?'"
      ]
     },
     "execution_count": 17,
     "metadata": {},
     "output_type": "execute_result"
    }
   ],
   "source": [
    "s=\"What is the best way to remove whitespace characters from the start or end?\"\n",
    "s.replace(\" \",\"\")"
   ]
  },
  {
   "cell_type": "code",
   "execution_count": null,
   "id": "bee27e36-c141-4414-8caf-3beee7ecb110",
   "metadata": {},
   "outputs": [],
   "source": []
  }
 ],
 "metadata": {
  "kernelspec": {
   "display_name": "Python 3",
   "language": "python",
   "name": "python3"
  },
  "language_info": {
   "codemirror_mode": {
    "name": "ipython",
    "version": 3
   },
   "file_extension": ".py",
   "mimetype": "text/x-python",
   "name": "python",
   "nbconvert_exporter": "python",
   "pygments_lexer": "ipython3",
   "version": "3.8.5"
  }
 },
 "nbformat": 4,
 "nbformat_minor": 5
}
