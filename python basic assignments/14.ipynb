{
 "cells": [
  {
   "cell_type": "markdown",
   "id": "4d5fecbd-cd5f-4f42-ad56-e56b78b00548",
   "metadata": {},
   "source": [
    "1. What does RGBA stand for?\n"
   ]
  },
  {
   "cell_type": "raw",
   "id": "73c2ee1a-2661-473c-9fc8-d295226e263e",
   "metadata": {},
   "source": [
    "Red-Green-Blue-Alpha"
   ]
  },
  {
   "cell_type": "markdown",
   "id": "736b84eb-2c5d-4ea2-98ea-59b07d1b83a4",
   "metadata": {},
   "source": [
    "2. From the Pillow module, how do you get the RGBA value of any images?\n"
   ]
  },
  {
   "cell_type": "raw",
   "id": "a78373c0-9b33-4d97-9177-f291c89929b8",
   "metadata": {},
   "source": [
    "img.convert(“RGBA”)"
   ]
  },
  {
   "cell_type": "markdown",
   "id": "e91380ba-0ace-40d0-870e-3311781f14d0",
   "metadata": {},
   "source": [
    "3. What is a box tuple, and how does it work?\n"
   ]
  },
  {
   "cell_type": "raw",
   "id": "84b224c0-cff8-4cff-a027-782d71d7e4ec",
   "metadata": {},
   "source": [
    "The box.tuple submodule provides read-only access for the tuple userdata type. It allows, for a single tuple: selective retrieval of the field contents, retrieval of information about size, iteration over all the fields, and conversion to a Lua table."
   ]
  },
  {
   "cell_type": "markdown",
   "id": "d397b473-50a8-4843-bd63-5a07f86ae106",
   "metadata": {},
   "source": [
    "4. Use your image and load in notebook then, How can you find out the width and height of an\n",
    "Image object?\n"
   ]
  },
  {
   "cell_type": "raw",
   "id": "bafb1a03-c764-48a5-8d34-f9d244d7aa14",
   "metadata": {},
   "source": [
    "img.width\n",
    "img.height"
   ]
  },
  {
   "cell_type": "markdown",
   "id": "22fb2a42-b859-484a-a985-8e70bbaa1c17",
   "metadata": {},
   "source": [
    "5. What method would you call to get Image object for a 100×100 image, excluding the lower-left\n",
    "quarter of it?\n"
   ]
  },
  {
   "cell_type": "raw",
   "id": "84571807-273c-42f9-8595-383ab179eb15",
   "metadata": {},
   "source": [
    "img.crop"
   ]
  },
  {
   "cell_type": "markdown",
   "id": "dc5e0f32-72cb-4c75-85ea-da0c713c778e",
   "metadata": {},
   "source": [
    "6. After making changes to an Image object, how could you save it as an image file?\n"
   ]
  },
  {
   "cell_type": "raw",
   "id": "df94e31a-a9a0-4d20-bf2b-72049662e617",
   "metadata": {},
   "source": [
    "img.save('drawing.png')"
   ]
  },
  {
   "cell_type": "markdown",
   "id": "770847ec-2e15-480d-af13-a67dd2aef962",
   "metadata": {},
   "source": [
    "7. What module contains Pillow’s shape-drawing code?\n"
   ]
  },
  {
   "cell_type": "raw",
   "id": "c77df37c-9366-4497-b503-8a4664ae3450",
   "metadata": {},
   "source": [
    "ImageDraw"
   ]
  },
  {
   "cell_type": "markdown",
   "id": "bc02e5a9-61f8-4daa-926a-76dfc18a7f46",
   "metadata": {},
   "source": [
    "8. Image objects do not have drawing methods. What kind of object does? How do you get this kind\n",
    "of object?"
   ]
  },
  {
   "cell_type": "raw",
   "id": "9077c4c2-7fc0-4c92-bf70-429e057b0d9f",
   "metadata": {},
   "source": [
    "GraphWin"
   ]
  }
 ],
 "metadata": {
  "kernelspec": {
   "display_name": "Python 3",
   "language": "python",
   "name": "python3"
  },
  "language_info": {
   "codemirror_mode": {
    "name": "ipython",
    "version": 3
   },
   "file_extension": ".py",
   "mimetype": "text/x-python",
   "name": "python",
   "nbconvert_exporter": "python",
   "pygments_lexer": "ipython3",
   "version": "3.8.10"
  }
 },
 "nbformat": 4,
 "nbformat_minor": 5
}
