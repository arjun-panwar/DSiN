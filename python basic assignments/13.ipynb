{
 "cells": [
  {
   "cell_type": "markdown",
   "id": "cd9b58b2-0b7f-4dc0-9c98-c174ff35da9e",
   "metadata": {},
   "source": [
    "1. What advantages do Excel spreadsheets have over CSV spreadsheets?"
   ]
  },
  {
   "cell_type": "raw",
   "id": "2e6c8e45-ac33-46aa-9a23-09e89e165edc",
   "metadata": {},
   "source": [
    "While Excel (XLS and XLSX) file formats are better for storing more complex data, CSV files are supported by nearly all data upload interfaces. If you are planning to move your data between platforms, export and import it from one interface to another, you might be better off with the CSV file format."
   ]
  },
  {
   "cell_type": "markdown",
   "id": "57edd97a-9e86-49b2-b083-d46fefca820b",
   "metadata": {},
   "source": [
    "\n",
    "2.What do you pass to csv.reader() and csv.writer() to create reader and writer objects?\n"
   ]
  },
  {
   "cell_type": "code",
   "execution_count": null,
   "id": "2886fbd3-14ef-4b38-b919-760beca33199",
   "metadata": {},
   "outputs": [],
   "source": [
    "file obkect and delimiter = '\\t'"
   ]
  },
  {
   "cell_type": "markdown",
   "id": "a2de6797-dcd4-4c9c-8cc9-28f1ff315ea6",
   "metadata": {},
   "source": [
    "3. What modes do File objects for reader and writer objects need to be opened in?"
   ]
  },
  {
   "cell_type": "code",
   "execution_count": null,
   "id": "02a289dd-71f9-4ca3-8510-1b40c061014c",
   "metadata": {},
   "outputs": [],
   "source": [
    "r,w"
   ]
  },
  {
   "cell_type": "markdown",
   "id": "71c92a14-7c50-46a8-846b-5f5f5b0fd2cc",
   "metadata": {},
   "source": [
    "\n",
    "4. What method takes a list argument and writes it to a CSV file?\n"
   ]
  },
  {
   "cell_type": "raw",
   "id": "7578ca72-7aee-440c-b2fd-b127d2eaf18e",
   "metadata": {},
   "source": [
    "writerows()"
   ]
  },
  {
   "cell_type": "markdown",
   "id": "1fa41a2e-4a97-4cf3-8b44-abc92063584e",
   "metadata": {},
   "source": [
    "5. What do the keyword arguments delimiter and line terminator do?\n"
   ]
  },
  {
   "cell_type": "raw",
   "id": "c0ef1a63-6034-4b04-b19b-57ed59b6e883",
   "metadata": {},
   "source": [
    " line terminator is the character that comes at the end of a row.\n",
    "    delimiter is seprater of data"
   ]
  },
  {
   "cell_type": "markdown",
   "id": "32675e2c-2a48-481c-a1c9-b1301109d8a4",
   "metadata": {},
   "source": [
    "6. What function takes a string of JSON data and returns a Python data structure?\n"
   ]
  },
  {
   "cell_type": "code",
   "execution_count": null,
   "id": "4bd4a7b0-96e6-47fc-a65a-db4444d59102",
   "metadata": {},
   "outputs": [],
   "source": [
    "loads() "
   ]
  },
  {
   "cell_type": "markdown",
   "id": "84a555ec-0f9f-4f06-b49c-467327363258",
   "metadata": {},
   "source": [
    "7. What function takes a Python data structure and returns a string of JSON data?"
   ]
  },
  {
   "cell_type": "code",
   "execution_count": null,
   "id": "120e081c-3ae6-4b67-992c-8f843ab880ed",
   "metadata": {},
   "outputs": [],
   "source": [
    "pd.tojason"
   ]
  },
  {
   "cell_type": "code",
   "execution_count": null,
   "id": "02f0068b-d9fa-44bf-bbbc-d7519cc5f2de",
   "metadata": {},
   "outputs": [],
   "source": []
  }
 ],
 "metadata": {
  "kernelspec": {
   "display_name": "Python 3",
   "language": "python",
   "name": "python3"
  },
  "language_info": {
   "codemirror_mode": {
    "name": "ipython",
    "version": 3
   },
   "file_extension": ".py",
   "mimetype": "text/x-python",
   "name": "python",
   "nbconvert_exporter": "python",
   "pygments_lexer": "ipython3",
   "version": "3.8.10"
  }
 },
 "nbformat": 4,
 "nbformat_minor": 5
}
