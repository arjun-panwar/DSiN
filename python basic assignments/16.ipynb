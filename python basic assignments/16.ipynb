{
 "cells": [
  {
   "cell_type": "markdown",
   "metadata": {},
   "source": [
    "# 1. Create a list called years_list, starting with the year of your birth, and each year thereafter until the year of your fifth birthday. For example, if you were born in 1980. the list would be years_list = [1980, 1981, 1982, 1983, 1984, 1985]."
   ]
  },
  {
   "cell_type": "code",
   "execution_count": 1,
   "metadata": {},
   "outputs": [
    {
     "data": {
      "text/plain": [
       "[2001, 2002, 2003, 2004, 2005]"
      ]
     },
     "execution_count": 1,
     "metadata": {},
     "output_type": "execute_result"
    }
   ],
   "source": [
    "year_list=list(range(2001,2006))\n",
    "year_list"
   ]
  },
  {
   "cell_type": "markdown",
   "metadata": {},
   "source": [
    "# 2. In which year in years_list was your third birthday? Remember, you were 0 years of age for your first year.\n"
   ]
  },
  {
   "cell_type": "code",
   "execution_count": 3,
   "metadata": {},
   "outputs": [
    {
     "data": {
      "text/plain": [
       "2003"
      ]
     },
     "execution_count": 3,
     "metadata": {},
     "output_type": "execute_result"
    }
   ],
   "source": [
    "year_list[2]"
   ]
  },
  {
   "cell_type": "markdown",
   "metadata": {},
   "source": [
    "## 3.In the years list, which year were you the oldest?"
   ]
  },
  {
   "cell_type": "code",
   "execution_count": 3,
   "metadata": {},
   "outputs": [
    {
     "data": {
      "text/plain": [
       "2005"
      ]
     },
     "execution_count": 3,
     "metadata": {},
     "output_type": "execute_result"
    }
   ],
   "source": [
    "year_list[4]"
   ]
  },
  {
   "cell_type": "markdown",
   "metadata": {},
   "source": [
    "# 4. Make a list called things with these three strings as elements: \"mozzarella\", \"cinderella\", \"salmonella\"."
   ]
  },
  {
   "cell_type": "code",
   "execution_count": 5,
   "metadata": {},
   "outputs": [
    {
     "data": {
      "text/plain": [
       "['mozzarella', 'cinderella', 'salmonella']"
      ]
     },
     "execution_count": 5,
     "metadata": {},
     "output_type": "execute_result"
    }
   ],
   "source": [
    "things=['mozzarella','cinderella','salmonella']\n",
    "things"
   ]
  },
  {
   "cell_type": "markdown",
   "metadata": {},
   "source": [
    "# 5. Capitalize the element in things that refers to a person and then print the list. Did it change the element in the list?"
   ]
  },
  {
   "cell_type": "code",
   "execution_count": 6,
   "metadata": {},
   "outputs": [
    {
     "name": "stdout",
     "output_type": "stream",
     "text": [
      "person list ['MOZZARELLA', 'CINDERELLA', 'SALMONELLA']\n",
      "things list ['MOZZARELLA', 'CINDERELLA', 'SALMONELLA']\n"
     ]
    }
   ],
   "source": [
    "#Yes it changes in reffering list too.\n",
    "person=things\n",
    "for i in range(len(things)):\n",
    "    things[i]=things[i].upper()\n",
    "print('person list',person)\n",
    "print('things list',things)\n"
   ]
  },
  {
   "cell_type": "markdown",
   "metadata": {},
   "source": [
    "# 6. Make a surprise list with the elements \"Groucho,\" \"Chico,\" and \"Harpo.\""
   ]
  },
  {
   "cell_type": "code",
   "execution_count": 7,
   "metadata": {},
   "outputs": [
    {
     "data": {
      "text/plain": [
       "['Groucho', 'Chico', 'Harpo']"
      ]
     },
     "execution_count": 7,
     "metadata": {},
     "output_type": "execute_result"
    }
   ],
   "source": [
    "surprise=['Groucho','Chico','Harpo']\n",
    "surprise"
   ]
  },
  {
   "cell_type": "markdown",
   "metadata": {},
   "source": [
    "# 7. Lowercase the last element of the surprise list, reverse it, and then capitalize it."
   ]
  },
  {
   "cell_type": "code",
   "execution_count": 10,
   "metadata": {},
   "outputs": [
    {
     "name": "stdout",
     "output_type": "stream",
     "text": [
      "['GROUCHo', 'CHICo', 'HARPo']\n"
     ]
    },
    {
     "data": {
      "text/plain": [
       "['GROUCHO', 'CHICO', 'HARPO']"
      ]
     },
     "execution_count": 10,
     "metadata": {},
     "output_type": "execute_result"
    }
   ],
   "source": [
    "ls=[]\n",
    "for i in range(len(surprise)):\n",
    "    surprise[i]=surprise[i][0:-1]+surprise[i][-1].lower()\n",
    "    surprise=list(reversed(surprise))\n",
    "print(surprise)\n",
    "for i in range(len(surprise)):\n",
    "    surprise[i]=surprise[i].upper()\n",
    "surprise\n",
    "    "
   ]
  },
  {
   "cell_type": "markdown",
   "metadata": {},
   "source": [
    "# 8. Make an English-to-French dictionary called e2f and print it. Here are your starter words: dog is chien, cat is chat, and walrus is morse."
   ]
  },
  {
   "cell_type": "code",
   "execution_count": 8,
   "metadata": {},
   "outputs": [
    {
     "name": "stdout",
     "output_type": "stream",
     "text": [
      "Welcome to a French Dictionary\n",
      "Choose [1] (English to French)   or   [2] (French to English) \n",
      "Enter 1 or 2 1\n",
      "Type your word: 2\n",
      "Please confirm - Your word is \"2\"\n",
      "ENG-->FRENCH [1]   or   FRENCH-->ENGLISH [2]2\n",
      "Repeating process...\n"
     ]
    }
   ],
   "source": [
    "def opening_statement():\n",
    "    print(\"Welcome to a French Dictionary\")\n",
    "    while True:\n",
    "        \n",
    "        print(\"Choose [1] (English to French)   or   [2] (French to English) \")\n",
    "        choice = input(\"Enter 1 or 2 \")\n",
    "        if choice == 1:\n",
    "            print(\"You have selected the English to French Dictionary\")\n",
    "#             secondary_statement()\n",
    "        elif choice == 2:\n",
    "            print(\"You have selected the French to English Dictionary\")\n",
    "#             secondary_statement()\n",
    "        break\n",
    "\n",
    "def secondary_statement():\n",
    "    \n",
    "    while True:\n",
    "        word = input(\"Type your word: \")\n",
    "        word = word.lower()\n",
    "        print('Please confirm - Your word is \"%s\"' % (word))\n",
    "        answer= input(\"ENG-->FRENCH [1]   or   FRENCH-->ENGLISH [2]\")\n",
    "        if answer == '1':\n",
    "            print(\"Translating...\")\n",
    "#             if word in French_Dictionary.values():\n",
    "#                 print(French_Dictionary[word])\n",
    "        elif answer == '2':\n",
    "            print(\"Repeating process...\")\n",
    "            for i,j in French_Dictionary.items():\n",
    "                if i==word:\n",
    "                    print(j)\n",
    "        break\n",
    "                \n",
    "            \n",
    "        \n",
    "\n",
    "#Will add more and more words manually to dictionary\n",
    "French_Dictionary = {\n",
    "'aller' : 'to go',\n",
    "'avoir' : 'to have',\n",
    "'dog is chien':'dog is dog',\n",
    "'cat is chat':'cat is cat',\n",
    "'walrus is more':'walrus is more'\n",
    "}\n",
    "keys=[]\n",
    "values=[]\n",
    "for i in French_Dictionary:\n",
    "    keys.append(i)\n",
    "    values.append(French_Dictionary[i])\n",
    "    \n",
    "(opening_statement())\n",
    "(secondary_statement())"
   ]
  },
  {
   "cell_type": "markdown",
   "metadata": {},
   "source": [
    "# 9. Write the French word for walrus in your three-word dictionary e2f."
   ]
  },
  {
   "cell_type": "code",
   "execution_count": 9,
   "metadata": {},
   "outputs": [
    {
     "data": {
      "text/plain": [
       "{'aller': 'to go',\n",
       " 'avoir': 'to have',\n",
       " 'dog is chien': 'dog is dog',\n",
       " 'cat is chat': 'cat is cat',\n",
       " 'walrus is more': 'walrus is more'}"
      ]
     },
     "execution_count": 9,
     "metadata": {},
     "output_type": "execute_result"
    }
   ],
   "source": [
    "French_Dictionary"
   ]
  },
  {
   "cell_type": "markdown",
   "metadata": {},
   "source": [
    "# 10. Make a French-to-English dictionary called f2e from e2f. Use the items method."
   ]
  },
  {
   "cell_type": "code",
   "execution_count": 10,
   "metadata": {},
   "outputs": [
    {
     "name": "stdout",
     "output_type": "stream",
     "text": [
      "enter any french word to cnvertaller\n",
      "to go\n"
     ]
    }
   ],
   "source": [
    "inp=input('enter any french word to cnvert')\n",
    "inp=inp.lower()\n",
    "for i,j in French_Dictionary.items():\n",
    "    if i==inp:\n",
    "        print(j)"
   ]
  },
  {
   "cell_type": "markdown",
   "metadata": {},
   "source": [
    "# 11. Print the English version of the French word chien using f2e."
   ]
  },
  {
   "cell_type": "code",
   "execution_count": 12,
   "metadata": {},
   "outputs": [],
   "source": [
    "# French_Dictionary['chien']=\n",
    "# French_Dictionary.pop()\n",
    "French_Dictionary['chien']='dog'"
   ]
  },
  {
   "cell_type": "code",
   "execution_count": 13,
   "metadata": {},
   "outputs": [
    {
     "data": {
      "text/plain": [
       "{'aller': 'to go',\n",
       " 'avoir': 'to have',\n",
       " 'dog is chien': 'dog is dog',\n",
       " 'cat is chat': 'cat is cat',\n",
       " 'walrus is more': 'walrus is more',\n",
       " 'chien': 'dog'}"
      ]
     },
     "execution_count": 13,
     "metadata": {},
     "output_type": "execute_result"
    }
   ],
   "source": [
    "French_Dictionary"
   ]
  },
  {
   "cell_type": "markdown",
   "metadata": {},
   "source": [
    "# 12. Make and print a set of English words from the keys in e2f."
   ]
  },
  {
   "cell_type": "code",
   "execution_count": 14,
   "metadata": {},
   "outputs": [
    {
     "name": "stdout",
     "output_type": "stream",
     "text": [
      "to go\n",
      "to have\n",
      "dog is dog\n",
      "cat is cat\n",
      "walrus is more\n",
      "dog\n"
     ]
    }
   ],
   "source": [
    "for i,j in French_Dictionary.items():\n",
    "    print(j)"
   ]
  },
  {
   "cell_type": "markdown",
   "metadata": {},
   "source": [
    "# 13. Make a multilevel dictionary called life. Use these strings for the topmost keys: 'animals', 'plants', and 'other'. Make the 'animals' key refer to another dictionary with the keys 'cats', 'octopi', and 'emus'. Make the 'cats' key refer to a list of strings with the values 'Henri', 'Grumpy', and 'Lucy'. Make all the other keys refer to empty dictionaries."
   ]
  },
  {
   "cell_type": "code",
   "execution_count": 32,
   "metadata": {},
   "outputs": [
    {
     "data": {
      "text/plain": [
       "{'animals': {'cats': ['Henri', 'Grumpy', 'Lucy'], 'octopi': {}, 'emus': {}},\n",
       " 'plants': {},\n",
       " 'other': {}}"
      ]
     },
     "execution_count": 32,
     "metadata": {},
     "output_type": "execute_result"
    }
   ],
   "source": [
    "life={'animals':{'cats':['Henri','Grumpy','Lucy'],'octopi':{},'emus':{}},'plants':{},'other':{}}\n",
    "life"
   ]
  },
  {
   "cell_type": "markdown",
   "metadata": {},
   "source": [
    "# 14. Print the top-level keys of life.\n"
   ]
  },
  {
   "cell_type": "code",
   "execution_count": 33,
   "metadata": {},
   "outputs": [
    {
     "data": {
      "text/plain": [
       "dict_keys(['animals', 'plants', 'other'])"
      ]
     },
     "execution_count": 33,
     "metadata": {},
     "output_type": "execute_result"
    }
   ],
   "source": [
    "life.keys()"
   ]
  },
  {
   "cell_type": "code",
   "execution_count": 35,
   "metadata": {},
   "outputs": [
    {
     "data": {
      "text/plain": [
       "dict_keys(['cats', 'octopi', 'emus'])"
      ]
     },
     "execution_count": 35,
     "metadata": {},
     "output_type": "execute_result"
    }
   ],
   "source": [
    "# 15. Print the keys for life['animals'].\n",
    "life['animals'].keys()"
   ]
  },
  {
   "cell_type": "code",
   "execution_count": 38,
   "metadata": {},
   "outputs": [
    {
     "data": {
      "text/plain": [
       "['Henri', 'Grumpy', 'Lucy']"
      ]
     },
     "execution_count": 38,
     "metadata": {},
     "output_type": "execute_result"
    }
   ],
   "source": [
    "# 16. Print the values for life['animals']['cats']\n",
    "\n",
    "\n",
    "\n",
    "life['animals']['cats']"
   ]
  },
  {
   "cell_type": "code",
   "execution_count": null,
   "metadata": {},
   "outputs": [],
   "source": []
  }
 ],
 "metadata": {
  "kernelspec": {
   "display_name": "Python 3",
   "language": "python",
   "name": "python3"
  },
  "language_info": {
   "codemirror_mode": {
    "name": "ipython",
    "version": 3
   },
   "file_extension": ".py",
   "mimetype": "text/x-python",
   "name": "python",
   "nbconvert_exporter": "python",
   "pygments_lexer": "ipython3",
   "version": "3.8.10"
  }
 },
 "nbformat": 4,
 "nbformat_minor": 4
}
